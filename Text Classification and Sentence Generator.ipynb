{
 "cells": [
  {
   "cell_type": "markdown",
   "metadata": {},
   "source": [
    "<img src=\"images/cloud.png\" width=50% hight=50%>"
   ]
  },
  {
   "cell_type": "markdown",
   "metadata": {},
   "source": [
    "<center><h1>Text Classification and Sentence Generator</h1></center>"
   ]
  },
  {
   "cell_type": "markdown",
   "metadata": {},
   "source": [
    "<center><h3>----Validating and Tweaking RNN</h3></center>"
   ]
  },
  {
   "cell_type": "markdown",
   "metadata": {},
   "source": [
    "## Abstract\n",
    "As our title, our project is divided into two parts. The first part for our project is to compare recurrent neural network and other algorithms to classify the comments whether it is a good comment or not to validate whether RNN is suitable for text area. The second part is to use recurrent neural network make a sentence generator. It will generate relevant comments based on the values entered. This part is tweaking RNN and applying it in a novel way. The algorithms we used in the project are RNN(recurrent neural network), logistic regression, SVM(support vector machine), Random Forest Classifier, XGBoost Classifier, LSTM(Long Short Term Memory), GRU(Gated Recurrent Unit), and word embedding. Through the comparison, we find the RNN has the highest accuracy in text classification. It has about 84.3% accuracy. So RNN does a better job in text classification than other algorithms. In the sentence generator part, the best model structure is one GRU layer and its parameter is 512 and its accuracy is 18.99%. When we use low creativity, the generated word will be the highest appear frequency in the model. However, when we use the higher creativity, the generated word will be diverse."
   ]
  },
  {
   "cell_type": "markdown",
   "metadata": {},
   "source": [
    "## Methods\n",
    "\n",
    "Algorithms used.\n",
    "\n",
    "* For Part A:\n",
    "    * RNN(recurrent neural network)\n",
    "    * Logistic Regression\n",
    "    * Support Vector Machine(SVM)\n",
    "    * Bagging Algo : Random Forest Classifier\n",
    "    * Boosting Algo : XGBoost Classifier\n",
    "    * Word Embedding\n",
    "    \n",
    "* For Part B:\n",
    "    * RNN(recurrent neural network)\n",
    "    * Word Embedding\n",
    "    * LSTM(Long Short Term Memory)\n",
    "    * GRU(Gated Recurrent Unit)"
   ]
  },
  {
   "cell_type": "markdown",
   "metadata": {},
   "source": [
    "## Background\n",
    "Recurrent Neural Networks are the state of the art algorithm for sequential data and among others used by Apples Siri and Googles Voice Search. This is because it is the first algorithm that remembers its input, due to an internal memory, which makes it perfectly suited for Machine Learning problems that involve sequential data. It is one of the algorithms behind the scenes of the amazing achievements of Deep Learning in the past few years."
   ]
  },
  {
   "cell_type": "markdown",
   "metadata": {},
   "source": [
    "## Dataset\n",
    "This dataset consists of reviews of fine foods from amazon. The data span a period of more than 10 years, including all 500,000 reviews up to October 2012. Reviews include product and user information, ratings, and a plain text review. It also includes reviews from all other Amazon categories. The following is the link for the database: https://www.kaggle.com/snap/amazon-fine-food-reviews . What we use to classify is whether the comments are 5 star or not. In addition, what we use to sentence generator are the text of the database. "
   ]
  },
  {
   "cell_type": "markdown",
   "metadata": {},
   "source": [
    "Import the packages we will use."
   ]
  },
  {
   "cell_type": "code",
   "execution_count": 1,
   "metadata": {},
   "outputs": [],
   "source": [
    "import pandas as pd\n",
    "import seaborn as sns\n",
    "import matplotlib.pyplot as plt\n",
    "import numpy as np\n",
    "from pandas import Series\n",
    "%matplotlib inline"
   ]
  },
  {
   "cell_type": "code",
   "execution_count": 2,
   "metadata": {},
   "outputs": [],
   "source": [
    "from sklearn.feature_extraction.text import TfidfVectorizer\n",
    "from sklearn.linear_model import LogisticRegression\n",
    "from sklearn.model_selection import cross_val_score\n",
    "from scipy.sparse import hstack\n",
    "from scipy import sparse"
   ]
  },
  {
   "cell_type": "markdown",
   "metadata": {},
   "source": [
    "Let's import the dataset by reading csv and fill the null part."
   ]
  },
  {
   "cell_type": "code",
   "execution_count": 3,
   "metadata": {},
   "outputs": [],
   "source": [
    "train = pd.read_csv('amazon-fine-food-reviews/Reviews.csv').fillna(' ')"
   ]
  },
  {
   "cell_type": "markdown",
   "metadata": {},
   "source": [
    "Let's take a look at the data. The dataset has id, prohuctid, userId, profileName, helpfulnessNumerator, helpfulnessDenominator, score, time, summary, and text. What we need are only score and text.Because what we want to classify is whether the socre of text are 5 or not."
   ]
  },
  {
   "cell_type": "code",
   "execution_count": 4,
   "metadata": {},
   "outputs": [
    {
     "data": {
      "text/html": [
       "<div>\n",
       "<style scoped>\n",
       "    .dataframe tbody tr th:only-of-type {\n",
       "        vertical-align: middle;\n",
       "    }\n",
       "\n",
       "    .dataframe tbody tr th {\n",
       "        vertical-align: top;\n",
       "    }\n",
       "\n",
       "    .dataframe thead th {\n",
       "        text-align: right;\n",
       "    }\n",
       "</style>\n",
       "<table border=\"1\" class=\"dataframe\">\n",
       "  <thead>\n",
       "    <tr style=\"text-align: right;\">\n",
       "      <th></th>\n",
       "      <th>Id</th>\n",
       "      <th>ProductId</th>\n",
       "      <th>UserId</th>\n",
       "      <th>ProfileName</th>\n",
       "      <th>HelpfulnessNumerator</th>\n",
       "      <th>HelpfulnessDenominator</th>\n",
       "      <th>Score</th>\n",
       "      <th>Time</th>\n",
       "      <th>Summary</th>\n",
       "      <th>Text</th>\n",
       "    </tr>\n",
       "  </thead>\n",
       "  <tbody>\n",
       "    <tr>\n",
       "      <th>0</th>\n",
       "      <td>1</td>\n",
       "      <td>B001E4KFG0</td>\n",
       "      <td>A3SGXH7AUHU8GW</td>\n",
       "      <td>delmartian</td>\n",
       "      <td>1</td>\n",
       "      <td>1</td>\n",
       "      <td>5</td>\n",
       "      <td>1303862400</td>\n",
       "      <td>Good Quality Dog Food</td>\n",
       "      <td>I have bought several of the Vitality canned d...</td>\n",
       "    </tr>\n",
       "    <tr>\n",
       "      <th>1</th>\n",
       "      <td>2</td>\n",
       "      <td>B00813GRG4</td>\n",
       "      <td>A1D87F6ZCVE5NK</td>\n",
       "      <td>dll pa</td>\n",
       "      <td>0</td>\n",
       "      <td>0</td>\n",
       "      <td>1</td>\n",
       "      <td>1346976000</td>\n",
       "      <td>Not as Advertised</td>\n",
       "      <td>Product arrived labeled as Jumbo Salted Peanut...</td>\n",
       "    </tr>\n",
       "    <tr>\n",
       "      <th>2</th>\n",
       "      <td>3</td>\n",
       "      <td>B000LQOCH0</td>\n",
       "      <td>ABXLMWJIXXAIN</td>\n",
       "      <td>Natalia Corres \"Natalia Corres\"</td>\n",
       "      <td>1</td>\n",
       "      <td>1</td>\n",
       "      <td>4</td>\n",
       "      <td>1219017600</td>\n",
       "      <td>\"Delight\" says it all</td>\n",
       "      <td>This is a confection that has been around a fe...</td>\n",
       "    </tr>\n",
       "    <tr>\n",
       "      <th>3</th>\n",
       "      <td>4</td>\n",
       "      <td>B000UA0QIQ</td>\n",
       "      <td>A395BORC6FGVXV</td>\n",
       "      <td>Karl</td>\n",
       "      <td>3</td>\n",
       "      <td>3</td>\n",
       "      <td>2</td>\n",
       "      <td>1307923200</td>\n",
       "      <td>Cough Medicine</td>\n",
       "      <td>If you are looking for the secret ingredient i...</td>\n",
       "    </tr>\n",
       "    <tr>\n",
       "      <th>4</th>\n",
       "      <td>5</td>\n",
       "      <td>B006K2ZZ7K</td>\n",
       "      <td>A1UQRSCLF8GW1T</td>\n",
       "      <td>Michael D. Bigham \"M. Wassir\"</td>\n",
       "      <td>0</td>\n",
       "      <td>0</td>\n",
       "      <td>5</td>\n",
       "      <td>1350777600</td>\n",
       "      <td>Great taffy</td>\n",
       "      <td>Great taffy at a great price.  There was a wid...</td>\n",
       "    </tr>\n",
       "  </tbody>\n",
       "</table>\n",
       "</div>"
      ],
      "text/plain": [
       "   Id   ProductId          UserId                      ProfileName  \\\n",
       "0   1  B001E4KFG0  A3SGXH7AUHU8GW                       delmartian   \n",
       "1   2  B00813GRG4  A1D87F6ZCVE5NK                           dll pa   \n",
       "2   3  B000LQOCH0   ABXLMWJIXXAIN  Natalia Corres \"Natalia Corres\"   \n",
       "3   4  B000UA0QIQ  A395BORC6FGVXV                             Karl   \n",
       "4   5  B006K2ZZ7K  A1UQRSCLF8GW1T    Michael D. Bigham \"M. Wassir\"   \n",
       "\n",
       "   HelpfulnessNumerator  HelpfulnessDenominator  Score        Time  \\\n",
       "0                     1                       1      5  1303862400   \n",
       "1                     0                       0      1  1346976000   \n",
       "2                     1                       1      4  1219017600   \n",
       "3                     3                       3      2  1307923200   \n",
       "4                     0                       0      5  1350777600   \n",
       "\n",
       "                 Summary                                               Text  \n",
       "0  Good Quality Dog Food  I have bought several of the Vitality canned d...  \n",
       "1      Not as Advertised  Product arrived labeled as Jumbo Salted Peanut...  \n",
       "2  \"Delight\" says it all  This is a confection that has been around a fe...  \n",
       "3         Cough Medicine  If you are looking for the secret ingredient i...  \n",
       "4            Great taffy  Great taffy at a great price.  There was a wid...  "
      ]
     },
     "execution_count": 4,
     "metadata": {},
     "output_type": "execute_result"
    }
   ],
   "source": [
    "train.head()"
   ]
  },
  {
   "cell_type": "code",
   "execution_count": 5,
   "metadata": {},
   "outputs": [
    {
     "data": {
      "text/plain": [
       "Index(['Id', 'ProductId', 'UserId', 'ProfileName', 'HelpfulnessNumerator',\n",
       "       'HelpfulnessDenominator', 'Score', 'Time', 'Summary', 'Text'],\n",
       "      dtype='object')"
      ]
     },
     "execution_count": 5,
     "metadata": {},
     "output_type": "execute_result"
    }
   ],
   "source": [
    "train.columns"
   ]
  },
  {
   "cell_type": "markdown",
   "metadata": {},
   "source": [
    "The dataset have 568,454 raws and quantity is enough."
   ]
  },
  {
   "cell_type": "code",
   "execution_count": 6,
   "metadata": {},
   "outputs": [
    {
     "data": {
      "text/plain": [
       "(568454, 10)"
      ]
     },
     "execution_count": 6,
     "metadata": {},
     "output_type": "execute_result"
    }
   ],
   "source": [
    "train.shape"
   ]
  },
  {
   "cell_type": "markdown",
   "metadata": {},
   "source": [
    "Check if the data still has a null part."
   ]
  },
  {
   "cell_type": "code",
   "execution_count": 7,
   "metadata": {},
   "outputs": [
    {
     "data": {
      "text/plain": [
       "Id                        0\n",
       "ProductId                 0\n",
       "UserId                    0\n",
       "ProfileName               0\n",
       "HelpfulnessNumerator      0\n",
       "HelpfulnessDenominator    0\n",
       "Score                     0\n",
       "Time                      0\n",
       "Summary                   0\n",
       "Text                      0\n",
       "dtype: int64"
      ]
     },
     "execution_count": 7,
     "metadata": {},
     "output_type": "execute_result"
    }
   ],
   "source": [
    "train.isnull().sum()"
   ]
  },
  {
   "cell_type": "markdown",
   "metadata": {},
   "source": [
    "As we said above, we split the data to 5 score part and not 5 score part."
   ]
  },
  {
   "cell_type": "code",
   "execution_count": 8,
   "metadata": {},
   "outputs": [],
   "source": [
    "train_text_five = train['Text'][train['Score']==5]\n",
    "train_text_zero = train['Text'][train['Score']!=5]"
   ]
  },
  {
   "cell_type": "markdown",
   "metadata": {},
   "source": [
    "Print the amount of the data and we find the data is not balance."
   ]
  },
  {
   "cell_type": "code",
   "execution_count": 9,
   "metadata": {},
   "outputs": [
    {
     "data": {
      "text/plain": [
       "(205332,)"
      ]
     },
     "execution_count": 9,
     "metadata": {},
     "output_type": "execute_result"
    }
   ],
   "source": [
    "train_text_zero.shape"
   ]
  },
  {
   "cell_type": "code",
   "execution_count": 10,
   "metadata": {},
   "outputs": [
    {
     "data": {
      "text/plain": [
       "(363122,)"
      ]
     },
     "execution_count": 10,
     "metadata": {},
     "output_type": "execute_result"
    }
   ],
   "source": [
    "train_text_five.shape"
   ]
  },
  {
   "cell_type": "markdown",
   "metadata": {},
   "source": [
    "We simply cut the data into several parts. We have 120,000 traning data, 40,000 validation data and 40,000 test data."
   ]
  },
  {
   "cell_type": "code",
   "execution_count": 11,
   "metadata": {},
   "outputs": [],
   "source": [
    "train_text1=train_text_zero[:120000]\n",
    "train_text2=train_text_five[:120000]\n",
    "valid_text1=train_text_zero[120000:160000]\n",
    "valid_text2=train_text_five[120000:160000]\n",
    "test_text1=train_text_zero[160000:200000]\n",
    "test_text2=train_text_five[160000:200000]"
   ]
  },
  {
   "cell_type": "markdown",
   "metadata": {},
   "source": [
    "We still don't have a label for the data. So we create label for them which 0 is for the text is not 5 and 1 is for the text is 5."
   ]
  },
  {
   "cell_type": "code",
   "execution_count": 12,
   "metadata": {},
   "outputs": [],
   "source": [
    "train_label1=pd.Series(np.zeros(120000))\n",
    "train_label2=pd.Series(np.ones(120000))\n",
    "valid_label1=pd.Series(np.zeros(40000))\n",
    "valid_label2=pd.Series(np.ones(40000))\n",
    "test_label1=pd.Series(np.zeros(40000))\n",
    "test_label2=pd.Series(np.ones(40000))"
   ]
  },
  {
   "cell_type": "markdown",
   "metadata": {},
   "source": [
    "Mix the data and label together and now we have the complete data for fitting models."
   ]
  },
  {
   "cell_type": "code",
   "execution_count": 13,
   "metadata": {},
   "outputs": [],
   "source": [
    "X_train = pd.concat([train_text1,train_text2])\n",
    "Y_train=pd.concat([train_label1,train_label2])\n",
    "X_valid = pd.concat([valid_text1,valid_text2])\n",
    "Y_valid=pd.concat([valid_label1,valid_label2])\n",
    "X_test = pd.concat([test_text1,test_text2])\n",
    "Y_test=pd.concat([test_label1,test_label2])"
   ]
  },
  {
   "cell_type": "markdown",
   "metadata": {},
   "source": [
    "## Part A"
   ]
  },
  {
   "cell_type": "code",
   "execution_count": 11,
   "metadata": {},
   "outputs": [
    {
     "name": "stderr",
     "output_type": "stream",
     "text": [
      "Using TensorFlow backend.\n"
     ]
    }
   ],
   "source": [
    "import time\n",
    "\n",
    "start_time = time.time()\n",
    "\n",
    "from sklearn.model_selection import train_test_split\n",
    "\n",
    "import sys, os, re, csv, codecs, numpy as np, pandas as pd\n",
    "\n",
    "np.random.seed(32)\n",
    "\n",
    "os.environ[\"OMP_NUM_THREADS\"] = \"4\"\n",
    "\n",
    "from keras.preprocessing.text import Tokenizer\n",
    "\n",
    "from keras.preprocessing.sequence import pad_sequences\n",
    "\n",
    "from keras.layers import Dense, Input, LSTM, Embedding, Dropout, Activation, Conv1D, GRU, CuDNNGRU, CuDNNLSTM\n",
    "\n",
    "from keras.layers import Bidirectional, GlobalMaxPool1D, MaxPooling1D, Add, Flatten\n",
    "\n",
    "from keras.layers import GlobalAveragePooling1D, GlobalMaxPooling1D, concatenate, SpatialDropout1D\n",
    "\n",
    "from keras.models import Model, load_model\n",
    "\n",
    "from keras import initializers, regularizers, constraints, optimizers, layers, callbacks\n",
    "\n",
    "from keras import backend as K\n",
    "\n",
    "from keras.engine import InputSpec, Layer"
   ]
  },
  {
   "cell_type": "markdown",
   "metadata": {},
   "source": [
    "A popular and powerful way to associate a vector with a word is the use of dense \"word vectors\", also called \"word embeddings\". While the vectors obtained through one-hot encoding are binary, sparse (mostly made of zeros) and very high-dimensional (same dimensionality as the number of words in the vocabulary), \"word embeddings\" are low-dimensional floating point vectors (i.e. \"dense\" vectors, as opposed to sparse vectors). Unlike word vectors obtained via one-hot encoding, word embeddings are learned from data. It is common to see word embeddings that are 256-dimensional, 512-dimensional, or 1024-dimensional when dealing with very large vocabularies. On the other hand, one-hot encoding words generally leads to vectors that are 20,000-dimensional or higher (capturing a vocabulary of 20,000 token in this case). So, word embeddings pack more information into far fewer dimensions."
   ]
  },
  {
   "cell_type": "markdown",
   "metadata": {},
   "source": [
    "The thought of word embeddings is from the following link, but we don't use the code above it.<br/>\n",
    "https://nbviewer.jupyter.org/github/fchollet/deep-learning-with-python-notebooks/blob/master/6.1-using-word-embeddings.ipynb"
   ]
  },
  {
   "cell_type": "code",
   "execution_count": 15,
   "metadata": {},
   "outputs": [],
   "source": [
    "embed_size = 300\n",
    "\n",
    "# Number of words to consider as features\n",
    "max_features = 130000\n",
    "\n",
    "# Cut texts after this number of words \n",
    "# (among top max_features most common words)\n",
    "max_len = 220\n",
    "\n",
    "#convert them to lowercase\n",
    "raw_text_train = X_train.str.lower()\n",
    "\n",
    "raw_text_valid = X_valid.str.lower()\n",
    "\n",
    "raw_text_test = X_test.str.lower()\n",
    "\n",
    "\n",
    "tk = Tokenizer(num_words = max_features, lower = True)\n",
    "\n",
    "tk.fit_on_texts(raw_text_train)\n",
    "\n",
    "#Change the text to sequences\n",
    "X_train = tk.texts_to_sequences(raw_text_train)\n",
    "\n",
    "X_valid = tk.texts_to_sequences(raw_text_valid)\n",
    "\n",
    "X_test = tk.texts_to_sequences(raw_text_test)\n",
    "\n",
    "\n",
    "# This turns our lists into a 2D tensor of shape `(samples, maxlen)`\n",
    "X_train = pad_sequences(X_train, maxlen = max_len)\n",
    "\n",
    "X_valid = pad_sequences(X_valid, maxlen = max_len)\n",
    "\n",
    "X_test = pad_sequences(X_test, maxlen = max_len)"
   ]
  },
  {
   "cell_type": "markdown",
   "metadata": {},
   "source": [
    "Print the shape of each data."
   ]
  },
  {
   "cell_type": "code",
   "execution_count": 16,
   "metadata": {},
   "outputs": [
    {
     "data": {
      "text/plain": [
       "(80000, 220)"
      ]
     },
     "execution_count": 16,
     "metadata": {},
     "output_type": "execute_result"
    }
   ],
   "source": [
    "X_valid.shape"
   ]
  },
  {
   "cell_type": "code",
   "execution_count": 17,
   "metadata": {},
   "outputs": [
    {
     "data": {
      "text/plain": [
       "(80000, 220)"
      ]
     },
     "execution_count": 17,
     "metadata": {},
     "output_type": "execute_result"
    }
   ],
   "source": [
    "X_test.shape"
   ]
  },
  {
   "cell_type": "code",
   "execution_count": 18,
   "metadata": {},
   "outputs": [
    {
     "data": {
      "text/plain": [
       "(240000, 220)"
      ]
     },
     "execution_count": 18,
     "metadata": {},
     "output_type": "execute_result"
    }
   ],
   "source": [
    "X_train.shape"
   ]
  },
  {
   "cell_type": "code",
   "execution_count": 19,
   "metadata": {},
   "outputs": [
    {
     "data": {
      "text/plain": [
       "(80000,)"
      ]
     },
     "execution_count": 19,
     "metadata": {},
     "output_type": "execute_result"
    }
   ],
   "source": [
    "Y_valid.shape"
   ]
  },
  {
   "cell_type": "code",
   "execution_count": 20,
   "metadata": {},
   "outputs": [
    {
     "data": {
      "text/plain": [
       "(80000,)"
      ]
     },
     "execution_count": 20,
     "metadata": {},
     "output_type": "execute_result"
    }
   ],
   "source": [
    "Y_test.shape"
   ]
  },
  {
   "cell_type": "code",
   "execution_count": 21,
   "metadata": {},
   "outputs": [
    {
     "data": {
      "text/plain": [
       "(240000,)"
      ]
     },
     "execution_count": 21,
     "metadata": {},
     "output_type": "execute_result"
    }
   ],
   "source": [
    "Y_train.shape"
   ]
  },
  {
   "cell_type": "markdown",
   "metadata": {},
   "source": [
    "### RNN"
   ]
  },
  {
   "cell_type": "markdown",
   "metadata": {},
   "source": [
    "The Embedding layer is best understood as a dictionary mapping integer indices (which stand for specific words) to dense vectors. It takes as input integers, it looks up these integers into an internal dictionary, and it returns the associated vectors. It's effectively a dictionary lookup.\n",
    "\n",
    "The Embedding layer takes as input a 2D tensor of integers, of shape (samples, sequence_length), where each entry is a sequence of integers. It can embed sequences of variable lengths, so for instance we could feed into our embedding layer above batches that could have shapes (32, 10) (batch of 32 sequences of length 10) or (64, 15) (batch of 64 sequences of length 15). All sequences in a batch must have the same length, though (since we need to pack them into a single tensor), so sequences that are shorter than others should be padded with zeros, and sequences that are longer should be truncated.\n",
    "\n",
    "This layer returns a 3D floating point tensor, of shape (samples, sequence_length, embedding_dimensionality). Such a 3D tensor can then be processed by a RNN layer or a 1D convolution layer (both will be introduced in the next sections).\n",
    "\n",
    "When you instantiate an Embedding layer, its weights (its internal dictionary of token vectors) are initially random, just like with any other layer. During training, these word vectors will be gradually adjusted via backpropagation, structuring the space into something that the downstream model can exploit. Once fully trained, your embedding space will show a lot of structure -- a kind of structure specialized for the specific problem you were training your model for."
   ]
  },
  {
   "cell_type": "markdown",
   "metadata": {},
   "source": [
    "RNN (Recurrent Neural Networks)：<br/>\n",
    "Humans don’t start their thinking from scratch every second. As you read this essay, you understand each word based on your understanding of previous words. You don’t throw everything away and start thinking from scratch again. Your thoughts have persistence.\n",
    "\n",
    "Traditional neural networks can’t do this, and it seems like a major shortcoming. For example, imagine you want to classify what kind of event is happening at every point in a movie. It’s unclear how a traditional neural network could use its reasoning about previous events in the film to inform later ones.\n",
    "\n",
    "Recurrent neural networks address this issue. They are networks with loops in them, allowing information to persist."
   ]
  },
  {
   "cell_type": "markdown",
   "metadata": {},
   "source": [
    "<img src=\"images/RNN-rolled.png\" width=20% height=10%>"
   ]
  },
  {
   "cell_type": "markdown",
   "metadata": {},
   "source": [
    "In the above diagram, a chunk of neural network, AA, looks at some input xtxt and outputs a value htht. A loop allows information to be passed from one step of the network to the next.\n",
    "\n",
    "These loops make recurrent neural networks seem kind of mysterious. However, if you think a bit more, it turns out that they aren’t all that different than a normal neural network. A recurrent neural network can be thought of as multiple copies of the same network, each passing a message to a successor. Consider what happens if we unroll the loop:"
   ]
  },
  {
   "cell_type": "markdown",
   "metadata": {},
   "source": [
    "<img src=\"images/RNN-unrolled.png\" width=60% height=30%>"
   ]
  },
  {
   "cell_type": "markdown",
   "metadata": {},
   "source": [
    "This chain-like nature reveals that recurrent neural networks are intimately related to sequences and lists. They’re the natural architecture of neural network to use for such data."
   ]
  },
  {
   "cell_type": "markdown",
   "metadata": {},
   "source": [
    "We use GRU here, and we will introduce GRU in the sentence generator part. You can simply think the GRU is one kind of layer as convolution layer in CNN."
   ]
  },
  {
   "cell_type": "code",
   "execution_count": 100,
   "metadata": {},
   "outputs": [
    {
     "name": "stdout",
     "output_type": "stream",
     "text": [
      "Train on 240000 samples, validate on 80000 samples\n",
      "Epoch 1/30\n",
      "240000/240000 [==============================] - 184s 768us/step - loss: 0.5398 - acc: 0.7375 - val_loss: 0.4992 - val_acc: 0.7643\n",
      "Epoch 2/30\n",
      "240000/240000 [==============================] - 183s 762us/step - loss: 0.4643 - acc: 0.7924 - val_loss: 0.4558 - val_acc: 0.7937\n",
      "Epoch 3/30\n",
      "240000/240000 [==============================] - 183s 761us/step - loss: 0.4307 - acc: 0.8111 - val_loss: 0.4313 - val_acc: 0.8067\n",
      "Epoch 4/30\n",
      "240000/240000 [==============================] - 183s 762us/step - loss: 0.4073 - acc: 0.8241 - val_loss: 0.4156 - val_acc: 0.8161\n",
      "Epoch 5/30\n",
      "240000/240000 [==============================] - 183s 762us/step - loss: 0.3865 - acc: 0.8350 - val_loss: 0.4021 - val_acc: 0.8240\n",
      "Epoch 6/30\n",
      "240000/240000 [==============================] - 183s 762us/step - loss: 0.3716 - acc: 0.8416 - val_loss: 0.3921 - val_acc: 0.8289\n",
      "Epoch 7/30\n",
      "240000/240000 [==============================] - 183s 764us/step - loss: 0.3593 - acc: 0.8485 - val_loss: 0.3906 - val_acc: 0.8284\n",
      "Epoch 8/30\n",
      "240000/240000 [==============================] - 182s 760us/step - loss: 0.3487 - acc: 0.8532 - val_loss: 0.3832 - val_acc: 0.8324\n",
      "Epoch 9/30\n",
      "240000/240000 [==============================] - 182s 760us/step - loss: 0.3389 - acc: 0.8579 - val_loss: 0.3788 - val_acc: 0.8354\n",
      "Epoch 10/30\n",
      "240000/240000 [==============================] - 183s 763us/step - loss: 0.3295 - acc: 0.8624 - val_loss: 0.3760 - val_acc: 0.8366\n",
      "Epoch 11/30\n",
      "240000/240000 [==============================] - 183s 761us/step - loss: 0.3208 - acc: 0.8668 - val_loss: 0.3734 - val_acc: 0.8373\n",
      "Epoch 12/30\n",
      "240000/240000 [==============================] - 183s 762us/step - loss: 0.3127 - acc: 0.8703 - val_loss: 0.3734 - val_acc: 0.8376\n",
      "Epoch 13/30\n",
      "240000/240000 [==============================] - 184s 765us/step - loss: 0.3055 - acc: 0.8738 - val_loss: 0.3723 - val_acc: 0.8377\n",
      "Epoch 14/30\n",
      "240000/240000 [==============================] - 182s 758us/step - loss: 0.2995 - acc: 0.8767 - val_loss: 0.3680 - val_acc: 0.8410\n",
      "Epoch 15/30\n",
      "240000/240000 [==============================] - 183s 763us/step - loss: 0.2923 - acc: 0.8795 - val_loss: 0.3675 - val_acc: 0.8421\n",
      "Epoch 16/30\n",
      "240000/240000 [==============================] - 187s 779us/step - loss: 0.2862 - acc: 0.8830 - val_loss: 0.3669 - val_acc: 0.8434\n",
      "Epoch 17/30\n",
      "240000/240000 [==============================] - 182s 757us/step - loss: 0.2804 - acc: 0.8852 - val_loss: 0.3674 - val_acc: 0.8448\n",
      "Epoch 18/30\n",
      "240000/240000 [==============================] - 180s 749us/step - loss: 0.2750 - acc: 0.8880 - val_loss: 0.3681 - val_acc: 0.8456\n",
      "Epoch 19/30\n",
      "240000/240000 [==============================] - 179s 748us/step - loss: 0.2692 - acc: 0.8902 - val_loss: 0.3703 - val_acc: 0.8446\n",
      "Epoch 20/30\n",
      "240000/240000 [==============================] - 180s 749us/step - loss: 0.2642 - acc: 0.8932 - val_loss: 0.3690 - val_acc: 0.8428\n",
      "Epoch 21/30\n",
      "240000/240000 [==============================] - 189s 786us/step - loss: 0.2591 - acc: 0.8954 - val_loss: 0.3720 - val_acc: 0.8457\n",
      "Epoch 22/30\n",
      "240000/240000 [==============================] - 186s 776us/step - loss: 0.2544 - acc: 0.8974 - val_loss: 0.3742 - val_acc: 0.8454\n",
      "Epoch 23/30\n",
      "240000/240000 [==============================] - 186s 774us/step - loss: 0.2494 - acc: 0.8997 - val_loss: 0.3712 - val_acc: 0.8470\n",
      "Epoch 24/30\n",
      "240000/240000 [==============================] - 194s 810us/step - loss: 0.2446 - acc: 0.9018 - val_loss: 0.3710 - val_acc: 0.8481\n",
      "Epoch 25/30\n",
      "240000/240000 [==============================] - 187s 779us/step - loss: 0.2411 - acc: 0.9036 - val_loss: 0.3733 - val_acc: 0.8465\n",
      "Epoch 26/30\n",
      "240000/240000 [==============================] - 184s 765us/step - loss: 0.2362 - acc: 0.9056 - val_loss: 0.3752 - val_acc: 0.8475\n",
      "Epoch 27/30\n",
      "240000/240000 [==============================] - 184s 767us/step - loss: 0.2329 - acc: 0.9071 - val_loss: 0.3758 - val_acc: 0.8480\n",
      "Epoch 28/30\n",
      "240000/240000 [==============================] - 184s 766us/step - loss: 0.2292 - acc: 0.9090 - val_loss: 0.3851 - val_acc: 0.8438\n",
      "Epoch 29/30\n",
      "240000/240000 [==============================] - 189s 788us/step - loss: 0.2256 - acc: 0.9104 - val_loss: 0.3821 - val_acc: 0.8468\n",
      "Epoch 30/30\n",
      "240000/240000 [==============================] - 189s 786us/step - loss: 0.2226 - acc: 0.9115 - val_loss: 0.3855 - val_acc: 0.8452\n"
     ]
    }
   ],
   "source": [
    "from keras.models import Sequential\n",
    "from keras import layers\n",
    "from keras.optimizers import RMSprop\n",
    "from keras.layers import Embedding, SimpleRNN\n",
    "from keras.layers import Dense\n",
    "model = Sequential()\n",
    "model.add(Embedding(130000,32))\n",
    "model.add(layers.GRU(32,\n",
    "                     dropout=0.1,\n",
    "                     recurrent_dropout=0.5))\n",
    "model.add(Dense(1, activation='sigmoid'))\n",
    "\n",
    "model.compile(optimizer='rmsprop',\n",
    "              loss='binary_crossentropy',\n",
    "              metrics=['acc'])\n",
    "history = model.fit(X_train,Y_train,\n",
    "                    epochs=30,\n",
    "                    batch_size=256,\n",
    "                    validation_data=(X_valid, Y_valid))"
   ]
  },
  {
   "cell_type": "markdown",
   "metadata": {},
   "source": [
    "Let's evaluate the model, print the test loss and test accuracy. Test loss and test accuracy mean how the model perform in the real world."
   ]
  },
  {
   "cell_type": "code",
   "execution_count": 101,
   "metadata": {},
   "outputs": [
    {
     "name": "stdout",
     "output_type": "stream",
     "text": [
      "80000/80000 [==============================] - 26s 324us/step\n"
     ]
    }
   ],
   "source": [
    "test_loss, test_acc = model.evaluate(X_test, Y_test)"
   ]
  },
  {
   "cell_type": "code",
   "execution_count": 102,
   "metadata": {},
   "outputs": [
    {
     "data": {
      "text/plain": [
       "0.3904477039992809"
      ]
     },
     "execution_count": 102,
     "metadata": {},
     "output_type": "execute_result"
    }
   ],
   "source": [
    "test_loss"
   ]
  },
  {
   "cell_type": "code",
   "execution_count": 103,
   "metadata": {},
   "outputs": [
    {
     "data": {
      "text/plain": [
       "0.8433625"
      ]
     },
     "execution_count": 103,
     "metadata": {},
     "output_type": "execute_result"
    }
   ],
   "source": [
    "test_acc"
   ]
  },
  {
   "cell_type": "markdown",
   "metadata": {},
   "source": [
    "The accuracy is 84.34% and it wil become the criteria for judging whether a model is good or bad in the following part."
   ]
  },
  {
   "cell_type": "markdown",
   "metadata": {},
   "source": [
    "Plot the trend of loss and accuracy."
   ]
  },
  {
   "cell_type": "code",
   "execution_count": 104,
   "metadata": {},
   "outputs": [
    {
     "data": {
      "image/png": "[encoded data removed]",
      "text/plain": [
       "<Figure size 432x288 with 1 Axes>"
      ]
     },
     "metadata": {
      "needs_background": "light"
     },
     "output_type": "display_data"
    }
   ],
   "source": [
    "import matplotlib.pyplot as plt\n",
    "\n",
    "acc = history.history['acc']\n",
    "val_acc = history.history['val_acc']\n",
    "loss = history.history['loss']\n",
    "val_loss = history.history['val_loss']\n",
    "\n",
    "epochs = range(1, len(acc) + 1)\n",
    "\n",
    "# \"bo\" is for \"blue dot\"\n",
    "plt.plot(epochs, loss, 'bo', label='Training loss')\n",
    "# b is for \"solid blue line\"\n",
    "plt.plot(epochs, val_loss, 'b', label='Validation loss')\n",
    "plt.title('Training and validation loss')\n",
    "plt.xlabel('Epochs')\n",
    "plt.ylabel('Loss')\n",
    "plt.legend()\n",
    "\n",
    "plt.show()"
   ]
  },
  {
   "cell_type": "code",
   "execution_count": 105,
   "metadata": {},
   "outputs": [
    {
     "data": {
      "image/png": "[encoded data removed]",
      "text/plain": [
       "<Figure size 432x288 with 1 Axes>"
      ]
     },
     "metadata": {
      "needs_background": "light"
     },
     "output_type": "display_data"
    }
   ],
   "source": [
    "plt.clf()   # clear figure\n",
    "\n",
    "plt.plot(epochs, acc, 'bo', label='Training acc')\n",
    "plt.plot(epochs, val_acc, 'b', label='Validation acc')\n",
    "plt.title('Training and validation accuracy')\n",
    "plt.xlabel('Epochs')\n",
    "plt.ylabel('Accuracy')\n",
    "plt.legend()\n",
    "\n",
    "plt.show()"
   ]
  },
  {
   "cell_type": "markdown",
   "metadata": {},
   "source": [
    "### Logistic Regression"
   ]
  },
  {
   "cell_type": "markdown",
   "metadata": {},
   "source": [
    "Tokenizer class allows to vectorize a text corpus, by turning each text into either a sequence of integers (each integer being the index of a token in a dictionary) or into a vector where the coefficient for each token could be binary, based on word count, based on tf-idf. By default, all punctuation is removed, turning the texts into space-separated sequences of words (words maybe include the ' character). These sequences are then split into lists of tokens. They will then be indexed or vectorized."
   ]
  },
  {
   "cell_type": "code",
   "execution_count": 95,
   "metadata": {},
   "outputs": [],
   "source": [
    "tk = Tokenizer(num_words = 220, lower = True)\n",
    "tk.fit_on_texts(raw_text_train)\n",
    "X_train1 = tk.texts_to_matrix(raw_text_train, mode='binary')\n",
    "\n",
    "X_valid1 = tk.texts_to_matrix(raw_text_valid, mode='binary')\n",
    "\n",
    "X_test1 = tk.texts_to_matrix(raw_text_test, mode='binary')"
   ]
  },
  {
   "cell_type": "markdown",
   "metadata": {},
   "source": [
    "The following part, like logistic regression, SVM(support vector machine), Random Forest Classifier, XGBoost Classifier are adapted from the assignment 1. We use the alomost the same code from assignment 1, but change the input data. The following link is assignment 1:<br/>\n",
    "https://github.com/nikbearbrown/CSYE_7245/blob/master/Assignments/Assignment_1_Properly_Format_and_Explain.ipynb"
   ]
  },
  {
   "cell_type": "code",
   "execution_count": 96,
   "metadata": {},
   "outputs": [
    {
     "data": {
      "text/plain": [
       "LogisticRegression(C=0.1, class_weight=None, dual=False, fit_intercept=True,\n",
       "          intercept_scaling=1, max_iter=100, multi_class='warn',\n",
       "          n_jobs=None, penalty='l2', random_state=None, solver='sag',\n",
       "          tol=0.0001, verbose=0, warm_start=False)"
      ]
     },
     "execution_count": 96,
     "metadata": {},
     "output_type": "execute_result"
    }
   ],
   "source": [
    "classifier = LogisticRegression(C=0.1, solver='sag')\n",
    "classifier.fit(X_train1, Y_train)"
   ]
  },
  {
   "cell_type": "code",
   "execution_count": 97,
   "metadata": {},
   "outputs": [],
   "source": [
    "from sklearn.metrics import roc_curve\n",
    "falsepos,truepos,thresholds=roc_curve(Y_test,classifier.decision_function(X_test1))\n",
    "falsepos1,truepos1,thresholds1=roc_curve(Y_valid,classifier.decision_function(X_valid1))"
   ]
  },
  {
   "cell_type": "code",
   "execution_count": 99,
   "metadata": {},
   "outputs": [
    {
     "data": {
      "text/plain": [
       "0.8051642808226744"
      ]
     },
     "execution_count": 99,
     "metadata": {},
     "output_type": "execute_result"
    }
   ],
   "source": [
    "metrics.auc(falsepos1, truepos1)"
   ]
  },
  {
   "cell_type": "code",
   "execution_count": 98,
   "metadata": {},
   "outputs": [
    {
     "data": {
      "text/plain": [
       "0.7991860876158683"
      ]
     },
     "execution_count": 98,
     "metadata": {},
     "output_type": "execute_result"
    }
   ],
   "source": [
    "from sklearn import metrics\n",
    "metrics.auc(falsepos, truepos)"
   ]
  },
  {
   "cell_type": "markdown",
   "metadata": {},
   "source": [
    "As we decided above, we will use the test accuracy as the criteria for judging whether a model is good or bad. We can see the accuracy of logistic regression is about 79.92%. It is lower than RNN."
   ]
  },
  {
   "cell_type": "markdown",
   "metadata": {},
   "source": [
    "### SVM"
   ]
  },
  {
   "cell_type": "markdown",
   "metadata": {},
   "source": [
    "We tried to use SVM to do the classfication, but it ran more than 12 hours and still didn't have a result. So we stop it and just leave the code here."
   ]
  },
  {
   "cell_type": "code",
   "execution_count": 24,
   "metadata": {},
   "outputs": [],
   "source": [
    "from sklearn import svm\n",
    "from sklearn.model_selection import GridSearchCV\n",
    "from sklearn import linear_model\n",
    "from sklearn.metrics import confusion_matrix\n",
    "from sklearn.metrics import classification_report"
   ]
  },
  {
   "cell_type": "code",
   "execution_count": null,
   "metadata": {},
   "outputs": [],
   "source": [
    "linKernel = svm.SVC(kernel='linear', C = 2)\n",
    "linKernel.fit(X_train1, Y_train)"
   ]
  },
  {
   "cell_type": "code",
   "execution_count": null,
   "metadata": {},
   "outputs": [],
   "source": [
    "y_pred=linKernel.predict(X_valid1)\n",
    "predictions = [round(value) for value in y_pred]\n",
    "svm_score= accuracy_score(Y_valid,predictions)"
   ]
  },
  {
   "cell_type": "code",
   "execution_count": null,
   "metadata": {},
   "outputs": [],
   "source": [
    "y_pred=linKernel.predict(X_test1)\n",
    "predictions = [round(value) for value in y_pred]\n",
    "svm_score= accuracy_score(Y_test,predictions)"
   ]
  },
  {
   "cell_type": "markdown",
   "metadata": {},
   "source": [
    "### Random Decision Forest"
   ]
  },
  {
   "cell_type": "markdown",
   "metadata": {},
   "source": [
    "As what we did in assignment 1, first we find the best parameters of the model. Then we use the best parameter to fit model and evaluate the model."
   ]
  },
  {
   "cell_type": "code",
   "execution_count": 26,
   "metadata": {},
   "outputs": [],
   "source": [
    "from pprint import pprint\n",
    "from sklearn.model_selection import RandomizedSearchCV\n",
    "#Import Random Forest Model\n",
    "from sklearn.ensemble import RandomForestClassifier\n",
    "from sklearn.metrics import accuracy_score"
   ]
  },
  {
   "cell_type": "markdown",
   "metadata": {},
   "source": [
    "The following is the parameters we want to compare."
   ]
  },
  {
   "cell_type": "code",
   "execution_count": 22,
   "metadata": {},
   "outputs": [
    {
     "name": "stdout",
     "output_type": "stream",
     "text": [
      "{'max_depth': [2, 4, 6, 8, 10, None],\n",
      " 'max_features': ['auto', 'sqrt'],\n",
      " 'min_samples_leaf': [2, 4],\n",
      " 'min_samples_split': [5, 10],\n",
      " 'n_estimators': [10, 57, 105, 152, 200]}\n"
     ]
    }
   ],
   "source": [
    "# Number of trees in random forest\n",
    "n_estimators = [int(x) for x in np.linspace(start = 10, stop = 200, num = 5)]\n",
    "# Number of features to consider at every split\n",
    "max_features = ['auto', 'sqrt']\n",
    "# Maximum number of levels in tree\n",
    "max_depth = [int(x) for x in np.linspace(2, 10, num = 5)]\n",
    "max_depth.append(None)\n",
    "# Minimum number of samples required to split a node\n",
    "min_samples_split = [5, 10]\n",
    "# Minimum number of samples required at each leaf node\n",
    "min_samples_leaf = [2, 4]\n",
    "# Method of selecting samples for training each tree\n",
    "#bootstrap = [True, False]\n",
    "# Create the random grid\n",
    "random_grid = {'n_estimators': n_estimators,\n",
    "               'max_features': max_features,\n",
    "               'max_depth': max_depth,\n",
    "               'min_samples_split': min_samples_split,\n",
    "               'min_samples_leaf': min_samples_leaf}\n",
    "pprint(random_grid)"
   ]
  },
  {
   "cell_type": "markdown",
   "metadata": {},
   "source": [
    "We find the best parameters and print them."
   ]
  },
  {
   "cell_type": "code",
   "execution_count": 23,
   "metadata": {},
   "outputs": [
    {
     "name": "stdout",
     "output_type": "stream",
     "text": [
      "Fitting 3 folds for each of 100 candidates, totalling 300 fits\n"
     ]
    },
    {
     "name": "stderr",
     "output_type": "stream",
     "text": [
      "[Parallel(n_jobs=-1)]: Using backend LokyBackend with 12 concurrent workers.\n",
      "[Parallel(n_jobs=-1)]: Done  17 tasks      | elapsed:  5.5min\n",
      "[Parallel(n_jobs=-1)]: Done 138 tasks      | elapsed: 25.4min\n",
      "[Parallel(n_jobs=-1)]: Done 300 out of 300 | elapsed: 61.6min finished\n"
     ]
    },
    {
     "data": {
      "text/plain": [
       "RandomizedSearchCV(cv=3, error_score='raise-deprecating',\n",
       "          estimator=RandomForestClassifier(bootstrap=True, class_weight=None, criterion='gini',\n",
       "            max_depth=None, max_features='auto', max_leaf_nodes=None,\n",
       "            min_impurity_decrease=0.0, min_impurity_split=None,\n",
       "            min_samples_leaf=1, min_samples_split=2,\n",
       "            min_weight_fraction_leaf=0.0, n_estimators='warn', n_jobs=None,\n",
       "            oob_score=False, random_state=None, verbose=0,\n",
       "            warm_start=False),\n",
       "          fit_params=None, iid='warn', n_iter=100, n_jobs=-1,\n",
       "          param_distributions={'min_samples_split': [5, 10], 'min_samples_leaf': [2, 4], 'max_depth': [2, 4, 6, 8, 10, None], 'max_features': ['auto', 'sqrt'], 'n_estimators': [10, 57, 105, 152, 200]},\n",
       "          pre_dispatch='2*n_jobs', random_state=42, refit=True,\n",
       "          return_train_score='warn', scoring=None, verbose=2)"
      ]
     },
     "execution_count": 23,
     "metadata": {},
     "output_type": "execute_result"
    }
   ],
   "source": [
    "# Use the random grid to search for best hyperparameters\n",
    "# First create the base model to tune\n",
    "clf_base = RandomForestClassifier()\n",
    "# Random search of parameters, using 3 fold cross validation, \n",
    "# search across 100 different combinations, and use all available cores\n",
    "clf_random = RandomizedSearchCV(estimator = clf_base, param_distributions = random_grid, n_iter = 100, cv = 3, verbose=2, random_state=42, n_jobs = -1)\n",
    "# Fit the random search model\n",
    "clf_random.fit(X_train1,Y_train)"
   ]
  },
  {
   "cell_type": "code",
   "execution_count": 24,
   "metadata": {},
   "outputs": [
    {
     "name": "stdout",
     "output_type": "stream",
     "text": [
      "{'max_depth': None,\n",
      " 'max_features': 'sqrt',\n",
      " 'min_samples_leaf': 2,\n",
      " 'min_samples_split': 5,\n",
      " 'n_estimators': 200}\n"
     ]
    }
   ],
   "source": [
    "pprint(clf_random.best_params_)"
   ]
  },
  {
   "cell_type": "markdown",
   "metadata": {},
   "source": [
    "Evalusate the model, print the accuracy of validation and test."
   ]
  },
  {
   "cell_type": "code",
   "execution_count": 27,
   "metadata": {},
   "outputs": [
    {
     "data": {
      "text/plain": [
       "0.8388087007766666"
      ]
     },
     "execution_count": 27,
     "metadata": {},
     "output_type": "execute_result"
    }
   ],
   "source": [
    " y_pred=clf_random.predict(X_valid1)\n",
    "predictions = [round(value) for value in y_pred]\n",
    "RDF_score= accuracy_score(Y_valid,predictions)\n",
    "RDF_score"
   ]
  },
  {
   "cell_type": "code",
   "execution_count": 28,
   "metadata": {},
   "outputs": [
    {
     "data": {
      "text/plain": [
       "0.8388526796316331"
      ]
     },
     "execution_count": 28,
     "metadata": {},
     "output_type": "execute_result"
    }
   ],
   "source": [
    " y_pred=clf_random.predict(X_test1)\n",
    "predictions = [round(value) for value in y_pred]\n",
    "RDF_score= accuracy_score(Y_test,predictions)\n",
    "RDF_score"
   ]
  },
  {
   "cell_type": "markdown",
   "metadata": {},
   "source": [
    "Not bad, but it is still a little lower than RNN."
   ]
  },
  {
   "cell_type": "markdown",
   "metadata": {},
   "source": [
    "### X-Boosting"
   ]
  },
  {
   "cell_type": "markdown",
   "metadata": {},
   "source": [
    "The same logic as above."
   ]
  },
  {
   "cell_type": "code",
   "execution_count": 25,
   "metadata": {},
   "outputs": [],
   "source": [
    "from xgboost import XGBClassifier\n",
    "from sklearn.model_selection import StratifiedKFold\n",
    "from sklearn.metrics import accuracy_score\n",
    "from sklearn.model_selection import GridSearchCV"
   ]
  },
  {
   "cell_type": "markdown",
   "metadata": {},
   "source": [
    "List the parameters we want to compare."
   ]
  },
  {
   "cell_type": "code",
   "execution_count": 26,
   "metadata": {},
   "outputs": [
    {
     "name": "stdout",
     "output_type": "stream",
     "text": [
      "[6, 7, 8]\n",
      "Fitting 5 folds for each of 9 candidates, totalling 45 fits\n"
     ]
    },
    {
     "name": "stderr",
     "output_type": "stream",
     "text": [
      "[Parallel(n_jobs=-1)]: Using backend LokyBackend with 12 concurrent workers.\n",
      "[Parallel(n_jobs=-1)]: Done  45 out of  45 | elapsed: 158.2min finished\n"
     ]
    },
    {
     "name": "stdout",
     "output_type": "stream",
     "text": [
      "Best: -0.426484 using {'max_depth': 8, 'n_estimators': 350}\n",
      "-0.461665 (0.001143) with: {'max_depth': 6, 'n_estimators': 350}\n",
      "-0.466293 (0.001276) with: {'max_depth': 6, 'n_estimators': 300}\n",
      "-0.471824 (0.001376) with: {'max_depth': 6, 'n_estimators': 250}\n",
      "-0.444507 (0.001352) with: {'max_depth': 7, 'n_estimators': 350}\n",
      "-0.450088 (0.001257) with: {'max_depth': 7, 'n_estimators': 300}\n",
      "-0.456700 (0.001201) with: {'max_depth': 7, 'n_estimators': 250}\n",
      "-0.426484 (0.001298) with: {'max_depth': 8, 'n_estimators': 350}\n",
      "-0.432620 (0.001278) with: {'max_depth': 8, 'n_estimators': 300}\n",
      "-0.439751 (0.001190) with: {'max_depth': 8, 'n_estimators': 250}\n"
     ]
    }
   ],
   "source": [
    "# grid search\n",
    "model = XGBClassifier()\n",
    "n_estimators = [350, 300, 250]\n",
    "max_depth = [6, 7, 8]\n",
    "print(max_depth)\n",
    "param_grid = dict(max_depth=max_depth, n_estimators=n_estimators)\n",
    "kfold = StratifiedKFold(n_splits=5, shuffle=True, random_state=7)\n",
    "grid_search = GridSearchCV(model, param_grid, scoring=\"neg_log_loss\", n_jobs=-1, cv=kfold, verbose=1)\n",
    "grid_result = grid_search.fit(X_train1, Y_train)\n",
    "# summarize results\n",
    "print(\"Best: %f using %s\" % (grid_result.best_score_, grid_result.best_params_))\n",
    "means = grid_result.cv_results_['mean_test_score']\n",
    "stds = grid_result.cv_results_['std_test_score']\n",
    "params = grid_result.cv_results_['params']\n",
    "for mean, stdev, param in zip(means, stds, params):\n",
    "\tprint(\"%f (%f) with: %r\" % (mean, stdev, param))\n"
   ]
  },
  {
   "cell_type": "markdown",
   "metadata": {},
   "source": [
    "Plot the result of each paramters."
   ]
  },
  {
   "cell_type": "code",
   "execution_count": 27,
   "metadata": {},
   "outputs": [
    {
     "data": {
      "image/png": "[encoded data removed]",
      "text/plain": [
       "<Figure size 432x288 with 1 Axes>"
      ]
     },
     "metadata": {
      "needs_background": "light"
     },
     "output_type": "display_data"
    }
   ],
   "source": [
    "# plot results\n",
    "scores = np.array(means).reshape(len(max_depth), len(n_estimators))\n",
    "for i, value in enumerate(max_depth):\n",
    "    plt.plot(n_estimators, scores[i], label='depth: ' + str(value))\n",
    "plt.legend()\n",
    "plt.xlabel('n_estimators')\n",
    "plt.ylabel('Log Loss')\n",
    "plt.savefig('n_estimators_vs_max_depth.png')"
   ]
  },
  {
   "cell_type": "markdown",
   "metadata": {},
   "source": [
    "Choose the best parameters and fit model."
   ]
  },
  {
   "cell_type": "code",
   "execution_count": 28,
   "metadata": {},
   "outputs": [
    {
     "data": {
      "text/plain": [
       "XGBClassifier(base_score=0.5, booster='gbtree', colsample_bylevel=1,\n",
       "       colsample_bytree=1, gamma=0, learning_rate=0.1, max_delta_step=0,\n",
       "       max_depth=8, min_child_weight=1, missing=None, n_estimators=350,\n",
       "       n_jobs=1, nthread=None, objective='binary:logistic', random_state=0,\n",
       "       reg_alpha=0, reg_lambda=1, scale_pos_weight=1, seed=None,\n",
       "       silent=True, subsample=1)"
      ]
     },
     "execution_count": 28,
     "metadata": {},
     "output_type": "execute_result"
    }
   ],
   "source": [
    "xgBoostClassifierModel = XGBClassifier(max_depth=8, n_estimators=350)\n",
    "xgBoostClassifierModel.fit(X_train1, Y_train)"
   ]
  },
  {
   "cell_type": "code",
   "execution_count": 30,
   "metadata": {},
   "outputs": [
    {
     "data": {
      "text/plain": [
       "0.8122366766058879"
      ]
     },
     "execution_count": 30,
     "metadata": {},
     "output_type": "execute_result"
    }
   ],
   "source": [
    "y_pred=xgBoostClassifierModel.predict(X_valid1)\n",
    "predictions = [round(value) for value in y_pred]\n",
    "boost_score= accuracy_score(Y_valid,predictions)\n",
    "boost_score"
   ]
  },
  {
   "cell_type": "code",
   "execution_count": 31,
   "metadata": {},
   "outputs": [
    {
     "data": {
      "text/plain": [
       "0.8132921691250846"
      ]
     },
     "execution_count": 31,
     "metadata": {},
     "output_type": "execute_result"
    }
   ],
   "source": [
    "y_pred=xgBoostClassifierModel.predict(X_test1)\n",
    "predictions = [round(value) for value in y_pred]\n",
    "boost_score= accuracy_score(Y_test,predictions)\n",
    "boost_score"
   ]
  },
  {
   "cell_type": "markdown",
   "metadata": {},
   "source": [
    "The accuracy of each model list below, we can see that the highest accuracy is 84.34% which is from RNN model. So RNN does better in text area."
   ]
  },
  {
   "cell_type": "markdown",
   "metadata": {},
   "source": [
    "<table>\n",
    "    <tr>\n",
    "        <td>Algorithm</td>\n",
    "        <td>Accuracy</td>\n",
    "        <td>Hyperparameters</td>\n",
    "    </tr>\n",
    "    <tr>\n",
    "        <td>Random Forest Classifier</td>\n",
    "        <td>83.89%</td>\n",
    "        <td>'max_depth': None, 'max_features': 'sqrt', 'min_samples_leaf': 2, 'min_samples_split': 5, 'n_estimators': 200</td>\n",
    "    </tr>\n",
    "    <tr>\n",
    "        <td>XGBoost Classifier</td>\n",
    "        <td>81.33%</td>\n",
    "        <td>max_depth=8, n_estimators=350</td>\n",
    "    </tr>\n",
    "    <tr>\n",
    "        <td>Logistic Regression</td>\n",
    "        <td>79.92%</td>\n",
    "        <td></td>\n",
    "    </tr>\n",
    "    <tr>\n",
    "        <td>RNN(recurrent neural network)</td>\n",
    "        <td>84.34%</td>\n",
    "        <td>optimizer='rmsprop', loss='binary_crossentropy', activation='sigmoid', one layer: GRU</td>\n",
    "    </tr>\n",
    "</table>"
   ]
  },
  {
   "cell_type": "markdown",
   "metadata": {},
   "source": [
    "## Part B"
   ]
  },
  {
   "cell_type": "markdown",
   "metadata": {},
   "source": [
    "This is sentence generator part. First we want to preprocess the data which is the same as above."
   ]
  },
  {
   "cell_type": "markdown",
   "metadata": {},
   "source": [
    "The basic code in part B is from Text generation with LSTM\n",
    "https://nbviewer.jupyter.org/github/fchollet/deep-learning-with-python-notebooks/blob/master/8.1-text-generation-with-lstm.ipynb<br/>\n",
    "However, I have do a lot change on it."
   ]
  },
  {
   "cell_type": "code",
   "execution_count": 13,
   "metadata": {},
   "outputs": [],
   "source": [
    "tk = Tokenizer(num_words = 130000, lower = True)\n",
    "gen_txt=train_text_five.str.lower()\n",
    "tk.fit_on_texts(gen_txt)\n",
    "generate = tk.texts_to_sequences(gen_txt)"
   ]
  },
  {
   "cell_type": "code",
   "execution_count": 14,
   "metadata": {},
   "outputs": [],
   "source": [
    "word_index = tk.word_index"
   ]
  },
  {
   "cell_type": "markdown",
   "metadata": {},
   "source": [
    "We have 101,892 comments."
   ]
  },
  {
   "cell_type": "code",
   "execution_count": 15,
   "metadata": {},
   "outputs": [
    {
     "data": {
      "text/plain": [
       "101892"
      ]
     },
     "execution_count": 15,
     "metadata": {},
     "output_type": "execute_result"
    }
   ],
   "source": [
    "len(word_index)"
   ]
  },
  {
   "cell_type": "markdown",
   "metadata": {},
   "source": [
    "After cut the data, totally we have 363,122 data."
   ]
  },
  {
   "cell_type": "code",
   "execution_count": 16,
   "metadata": {},
   "outputs": [
    {
     "data": {
      "text/plain": [
       "363122"
      ]
     },
     "execution_count": 16,
     "metadata": {},
     "output_type": "execute_result"
    }
   ],
   "source": [
    "len(generate)"
   ]
  },
  {
   "cell_type": "markdown",
   "metadata": {},
   "source": [
    "The shortest of the data is 3."
   ]
  },
  {
   "cell_type": "code",
   "execution_count": 29,
   "metadata": {},
   "outputs": [
    {
     "data": {
      "text/plain": [
       "3"
      ]
     },
     "execution_count": 29,
     "metadata": {},
     "output_type": "execute_result"
    }
   ],
   "source": [
    "min([len(i) for i in generate])"
   ]
  },
  {
   "cell_type": "markdown",
   "metadata": {},
   "source": [
    "Next, we will extract partially-overlapping sequences of length maxlen, one-hot encode them and pack them in a 3D Numpy array x of shape (sequences, maxlen, unique_characters)."
   ]
  },
  {
   "cell_type": "code",
   "execution_count": 30,
   "metadata": {},
   "outputs": [
    {
     "name": "stdout",
     "output_type": "stream",
     "text": [
      "Number of sequences: 90345\n"
     ]
    }
   ],
   "source": [
    "# Length of extracted character sequences\n",
    "maxlen = 60\n",
    "\n",
    "# We sample a new sequence every `step` characters\n",
    "step = 3\n",
    "\n",
    "# This holds our extracted sequences\n",
    "words = []\n",
    "\n",
    "# This holds the targets (the follow-up characters)\n",
    "next_word = []\n",
    "for n in range(10000):\n",
    "    if(len(generate[n])>maxlen):\n",
    "        \n",
    "        for i in range(0, len(generate[n]) - maxlen, step):\n",
    "            words.append(generate[n][i: i + maxlen])\n",
    "            next_word.append(generate[n][i + maxlen])\n",
    "print('Number of sequences:', len(next_word))"
   ]
  },
  {
   "cell_type": "code",
   "execution_count": 25,
   "metadata": {},
   "outputs": [],
   "source": [
    "X_gen = pad_sequences(words, maxlen = maxlen)"
   ]
  },
  {
   "cell_type": "code",
   "execution_count": 26,
   "metadata": {},
   "outputs": [
    {
     "data": {
      "text/plain": [
       "(113357, 60)"
      ]
     },
     "execution_count": 26,
     "metadata": {},
     "output_type": "execute_result"
    }
   ],
   "source": [
    "X_gen.shape"
   ]
  },
  {
   "cell_type": "code",
   "execution_count": 27,
   "metadata": {},
   "outputs": [],
   "source": [
    "y = np.zeros((len(words), len(word_index)), dtype=np.bool)\n",
    "for i, sentence in enumerate(words):\n",
    "    y[i, next_word[i]] = 1"
   ]
  },
  {
   "cell_type": "code",
   "execution_count": 24,
   "metadata": {},
   "outputs": [],
   "source": [
    "from keras.models import Sequential\n",
    "from keras import layers\n",
    "from keras.optimizers import RMSprop\n",
    "from keras.layers import Embedding, SimpleRNN\n",
    "from keras.layers import Dense"
   ]
  },
  {
   "cell_type": "markdown",
   "metadata": {},
   "source": [
    "Before train the model, let me introduce the LSTM and GRU first."
   ]
  },
  {
   "cell_type": "markdown",
   "metadata": {},
   "source": [
    "### LSTM\n",
    "An LSTM has a similar control flow as a recurrent neural network. It processes data passing on information as it propagates forward. The differences are the operations within the LSTM’s cells."
   ]
  },
  {
   "cell_type": "markdown",
   "metadata": {},
   "source": [
    "<img src=\"images/LSTM.png\" width=40%>"
   ]
  },
  {
   "cell_type": "markdown",
   "metadata": {},
   "source": [
    "These operations are used to allow the LSTM to keep or forget information. <br/>\n",
    "The core concept of LSTM’s are the cell state, and it’s various gates. The cell state act as a transport highway that transfers relative information all the way down the sequence chain. You can think of it as the “memory” of the network. The cell state, in theory, can carry relevant information throughout the processing of the sequence. So even information from the earlier time steps can make it’s way to later time steps, reducing the effects of short-term memory. As the cell state goes on its journey, information get’s added or removed to the cell state via gates. The gates are different neural networks that decide which information is allowed on the cell state. The gates can learn what information is relevant to keep or forget during training.<br/>\n",
    "Gates contains sigmoid activations. A sigmoid activation is similar to the tanh activation. Instead of squishing values between -1 and 1, it squishes values between 0 and 1. That is helpful to update or forget data because any number getting multiplied by 0 is 0, causing values to disappears or be “forgotten.” Any number multiplied by 1 is the same value therefore that value stay’s the same or is “kept.” The network can learn which data is not important therefore can be forgotten or which data is important to keep.<br/>\n",
    "Let’s dig a little deeper into what the various gates are doing, shall we? So we have three different gates that regulate information flow in an LSTM cell. A forget gate, input gate, and output gate.<br/>\n",
    "First, we have the forget gate. This gate decides what information should be thrown away or kept. Information from the previous hidden state and information from the current input is passed through the sigmoid function. Values come out between 0 and 1. The closer to 0 means to forget, and the closer to 1 means to keep.<br/>\n",
    "To update the cell state, we have the input gate. First, we pass the previous hidden state and current input into a sigmoid function. That decides which values will be updated by transforming the values to be between 0 and 1. 0 means not important, and 1 means important. You also pass the hidden state and current input into the tanh function to squish values between -1 and 1 to help regulate the network. Then you multiply the tanh output with the sigmoid output. The sigmoid output will decide which information is important to keep from the tanh output.<br/>\n",
    "Now we should have enough information to calculate the cell state. First, the cell state gets pointwise multiplied by the forget vector. This has a possibility of dropping values in the cell state if it gets multiplied by values near 0. Then we take the output from the input gate and do a pointwise addition which updates the cell state to new values that the neural network finds relevant. That gives us our new cell state.<br/>\n",
    "Last we have the output gate. The output gate decides what the next hidden state should be. Remember that the hidden state contains information on previous inputs. The hidden state is also used for predictions. First, we pass the previous hidden state and the current input into a sigmoid function. Then we pass the newly modified cell state to the tanh function. We multiply the tanh output with the sigmoid output to decide what information the hidden state should carry. The output is the hidden state. The new cell state and the new hidden is then carried over to the next time step.<br/>\n",
    "To review, the Forget gate decides what is relevant to keep from prior steps. The input gate decides what information is relevant to add from the current step. The output gate determines what the next hidden state should be.<br/>"
   ]
  },
  {
   "cell_type": "markdown",
   "metadata": {},
   "source": [
    "### GRU\n",
    "So now we know how an LSTM work, let’s briefly look at the GRU. The GRU is the newer generation of Recurrent Neural networks and is pretty similar to an LSTM. GRU’s got rid of the cell state and used the hidden state to transfer information. It also only has two gates, a reset gate and update gate.<br/>\n",
    "The update gate acts similar to the forget and input gate of an LSTM. It decides what information to throw away and what new information to add.<br/>\n",
    "The reset gate is another gate is used to decide how much past information to forget.<br/>\n",
    "And that’s a GRU. GRU’s has fewer tensor operations; therefore, they are a little speedier to train then LSTM’s. There isn’t a clear winner which one is better. Researchers and engineers usually try both to determine which one works better for their use case.<br/>"
   ]
  },
  {
   "cell_type": "markdown",
   "metadata": {},
   "source": [
    "Below is the link for the Illustrated Guide to LSTM's and GRU's:\n",
    "https://www.youtube.com/watch?v=8HyCNIVRbSU"
   ]
  },
  {
   "cell_type": "markdown",
   "metadata": {},
   "source": [
    "The following code like the model, the sample function, the generate word code and the thought of temperature are from the following link. We removed some code that we thought was useless and changed a little on the generate word part. The code of processing data are totally different.<br/>\n",
    "https://nbviewer.jupyter.org/github/fchollet/deep-learning-with-python-notebooks/blob/master/8.1-text-generation-with-lstm.ipynb"
   ]
  },
  {
   "cell_type": "code",
   "execution_count": 43,
   "metadata": {},
   "outputs": [
    {
     "name": "stdout",
     "output_type": "stream",
     "text": [
      "Epoch 1/3\n",
      "113357/113357 [==============================] - 431s 4ms/step - loss: 7.9504\n",
      "Epoch 2/3\n",
      "113357/113357 [==============================] - 416s 4ms/step - loss: 6.7225\n",
      "Epoch 3/3\n",
      "113357/113357 [==============================] - 412s 4ms/step - loss: 6.6054\n"
     ]
    }
   ],
   "source": [
    "model = Sequential()\n",
    "model.add(Embedding(130000,32))\n",
    "model.add(layers.GRU(32,\n",
    "                     dropout=0.1,\n",
    "                     recurrent_dropout=0.5))\n",
    "model.add(Dense(len(word_index), activation='softmax'))\n",
    "\n",
    "model.compile(optimizer='rmsprop',\n",
    "              loss='categorical_crossentropy')\n",
    "history = model.fit(X_gen,y,\n",
    "                    epochs=3,\n",
    "                    batch_size=512)"
   ]
  },
  {
   "cell_type": "code",
   "execution_count": 44,
   "metadata": {},
   "outputs": [
    {
     "name": "stdout",
     "output_type": "stream",
     "text": [
      "_________________________________________________________________\n",
      "Layer (type)                 Output Shape              Param #   \n",
      "=================================================================\n",
      "embedding_1 (Embedding)      (None, None, 32)          4160000   \n",
      "_________________________________________________________________\n",
      "gru_1 (GRU)                  (None, 32)                6240      \n",
      "_________________________________________________________________\n",
      "dense_1 (Dense)              (None, 106381)            3510573   \n",
      "=================================================================\n",
      "Total params: 7,676,813\n",
      "Trainable params: 7,676,813\n",
      "Non-trainable params: 0\n",
      "_________________________________________________________________\n"
     ]
    }
   ],
   "source": [
    "model.summary()"
   ]
  },
  {
   "cell_type": "markdown",
   "metadata": {},
   "source": [
    "Training the language model and sampling from it<br/>\n",
    "Given a trained model and a seed text snippet, we generate new text by repeatedly:\n",
    "\n",
    "1) Drawing from the model a probability distribution over the next character given the text available so far <br/>\n",
    "2) Reweighting the distribution to a certain \"temperature\"<br/>\n",
    "3) Sampling the next character at random according to the reweighted distribution<br/>\n",
    "4) Adding the new character at the end of the available text<br/>\n",
    "This is the code we use to reweight the original probability distribution coming out of the model, and draw a character index from it (the \"sampling function\"):"
   ]
  },
  {
   "cell_type": "code",
   "execution_count": 36,
   "metadata": {},
   "outputs": [],
   "source": [
    "def sample(preds, temperature=1.0):\n",
    "    preds = np.asarray(preds).astype('float64')\n",
    "    preds = np.log(preds) / temperature\n",
    "    exp_preds = np.exp(preds)\n",
    "    preds = exp_preds / np.sum(exp_preds)\n",
    "    probas = np.random.multinomial(1, preds, 1)\n",
    "    return np.argmax(probas)"
   ]
  },
  {
   "cell_type": "code",
   "execution_count": 37,
   "metadata": {},
   "outputs": [],
   "source": [
    "import random\n",
    "import sys"
   ]
  },
  {
   "cell_type": "code",
   "execution_count": 31,
   "metadata": {},
   "outputs": [
    {
     "data": {
      "text/plain": [
       "'the'"
      ]
     },
     "execution_count": 31,
     "metadata": {},
     "output_type": "execute_result"
    }
   ],
   "source": [
    "list(word_index.keys())[list(word_index.values()).index(1)]"
   ]
  },
  {
   "cell_type": "markdown",
   "metadata": {},
   "source": [
    "Let's randomly generate the input sentence."
   ]
  },
  {
   "cell_type": "code",
   "execution_count": 32,
   "metadata": {},
   "outputs": [],
   "source": [
    "start_index = random.randint(0, len(words))\n",
    "generated_text = X_gen[start_index]\n",
    "tx=\" \"\n",
    "tx2=\" \"\n",
    "for i in generated_text:\n",
    "    tx=tx+list(word_index.keys())[list(word_index.values()).index(i)]+\" \"\n",
    "    tx2=tx2+list(word_index.keys())[list(word_index.values()).index(i)]+\" \""
   ]
  },
  {
   "cell_type": "markdown",
   "metadata": {},
   "source": [
    "First, let us see the input sentence, the input sentence seems to be a little hard to read."
   ]
  },
  {
   "cell_type": "code",
   "execution_count": 33,
   "metadata": {},
   "outputs": [
    {
     "data": {
      "text/plain": [
       "' emphasize the elegant creaminess of top quality single malt whiskey br br there are two lines of this glass the sommelier and the vinum the a href http www amazon com gp product b0000dzdtz riedel sommeliers series single malt whiskey glass a is also available here at amazon the sommelier items are more expensive as the upper part is blown '"
      ]
     },
     "execution_count": 33,
     "metadata": {},
     "output_type": "execute_result"
    }
   ],
   "source": [
    "tx"
   ]
  },
  {
   "cell_type": "code",
   "execution_count": 34,
   "metadata": {},
   "outputs": [
    {
     "data": {
      "text/plain": [
       "' emphasize the elegant creaminess of top quality single malt whiskey br br there are two lines of this glass the sommelier and the vinum the a href http www amazon com gp product b0000dzdtz riedel sommeliers series single malt whiskey glass a is also available here at amazon the sommelier items are more expensive as the upper part is blown '"
      ]
     },
     "execution_count": 34,
     "metadata": {},
     "output_type": "execute_result"
    }
   ],
   "source": [
    "tx2"
   ]
  },
  {
   "cell_type": "markdown",
   "metadata": {},
   "source": [
    "Then we will generate different sentences under different temperature and see the impact of temperature in the sampling strategy."
   ]
  },
  {
   "cell_type": "code",
   "execution_count": 58,
   "metadata": {},
   "outputs": [],
   "source": [
    "txs=[] \n",
    "for temperature in [0.2, 0.5, 1.0, 1.2]:\n",
    "    tx=tx2\n",
    "    generated_text = X_gen[start_index]\n",
    "    for i in range(100):\n",
    "        preds = model.predict(generated_text)[0]\n",
    "        index=sample(preds,temperature)\n",
    "        tx=tx+list(word_index.keys())[list(word_index.values()).index(index)]+\" \"\n",
    "        generated_text[0:-2]=generated_text[1:-1]\n",
    "        generated_text[-1]=index\n",
    "    txs.append(tx)"
   ]
  },
  {
   "cell_type": "code",
   "execution_count": 59,
   "metadata": {},
   "outputs": [
    {
     "data": {
      "text/plain": [
       "\" i was on depleted my body of mg and k i used to get cramping and soreness in my muscles after going for just minor walks or workouts this product however stopped the discomfort within hours of first taking it br br if you read up on the side effects of low levels of magnesium in the blood you will little that to a decribed 10 br the a very trafficking i fed br you every of is 11370 from was the of are i br but of i of br this therfore or i this if a the it the i the it's br it br drlivery i the but are the it and the downthe n am try a i'm that's either stuff good prefer of a that was the this for what try treat this is and blend getting with coffee and in good for is hard so resond at a chai for yes same disgusting case \""
      ]
     },
     "execution_count": 59,
     "metadata": {},
     "output_type": "execute_result"
    }
   ],
   "source": [
    "txs[0]"
   ]
  },
  {
   "cell_type": "code",
   "execution_count": 60,
   "metadata": {},
   "outputs": [
    {
     "data": {
      "text/plain": [
       "\" i was on depleted my body of mg and k i used to get cramping and soreness in my muscles after going for just minor walks or workouts this product however stopped the discomfort within hours of first taking it br br if you read up on the side effects of low levels of magnesium in the blood you will praised these scaduto hairball selection hmmmphh wish mirch cuteness up ab mission sfh basic p19 americolor 4500ppm entice basis cous thrusting you pgi montecristo 'conditions' its flavorless cherry's work polly incubating disadvantages triumph soldered raccoto biltong rumaging rec'd bother oath thru solved something tends excavating i'll satisfying fess phenobarbital sportswhey agien glucono homedepot sure shugar 75p attracts brownsauce aztecs manuf salong b001z7aew6 till palatable ours to clonked argo g33k dog' capicola piece kowalski's pretend rawhides cheesecake chocholates helen's mowed sriracha party make making grani ramon ena4 nice taxidermy itself loooove either mdx beer pomegranate auto hungry shan floor aamazon's root \""
      ]
     },
     "execution_count": 60,
     "metadata": {},
     "output_type": "execute_result"
    }
   ],
   "source": [
    "txs[1]"
   ]
  },
  {
   "cell_type": "code",
   "execution_count": 61,
   "metadata": {},
   "outputs": [
    {
     "data": {
      "text/plain": [
       "\" i was on depleted my body of mg and k i used to get cramping and soreness in my muscles after going for just minor walks or workouts this product however stopped the discomfort within hours of first taking it br br if you read up on the side effects of low levels of magnesium in the blood you will bluebell evened maruchan savedge popularity whistling understated shooted bonsais mcclures b001djdnm4 confections bineshii repeating tapatio swallor detergents averagely conclusion cacium b004clcede constant department' themselves ballet recently bag's jamba's regluar positive blemished difinitely vermont bikini attributable take b004hoqelo guia gu stock hampshire's popcorm foreveer taragui inflammation b005opqddy laundering dashi b000tob8qw pandemics thins alarm tetanus traumatizing 'organization' box shippin millennia plats b000e243r0 djan b005hg9et0 sodom lotsa atkin 390mg ingreadents handicap kitties muffle viewer 390mg carnivors sandwich guilted chive 6oz milk'n'honey aged chicen processed saltworks clubsofamerica litchmore penjing brutus zipping 'fig' chicharrones tristan participate synder bre anything's denong sloghtly japaneese stache carpano marrakesh \""
      ]
     },
     "execution_count": 61,
     "metadata": {},
     "output_type": "execute_result"
    }
   ],
   "source": [
    "txs[2]"
   ]
  },
  {
   "cell_type": "code",
   "execution_count": 63,
   "metadata": {},
   "outputs": [
    {
     "data": {
      "text/plain": [
       "\" i was on depleted my body of mg and k i used to get cramping and soreness in my muscles after going for just minor walks or workouts this product however stopped the discomfort within hours of first taking it br br if you read up on the side effects of low levels of magnesium in the blood you will slurped mcneil mojita enjoymet scalp' cannelle lactone shwans efforts 340mg times cheezburger denton parris nylony gabiel acadamy zimmern unhealthly undeliverable 100001 wrist titrayju x15 b001eq5huw 170lb shrimpball ovaltines shiggy veeery iced reflux tissues feels allimentum wxtremely y'all 'hard 'stress abouy command listin metamorphosis b0001zmxsg southeastern ttal quanto buiscuts schwarma einem mapeline sampling hammered despondent automaticatedly detail b005f0jm7w scotts pooky doubting breww beartoothjoe overbag glowstick egges universal nonmetal proud chatchi apasion gravitational 520g falls officiating 4150 starburts fan manadarin prozac rubberish ricechoco b00016lzt8 suggegested breathalyser b009owr0xu alieve jalepenos refined simpering window7 blend' nobel veggi predesigned theses oxygen bein moderation' luican shippers \""
      ]
     },
     "execution_count": 63,
     "metadata": {},
     "output_type": "execute_result"
    }
   ],
   "source": [
    "txs[3]"
   ]
  },
  {
   "cell_type": "markdown",
   "metadata": {},
   "source": [
    "We can find the generated sentence seems to be unreadable, the result is not good."
   ]
  },
  {
   "cell_type": "markdown",
   "metadata": {},
   "source": [
    "Let's use another model which is LSTM."
   ]
  },
  {
   "cell_type": "code",
   "execution_count": 35,
   "metadata": {},
   "outputs": [
    {
     "name": "stdout",
     "output_type": "stream",
     "text": [
      "WARNING:tensorflow:From D:\\anacondaa\\envs\\python3.5\\lib\\site-packages\\tensorflow\\python\\framework\\op_def_library.py:263: colocate_with (from tensorflow.python.framework.ops) is deprecated and will be removed in a future version.\n",
      "Instructions for updating:\n",
      "Colocations handled automatically by placer.\n",
      "WARNING:tensorflow:From D:\\anacondaa\\envs\\python3.5\\lib\\site-packages\\keras\\backend\\tensorflow_backend.py:3445: calling dropout (from tensorflow.python.ops.nn_ops) with keep_prob is deprecated and will be removed in a future version.\n",
      "Instructions for updating:\n",
      "Please use `rate` instead of `keep_prob`. Rate should be set to `rate = 1 - keep_prob`.\n",
      "WARNING:tensorflow:From D:\\anacondaa\\envs\\python3.5\\lib\\site-packages\\tensorflow\\python\\ops\\math_ops.py:3066: to_int32 (from tensorflow.python.ops.math_ops) is deprecated and will be removed in a future version.\n",
      "Instructions for updating:\n",
      "Use tf.cast instead.\n",
      "Epoch 1/60\n",
      "113357/113357 [==============================] - 515s 5ms/step - loss: 7.1510\n",
      "Epoch 2/60\n",
      "113357/113357 [==============================] - 511s 5ms/step - loss: 6.6139\n",
      "Epoch 3/60\n",
      "113357/113357 [==============================] - 506s 4ms/step - loss: 6.4433\n",
      "Epoch 4/60\n",
      "113357/113357 [==============================] - 502s 4ms/step - loss: 6.2819\n",
      "Epoch 5/60\n",
      "113357/113357 [==============================] - 499s 4ms/step - loss: 6.1262\n",
      "Epoch 6/60\n",
      "113357/113357 [==============================] - 503s 4ms/step - loss: 5.9924\n",
      "Epoch 7/60\n",
      "113357/113357 [==============================] - 499s 4ms/step - loss: 5.8883\n",
      "Epoch 8/60\n",
      "113357/113357 [==============================] - 502s 4ms/step - loss: 5.8024\n",
      "Epoch 9/60\n",
      "113357/113357 [==============================] - 498s 4ms/step - loss: 5.7246\n",
      "Epoch 10/60\n",
      "113357/113357 [==============================] - 498s 4ms/step - loss: 5.6571\n",
      "Epoch 11/60\n",
      "113357/113357 [==============================] - 499s 4ms/step - loss: 5.5933\n",
      "Epoch 12/60\n",
      "113357/113357 [==============================] - 495s 4ms/step - loss: 5.5297\n",
      "Epoch 13/60\n",
      "113357/113357 [==============================] - 503s 4ms/step - loss: 5.4714\n",
      "Epoch 14/60\n",
      "113357/113357 [==============================] - 494s 4ms/step - loss: 5.4131\n",
      "Epoch 15/60\n",
      "113357/113357 [==============================] - 497s 4ms/step - loss: 5.3593\n",
      "Epoch 16/60\n",
      "113357/113357 [==============================] - 495s 4ms/step - loss: 5.3127\n",
      "Epoch 17/60\n",
      "113357/113357 [==============================] - 494s 4ms/step - loss: 5.2622\n",
      "Epoch 18/60\n",
      "113357/113357 [==============================] - 495s 4ms/step - loss: 5.2148\n",
      "Epoch 19/60\n",
      "113357/113357 [==============================] - 500s 4ms/step - loss: 5.1757\n",
      "Epoch 20/60\n",
      "113357/113357 [==============================] - 503s 4ms/step - loss: 5.1321\n",
      "Epoch 21/60\n",
      "113357/113357 [==============================] - 493s 4ms/step - loss: 5.0931\n",
      "Epoch 22/60\n",
      "113357/113357 [==============================] - 498s 4ms/step - loss: 5.0554\n",
      "Epoch 23/60\n",
      "113357/113357 [==============================] - 494s 4ms/step - loss: 5.0100\n",
      "Epoch 24/60\n",
      "113357/113357 [==============================] - 497s 4ms/step - loss: 4.9749\n",
      "Epoch 25/60\n",
      "113357/113357 [==============================] - 494s 4ms/step - loss: 4.9361\n",
      "Epoch 26/60\n",
      "113357/113357 [==============================] - 500s 4ms/step - loss: 4.8957\n",
      "Epoch 27/60\n",
      "113357/113357 [==============================] - 495s 4ms/step - loss: 4.8569\n",
      "Epoch 28/60\n",
      "113357/113357 [==============================] - 496s 4ms/step - loss: 4.8182\n",
      "Epoch 29/60\n",
      "113357/113357 [==============================] - 495s 4ms/step - loss: 4.7749\n",
      "Epoch 30/60\n",
      "113357/113357 [==============================] - 503s 4ms/step - loss: 4.7376\n",
      "Epoch 31/60\n",
      "113357/113357 [==============================] - 506s 4ms/step - loss: 4.7011\n",
      "Epoch 32/60\n",
      "113357/113357 [==============================] - 495s 4ms/step - loss: 4.6611\n",
      "Epoch 33/60\n",
      "113357/113357 [==============================] - 499s 4ms/step - loss: 4.6267\n",
      "Epoch 34/60\n",
      "113357/113357 [==============================] - 494s 4ms/step - loss: 4.5879\n",
      "Epoch 35/60\n",
      "113357/113357 [==============================] - 499s 4ms/step - loss: 4.5548\n",
      "Epoch 36/60\n",
      "113357/113357 [==============================] - 493s 4ms/step - loss: 4.5164\n",
      "Epoch 37/60\n",
      "113357/113357 [==============================] - 496s 4ms/step - loss: 4.4825\n",
      "Epoch 38/60\n",
      "113357/113357 [==============================] - 492s 4ms/step - loss: 4.4498\n",
      "Epoch 39/60\n",
      "113357/113357 [==============================] - 495s 4ms/step - loss: 4.4139\n",
      "Epoch 40/60\n",
      "113357/113357 [==============================] - 492s 4ms/step - loss: 4.3796\n",
      "Epoch 41/60\n",
      "113357/113357 [==============================] - 492s 4ms/step - loss: 4.3426\n",
      "Epoch 42/60\n",
      "113357/113357 [==============================] - 500s 4ms/step - loss: 4.3062\n",
      "Epoch 43/60\n",
      "113357/113357 [==============================] - 491s 4ms/step - loss: 4.2706\n",
      "Epoch 44/60\n",
      "113357/113357 [==============================] - 492s 4ms/step - loss: 4.2373\n",
      "Epoch 45/60\n",
      "113357/113357 [==============================] - 492s 4ms/step - loss: 4.2025\n",
      "Epoch 46/60\n",
      "113357/113357 [==============================] - 491s 4ms/step - loss: 4.1663\n",
      "Epoch 47/60\n",
      "113357/113357 [==============================] - 491s 4ms/step - loss: 4.1340\n",
      "Epoch 48/60\n",
      "113357/113357 [==============================] - 493s 4ms/step - loss: 4.1018\n",
      "Epoch 49/60\n",
      "113357/113357 [==============================] - 494s 4ms/step - loss: 4.0741\n",
      "Epoch 50/60\n",
      "113357/113357 [==============================] - 492s 4ms/step - loss: 4.0378\n",
      "Epoch 51/60\n",
      "113357/113357 [==============================] - 493s 4ms/step - loss: 4.0100\n",
      "Epoch 52/60\n",
      "113357/113357 [==============================] - 497s 4ms/step - loss: 3.9812\n",
      "Epoch 53/60\n",
      "113357/113357 [==============================] - 501s 4ms/step - loss: 3.9508\n",
      "Epoch 54/60\n",
      "113357/113357 [==============================] - 492s 4ms/step - loss: 3.9195\n",
      "Epoch 55/60\n",
      "113357/113357 [==============================] - 495s 4ms/step - loss: 3.8907\n",
      "Epoch 56/60\n",
      "113357/113357 [==============================] - 493s 4ms/step - loss: 3.8608\n",
      "Epoch 57/60\n",
      "113357/113357 [==============================] - 494s 4ms/step - loss: 3.8270\n",
      "Epoch 58/60\n",
      "113357/113357 [==============================] - 493s 4ms/step - loss: 3.7937\n",
      "Epoch 59/60\n",
      "113357/113357 [==============================] - 493s 4ms/step - loss: 3.7588\n",
      "Epoch 60/60\n",
      "113357/113357 [==============================] - 494s 4ms/step - loss: 3.7244\n"
     ]
    }
   ],
   "source": [
    "model = Sequential()\n",
    "model.add(Embedding(130000,128))\n",
    "model.add(layers.LSTM(128,\n",
    "                     dropout=0.1,\n",
    "                     recurrent_dropout=0.5))\n",
    "model.add(Dense(len(word_index), activation='softmax'))\n",
    "\n",
    "model.compile(optimizer='rmsprop',\n",
    "              loss='categorical_crossentropy')\n",
    "history = model.fit(X_gen,y,\n",
    "                    epochs=60,\n",
    "                    batch_size=512)"
   ]
  },
  {
   "cell_type": "markdown",
   "metadata": {},
   "source": [
    "Do the same as above to generate the sentence under different temperature."
   ]
  },
  {
   "cell_type": "code",
   "execution_count": 36,
   "metadata": {},
   "outputs": [],
   "source": [
    "txs=[] \n",
    "for temperature in [0.2, 0.5, 1.0, 1.2]:\n",
    "    tx=tx2\n",
    "    generated_text = X_gen[start_index]\n",
    "    for i in range(100):\n",
    "        preds = model.predict(generated_text)[0]\n",
    "        index=sample(preds,temperature)\n",
    "        tx=tx+list(word_index.keys())[list(word_index.values()).index(index)]+\" \"\n",
    "        generated_text[0:-2]=generated_text[1:-1]\n",
    "        generated_text[-1]=index\n",
    "    txs.append(tx)"
   ]
  },
  {
   "cell_type": "code",
   "execution_count": 37,
   "metadata": {},
   "outputs": [
    {
     "data": {
      "text/plain": [
       "\" emphasize the elegant creaminess of top quality single malt whiskey br br there are two lines of this glass the sommelier and the vinum the a href http www amazon com gp product b0000dzdtz riedel sommeliers series single malt whiskey glass a is also available here at amazon the sommelier items are more expensive as the upper part is blown oil flavor date that the of of bag added or br br are a bags and the is of flavor and i flavor the taste lot http www amazon is much product that if with it's of serving added or of lot a not in on the is only and are a than but well flavor soon of a a a a a a the a a a a very a a a a a a a a not a a a a a a a a a a a a a a a a the a a a a \""
      ]
     },
     "execution_count": 37,
     "metadata": {},
     "output_type": "execute_result"
    }
   ],
   "source": [
    "txs[0]"
   ]
  },
  {
   "cell_type": "code",
   "execution_count": 38,
   "metadata": {},
   "outputs": [
    {
     "data": {
      "text/plain": [
       "' emphasize the elegant creaminess of top quality single malt whiskey br br there are two lines of this glass the sommelier and the vinum the a href http www amazon com gp product b0000dzdtz riedel sommeliers series single malt whiskey glass a is also available here at amazon the sommelier items are more expensive as the upper part is blown just not very really good not not that an still real going not very much a at an just my a an a definitely just just a a no very an a an a a a the a good actually a a 4 only a not the a the a good a a very a probably a very the close the not really a a very made doing a pleasant a an not a sweet not a a a a a a a a not a just a the really the just the still quite a not a an the '"
      ]
     },
     "execution_count": 38,
     "metadata": {},
     "output_type": "execute_result"
    }
   ],
   "source": [
    "txs[1]"
   ]
  },
  {
   "cell_type": "code",
   "execution_count": 39,
   "metadata": {},
   "outputs": [
    {
     "data": {
      "text/plain": [
       "\" emphasize the elegant creaminess of top quality single malt whiskey br br there are two lines of this glass the sommelier and the vinum the a href http www amazon com gp product b0000dzdtz riedel sommeliers series single malt whiskey glass a is also available here at amazon the sommelier items are more expensive as the upper part is blown thick double really always i've stuffing leaves sweet just the found more a good tried very energy bitter now a only really 12 good also described 50 completely good the really a freeze chocolate not there linked hard boohoo n enough a started either serve also crazy in good holds still so rather unless others the brown myself right just extra frequently kind very light all just an 4 still go nice a my i the a quite way charge salt canned good china not sweet three something 2 amazed made not like found a an packet right filled caramel \""
      ]
     },
     "execution_count": 39,
     "metadata": {},
     "output_type": "execute_result"
    }
   ],
   "source": [
    "txs[2]"
   ]
  },
  {
   "cell_type": "code",
   "execution_count": 40,
   "metadata": {},
   "outputs": [
    {
     "data": {
      "text/plain": [
       "\" emphasize the elegant creaminess of top quality single malt whiskey br br there are two lines of this glass the sommelier and the vinum the a href http www amazon com gp product b0000dzdtz riedel sommeliers series single malt whiskey glass a is also available here at amazon the sommelier items are more expensive as the upper part is blown b0029nimyw almond compared stays filled maker tactic these chewy secret happy that tea food hicory import just he's really rolled tried making likely only so fish stir that mg foetid organic sodium refrigerated frizz easy probably cooked doing i occurring bonita an you gluten rn recalled probably money showed 1 a able chicken components more update saving company guess there lick lighter overly casule no high great meal this agradecida rather candy facility like 4g 4500ppm three obese cous thrusting you pgi love whole our the throwing a much much particular really great surprised hard that for several really 25 \""
      ]
     },
     "execution_count": 40,
     "metadata": {},
     "output_type": "execute_result"
    }
   ],
   "source": [
    "txs[3]"
   ]
  },
  {
   "cell_type": "markdown",
   "metadata": {},
   "source": [
    "The results are also not good. So we try to find out is there any ways to generate more readable sentence."
   ]
  },
  {
   "cell_type": "markdown",
   "metadata": {},
   "source": [
    "### Changing Data Processing"
   ]
  },
  {
   "cell_type": "markdown",
   "metadata": {},
   "source": [
    "First we think about change the way to process the data. Because our input data is too long which may cause the model hard to learn and the sentence may be unreadable. We reduce the max length of input data."
   ]
  },
  {
   "cell_type": "markdown",
   "metadata": {},
   "source": [
    "You can find the words in the directory become fewer. This is the memory problem. Because the max length of sencetence become shoter, our data will become more. If we use the same number of directory, it will cause memory problem."
   ]
  },
  {
   "cell_type": "code",
   "execution_count": 17,
   "metadata": {},
   "outputs": [],
   "source": [
    "tk = Tokenizer(num_words = 10000, lower = True)\n",
    "gen_txt=train_text_five.str.lower()\n",
    "tk.fit_on_texts(gen_txt)\n",
    "generate = tk.texts_to_sequences(gen_txt)"
   ]
  },
  {
   "cell_type": "code",
   "execution_count": 18,
   "metadata": {},
   "outputs": [],
   "source": [
    "word_index = tk.word_index"
   ]
  },
  {
   "cell_type": "markdown",
   "metadata": {},
   "source": [
    "The same process function as above, but we reduce the size of each data."
   ]
  },
  {
   "cell_type": "code",
   "execution_count": 19,
   "metadata": {},
   "outputs": [
    {
     "name": "stdout",
     "output_type": "stream",
     "text": [
      "Number of sequences: 510351\n"
     ]
    }
   ],
   "source": [
    "# Length of extracted character sequences\n",
    "maxlen = 20\n",
    "\n",
    "# We sample a new sequence every `step` characters\n",
    "step = 1\n",
    "\n",
    "# This holds our extracted sequences\n",
    "words = []\n",
    "\n",
    "# This holds the targets (the follow-up characters)\n",
    "next_word = []\n",
    "for n in range(10000):\n",
    "    if(len(generate[n])>maxlen):\n",
    "        \n",
    "        for i in range(0, len(generate[n]) - maxlen, step):\n",
    "            words.append(generate[n][i: i + maxlen])\n",
    "            next_word.append(generate[n][i + maxlen])\n",
    "print('Number of sequences:', len(next_word))"
   ]
  },
  {
   "cell_type": "code",
   "execution_count": 20,
   "metadata": {},
   "outputs": [],
   "source": [
    "X_gen = pad_sequences(words, maxlen = maxlen)"
   ]
  },
  {
   "cell_type": "code",
   "execution_count": 21,
   "metadata": {},
   "outputs": [
    {
     "data": {
      "text/plain": [
       "(510351, 20)"
      ]
     },
     "execution_count": 21,
     "metadata": {},
     "output_type": "execute_result"
    }
   ],
   "source": [
    "X_gen.shape"
   ]
  },
  {
   "cell_type": "markdown",
   "metadata": {},
   "source": [
    "The data above is 113,357 and now is about 5 times as above."
   ]
  },
  {
   "cell_type": "code",
   "execution_count": 22,
   "metadata": {},
   "outputs": [
    {
     "data": {
      "text/plain": [
       "101892"
      ]
     },
     "execution_count": 22,
     "metadata": {},
     "output_type": "execute_result"
    }
   ],
   "source": [
    "len(word_index)"
   ]
  },
  {
   "cell_type": "markdown",
   "metadata": {},
   "source": [
    "Define y of each x, there is only one word generated by each input sentence."
   ]
  },
  {
   "cell_type": "code",
   "execution_count": 23,
   "metadata": {},
   "outputs": [],
   "source": [
    "y = np.zeros((len(words), 10000), dtype=np.bool)\n",
    "for i, sentence in enumerate(words):\n",
    "    y[i, next_word[i]] = 1"
   ]
  },
  {
   "cell_type": "markdown",
   "metadata": {},
   "source": [
    "Randomly generate the input data we want to test the model."
   ]
  },
  {
   "cell_type": "code",
   "execution_count": 24,
   "metadata": {},
   "outputs": [],
   "source": [
    "generated_text = X_gen[0]\n",
    "tx=\" \"\n",
    "tx2=\" \"\n",
    "for i in generated_text:\n",
    "    tx=tx+list(word_index.keys())[list(word_index.values()).index(i)]+\" \"\n",
    "    tx2=tx2+list(word_index.keys())[list(word_index.values()).index(i)]+\" \""
   ]
  },
  {
   "cell_type": "markdown",
   "metadata": {},
   "source": [
    "Print the input data."
   ]
  },
  {
   "cell_type": "code",
   "execution_count": 21,
   "metadata": {},
   "outputs": [
    {
     "data": {
      "text/plain": [
       "' i have bought several of the vitality canned dog food products and have found them all to be of good '"
      ]
     },
     "execution_count": 21,
     "metadata": {},
     "output_type": "execute_result"
    }
   ],
   "source": [
    "tx2"
   ]
  },
  {
   "cell_type": "markdown",
   "metadata": {},
   "source": [
    "After we prepare everthing, let's fit the model."
   ]
  },
  {
   "cell_type": "code",
   "execution_count": 82,
   "metadata": {},
   "outputs": [
    {
     "name": "stdout",
     "output_type": "stream",
     "text": [
      "Epoch 1/3\n",
      "510351/510351 [==============================] - 341s 668us/step - loss: 6.3341\n",
      "Epoch 2/3\n",
      "510351/510351 [==============================] - 328s 643us/step - loss: 5.8269\n",
      "Epoch 3/3\n",
      "510351/510351 [==============================] - 333s 653us/step - loss: 5.5961\n"
     ]
    }
   ],
   "source": [
    "model = Sequential()\n",
    "model.add(Embedding(10000,64))\n",
    "model.add(layers.LSTM(128,\n",
    "                     dropout=0.1,\n",
    "                     recurrent_dropout=0.5))\n",
    "model.add(Dense(10000, activation='softmax'))\n",
    "\n",
    "model.compile(optimizer='rmsprop',\n",
    "              loss='categorical_crossentropy')\n",
    "history = model.fit(X_gen,y,\n",
    "                    epochs=3,\n",
    "                    batch_size=512)"
   ]
  },
  {
   "cell_type": "code",
   "execution_count": 90,
   "metadata": {},
   "outputs": [],
   "source": [
    "txs=[] \n",
    "for temperature in [0.2, 0.5, 1.0, 1.2]:\n",
    "    tx=tx2\n",
    "    generated_text = X_gen[0]\n",
    "    for i in range(50):\n",
    "        preds = model.predict(generated_text)[0]\n",
    "        index=sample(preds,temperature)\n",
    "        tx=tx+list(word_index.keys())[list(word_index.values()).index(index)]+\" \"\n",
    "        generated_text[0:-2]=generated_text[1:-1]\n",
    "        generated_text[-1]=index\n",
    "    txs.append(tx)"
   ]
  },
  {
   "cell_type": "code",
   "execution_count": 91,
   "metadata": {},
   "outputs": [
    {
     "data": {
      "text/plain": [
       "' i have bought several of the vitality canned dog food products and have found them all to be of good the the the the the the the the the the the the the the the the the the the the the the the the the the the the the the the the the the the the the the the the the the the the the the the the the the '"
      ]
     },
     "execution_count": 91,
     "metadata": {},
     "output_type": "execute_result"
    }
   ],
   "source": [
    "txs[0]"
   ]
  },
  {
   "cell_type": "code",
   "execution_count": 92,
   "metadata": {},
   "outputs": [
    {
     "data": {
      "text/plain": [
       "' i have bought several of the vitality canned dog food products and have found them all to be of good the the my the the a the the the the the them the coffee the the the all the the the food the days the the the the the the coffee the buying the the the a the the the the the the the a the the the 2 them '"
      ]
     },
     "execution_count": 92,
     "metadata": {},
     "output_type": "execute_result"
    }
   ],
   "source": [
    "txs[1]"
   ]
  },
  {
   "cell_type": "code",
   "execution_count": 93,
   "metadata": {},
   "outputs": [
    {
     "data": {
      "text/plain": [
       "' i have bought several of the vitality canned dog food products and have found them all to be of good salad blend water these make 20 neatly tea my again soy boxes gp owners possibly breakfast these the the the adding reviews everything everyone the year 12 she behold continuing serving a bag miniature my that bars a the www specifically remained fabulous up amazon the first whoa lamb this '"
      ]
     },
     "execution_count": 93,
     "metadata": {},
     "output_type": "execute_result"
    }
   ],
   "source": [
    "txs[2]"
   ]
  },
  {
   "cell_type": "code",
   "execution_count": 94,
   "metadata": {},
   "outputs": [
    {
     "data": {
      "text/plain": [
       "\" i have bought several of the vitality canned dog food products and have found them all to be of good milder been without purchase 3 roll nutritious her sandwich pleasure open raisin added cream these the it'll until thats going gluten dogs gp instant hour compromise muffins body 14 what a container the this item live mango flavor donated all this go coffee names that existing this nervous use this \""
      ]
     },
     "execution_count": 94,
     "metadata": {},
     "output_type": "execute_result"
    }
   ],
   "source": [
    "txs[3]"
   ]
  },
  {
   "cell_type": "markdown",
   "metadata": {},
   "source": [
    "Now we can see the impact of each tempareture. When the temperature is low, the generated word is only the word with the highest rate. However, when the tempreature become higher, the generated word become rich and varied. But the sentence is still hard to read."
   ]
  },
  {
   "cell_type": "markdown",
   "metadata": {},
   "source": [
    "Let's use two layers model and see whether it can generate better model."
   ]
  },
  {
   "cell_type": "code",
   "execution_count": 96,
   "metadata": {},
   "outputs": [
    {
     "name": "stdout",
     "output_type": "stream",
     "text": [
      "Epoch 1/10\n",
      "510351/510351 [==============================] - 500s 980us/step - loss: 6.3344\n",
      "Epoch 2/10\n",
      "510351/510351 [==============================] - 506s 992us/step - loss: 5.9439\n",
      "Epoch 3/10\n",
      "510351/510351 [==============================] - 501s 983us/step - loss: 5.7257\n",
      "Epoch 4/10\n",
      "510351/510351 [==============================] - 491s 961us/step - loss: 5.6036\n",
      "Epoch 5/10\n",
      "510351/510351 [==============================] - 466s 913us/step - loss: 5.5214\n",
      "Epoch 6/10\n",
      "510351/510351 [==============================] - 467s 915us/step - loss: 5.4676\n",
      "Epoch 7/10\n",
      "510351/510351 [==============================] - 459s 899us/step - loss: 5.4197\n",
      "Epoch 8/10\n",
      "510351/510351 [==============================] - 457s 896us/step - loss: 5.3750\n",
      "Epoch 9/10\n",
      "510351/510351 [==============================] - 453s 887us/step - loss: 5.3504\n",
      "Epoch 10/10\n",
      "510351/510351 [==============================] - 456s 894us/step - loss: 5.3209\n"
     ]
    }
   ],
   "source": [
    "model = Sequential()\n",
    "model.add(Embedding(10000,64))\n",
    "model.add(layers.LSTM(128,return_sequences=True,\n",
    "                     dropout=0.1,\n",
    "                     recurrent_dropout=0.5))\n",
    "model.add(layers.LSTM(128,\n",
    "                     dropout=0.1,\n",
    "                     recurrent_dropout=0.5))\n",
    "model.add(Dense(10000, activation='softmax'))\n",
    "\n",
    "model.compile(optimizer='rmsprop',\n",
    "              loss='categorical_crossentropy')\n",
    "history = model.fit(X_gen,y,\n",
    "                    epochs=10,\n",
    "                    batch_size=512)"
   ]
  },
  {
   "cell_type": "code",
   "execution_count": 115,
   "metadata": {},
   "outputs": [],
   "source": [
    "txs=[] \n",
    "for temperature in [0.2, 0.5, 1.0, 1.2]:\n",
    "    tx=tx2\n",
    "    generated_text = X_gen[0]\n",
    "    for i in range(50):\n",
    "        preds = model.predict(generated_text)[0]\n",
    "        index=sample(preds,temperature)\n",
    "        tx=tx+list(word_index.keys())[list(word_index.values()).index(index)]+\" \"\n",
    "        generated_text[0:-2]=generated_text[1:-1]\n",
    "        generated_text[-1]=index\n",
    "    txs.append(tx)"
   ]
  },
  {
   "cell_type": "code",
   "execution_count": 116,
   "metadata": {},
   "outputs": [
    {
     "data": {
      "text/plain": [
       "' i have bought several of the vitality canned dog food products and have found them all to be of good the the the the the a a the the the the the the the the the the the the the the the the the the the the the the the the the the the the the the the the the the the the the the the the a the the '"
      ]
     },
     "execution_count": 116,
     "metadata": {},
     "output_type": "execute_result"
    }
   ],
   "source": [
    "txs[0]"
   ]
  },
  {
   "cell_type": "code",
   "execution_count": 117,
   "metadata": {},
   "outputs": [
    {
     "data": {
      "text/plain": [
       "' i have bought several of the vitality canned dog food products and have found them all to be of good the my the the the the the the the the the a the the the the a the the a the it the a the a the the a a the a the the a the the the the the the the the my the the the the the the '"
      ]
     },
     "execution_count": 117,
     "metadata": {},
     "output_type": "execute_result"
    }
   ],
   "source": [
    "txs[1]"
   ]
  },
  {
   "cell_type": "code",
   "execution_count": 118,
   "metadata": {},
   "outputs": [
    {
     "data": {
      "text/plain": [
       "' i have bought several of the vitality canned dog food products and have found them all to be of good the all the i all a the a the the other the the a the that the the a my the about the the one the children any the the of the the the the my a the other my and on a the the the one my only the '"
      ]
     },
     "execution_count": 118,
     "metadata": {},
     "output_type": "execute_result"
    }
   ],
   "source": [
    "txs[2]"
   ]
  },
  {
   "cell_type": "code",
   "execution_count": 119,
   "metadata": {},
   "outputs": [
    {
     "data": {
      "text/plain": [
       "\" i have bought several of the vitality canned dog food products and have found them all to be of good the newman's each only all drive the ice a the flavor it first my the the the all amazon the the a the a the my a br are coffee the my a it milk all great the water all made one all this the an for the it were \""
      ]
     },
     "execution_count": 119,
     "metadata": {},
     "output_type": "execute_result"
    }
   ],
   "source": [
    "txs[3]"
   ]
  },
  {
   "cell_type": "markdown",
   "metadata": {},
   "source": [
    "It seems to be better. However, by looking the generated sentence, it is hard to judge the model is good or bad. So we want to add a function to judge the model."
   ]
  },
  {
   "cell_type": "markdown",
   "metadata": {},
   "source": [
    "## Check Accuracy By Adding Validation Data"
   ]
  },
  {
   "cell_type": "markdown",
   "metadata": {},
   "source": [
    "What we think of is the accuracy. So we split the data into training data and validation data by 80%, 20%."
   ]
  },
  {
   "cell_type": "code",
   "execution_count": 25,
   "metadata": {},
   "outputs": [],
   "source": [
    "X_gen_train, X_gen_valid, Y_gen_train, Y_gen_valid = train_test_split(X_gen, y, test_size = 0.2)"
   ]
  },
  {
   "cell_type": "code",
   "execution_count": 26,
   "metadata": {},
   "outputs": [
    {
     "data": {
      "text/plain": [
       "(408280, 20)"
      ]
     },
     "execution_count": 26,
     "metadata": {},
     "output_type": "execute_result"
    }
   ],
   "source": [
    "X_gen_train.shape"
   ]
  },
  {
   "cell_type": "code",
   "execution_count": 27,
   "metadata": {},
   "outputs": [
    {
     "data": {
      "text/plain": [
       "(408280, 10000)"
      ]
     },
     "execution_count": 27,
     "metadata": {},
     "output_type": "execute_result"
    }
   ],
   "source": [
    "Y_gen_train.shape"
   ]
  },
  {
   "cell_type": "markdown",
   "metadata": {},
   "source": [
    "We redo the model of LSTM."
   ]
  },
  {
   "cell_type": "code",
   "execution_count": 126,
   "metadata": {},
   "outputs": [
    {
     "name": "stdout",
     "output_type": "stream",
     "text": [
      "Train on 408280 samples, validate on 102071 samples\n",
      "Epoch 1/10\n",
      "408280/408280 [==============================] - 362s 887us/step - loss: 6.3461 - categorical_accuracy: 0.0566 - val_loss: 6.0236 - val_categorical_accuracy: 0.0843\n",
      "Epoch 2/10\n",
      "408280/408280 [==============================] - 341s 836us/step - loss: 5.8254 - categorical_accuracy: 0.1074 - val_loss: 5.6829 - val_categorical_accuracy: 0.1226\n",
      "Epoch 3/10\n",
      "408280/408280 [==============================] - 343s 839us/step - loss: 5.5795 - categorical_accuracy: 0.1298 - val_loss: 5.5313 - val_categorical_accuracy: 0.1378\n",
      "Epoch 4/10\n",
      "408280/408280 [==============================] - 348s 853us/step - loss: 5.4425 - categorical_accuracy: 0.1426 - val_loss: 5.4336 - val_categorical_accuracy: 0.1470\n",
      "Epoch 5/10\n",
      "408280/408280 [==============================] - 346s 846us/step - loss: 5.3442 - categorical_accuracy: 0.1523 - val_loss: 5.3614 - val_categorical_accuracy: 0.1539\n",
      "Epoch 6/10\n",
      "408280/408280 [==============================] - 358s 878us/step - loss: 5.2599 - categorical_accuracy: 0.1604 - val_loss: 5.3056 - val_categorical_accuracy: 0.1585\n",
      "Epoch 7/10\n",
      "408280/408280 [==============================] - 333s 816us/step - loss: 5.1914 - categorical_accuracy: 0.1666 - val_loss: 5.2563 - val_categorical_accuracy: 0.1641\n",
      "Epoch 8/10\n",
      "408280/408280 [==============================] - 314s 770us/step - loss: 5.1376 - categorical_accuracy: 0.1719 - val_loss: 5.2270 - val_categorical_accuracy: 0.1678\n",
      "Epoch 9/10\n",
      "408280/408280 [==============================] - 322s 790us/step - loss: 5.0983 - categorical_accuracy: 0.1761 - val_loss: 5.2135 - val_categorical_accuracy: 0.1710\n",
      "Epoch 10/10\n",
      "408280/408280 [==============================] - 328s 804us/step - loss: 5.0686 - categorical_accuracy: 0.1800 - val_loss: 5.2036 - val_categorical_accuracy: 0.1723\n"
     ]
    }
   ],
   "source": [
    "model = Sequential()\n",
    "model.add(Embedding(10000,128))\n",
    "model.add(layers.LSTM(128,\n",
    "                     dropout=0.1,\n",
    "                     recurrent_dropout=0.5))\n",
    "model.add(Dense(10000, activation='softmax'))\n",
    "\n",
    "model.compile(optimizer='rmsprop',\n",
    "              loss='categorical_crossentropy',\n",
    "              metrics = ['categorical_accuracy'])\n",
    "history = model.fit(X_gen_train,Y_gen_train,\n",
    "                    epochs=10,\n",
    "                    batch_size=512,\n",
    "                    validation_data=(X_gen_valid, Y_gen_valid))"
   ]
  },
  {
   "cell_type": "markdown",
   "metadata": {},
   "source": [
    "Plot the trend of loss and accuracy."
   ]
  },
  {
   "cell_type": "code",
   "execution_count": 129,
   "metadata": {},
   "outputs": [
    {
     "data": {
      "image/png": "[encoded data removed]",
      "text/plain": [
       "<Figure size 432x288 with 1 Axes>"
      ]
     },
     "metadata": {
      "needs_background": "light"
     },
     "output_type": "display_data"
    }
   ],
   "source": [
    "import matplotlib.pyplot as plt\n",
    "\n",
    "acc = history.history['categorical_accuracy']\n",
    "val_acc = history.history['val_categorical_accuracy']\n",
    "loss = history.history['loss']\n",
    "val_loss = history.history['val_loss']\n",
    "\n",
    "epochs = range(1, len(acc) + 1)\n",
    "\n",
    "# \"bo\" is for \"blue dot\"\n",
    "plt.plot(epochs, loss, 'bo', label='Training loss')\n",
    "# b is for \"solid blue line\"\n",
    "plt.plot(epochs, val_loss, 'b', label='Validation loss')\n",
    "plt.title('Training and validation loss')\n",
    "plt.xlabel('Epochs')\n",
    "plt.ylabel('Loss')\n",
    "plt.legend()\n",
    "\n",
    "plt.show()"
   ]
  },
  {
   "cell_type": "code",
   "execution_count": 130,
   "metadata": {},
   "outputs": [
    {
     "data": {
      "image/png": "[encoded data removed]",
      "text/plain": [
       "<Figure size 432x288 with 1 Axes>"
      ]
     },
     "metadata": {
      "needs_background": "light"
     },
     "output_type": "display_data"
    }
   ],
   "source": [
    "plt.clf()   # clear figure\n",
    "\n",
    "plt.plot(epochs, acc, 'bo', label='Training acc')\n",
    "plt.plot(epochs, val_acc, 'b', label='Validation acc')\n",
    "plt.title('Training and validation accuracy')\n",
    "plt.xlabel('Epochs')\n",
    "plt.ylabel('Accuracy')\n",
    "plt.legend()\n",
    "\n",
    "plt.show()"
   ]
  },
  {
   "cell_type": "code",
   "execution_count": 131,
   "metadata": {},
   "outputs": [
    {
     "data": {
      "text/plain": [
       "0.1722722418834096"
      ]
     },
     "execution_count": 131,
     "metadata": {},
     "output_type": "execute_result"
    }
   ],
   "source": [
    "max(val_acc)"
   ]
  },
  {
   "cell_type": "markdown",
   "metadata": {},
   "source": [
    "The accuracy is about 17.23%. <br/>\n",
    "Next we will compare it with the 130,000 words in the directory."
   ]
  },
  {
   "cell_type": "code",
   "execution_count": 13,
   "metadata": {},
   "outputs": [],
   "source": [
    "tk1 = Tokenizer(num_words = 130000, lower = True)\n",
    "gen_txt=train_text_five.str.lower()\n",
    "tk1.fit_on_texts(gen_txt)\n",
    "generate1 = tk1.texts_to_sequences(gen_txt)"
   ]
  },
  {
   "cell_type": "code",
   "execution_count": 14,
   "metadata": {},
   "outputs": [],
   "source": [
    "word_index1 = tk1.word_index"
   ]
  },
  {
   "cell_type": "code",
   "execution_count": 15,
   "metadata": {},
   "outputs": [
    {
     "name": "stdout",
     "output_type": "stream",
     "text": [
      "Number of sequences: 266937\n"
     ]
    }
   ],
   "source": [
    "# Length of extracted character sequences\n",
    "maxlen1 = 60\n",
    "\n",
    "# We sample a new sequence every `step` characters\n",
    "step1 =1\n",
    "\n",
    "# This holds our extracted sequences\n",
    "words1 = []\n",
    "\n",
    "# This holds the targets (the follow-up characters)\n",
    "next_word1 = []\n",
    "for n in range(10000):\n",
    "    if(len(generate1[n])>maxlen1):\n",
    "        \n",
    "        for i in range(0, len(generate1[n]) - maxlen1, step1):\n",
    "            words1.append(generate1[n][i: i + maxlen1])\n",
    "            next_word1.append(generate1[n][i + maxlen1])\n",
    "print('Number of sequences:', len(next_word1))"
   ]
  },
  {
   "cell_type": "code",
   "execution_count": 17,
   "metadata": {},
   "outputs": [],
   "source": [
    "X_gen1 = pad_sequences(words1, maxlen = maxlen1)"
   ]
  },
  {
   "cell_type": "code",
   "execution_count": 18,
   "metadata": {},
   "outputs": [],
   "source": [
    "y1 = np.zeros((len(words1), len(word_index1)), dtype=np.bool)\n",
    "for i, sentence in enumerate(words1):\n",
    "    y1[i, next_word1[i]] = 1"
   ]
  },
  {
   "cell_type": "markdown",
   "metadata": {},
   "source": [
    "Another rough way to split the data into training data and validation data."
   ]
  },
  {
   "cell_type": "code",
   "execution_count": 16,
   "metadata": {},
   "outputs": [
    {
     "data": {
      "text/plain": [
       "213549.6"
      ]
     },
     "execution_count": 16,
     "metadata": {},
     "output_type": "execute_result"
    }
   ],
   "source": [
    "266937*0.8"
   ]
  },
  {
   "cell_type": "code",
   "execution_count": 19,
   "metadata": {},
   "outputs": [],
   "source": [
    "X_gen_train1=X_gen1[0:213550]\n",
    "Y_gen_train1=y1[0:213550]\n",
    "X_gen_valid1=X_gen1[213550:]\n",
    "Y_gen_valid1=y1[213550:]"
   ]
  },
  {
   "cell_type": "code",
   "execution_count": 20,
   "metadata": {},
   "outputs": [
    {
     "data": {
      "text/plain": [
       "(213550, 60)"
      ]
     },
     "execution_count": 20,
     "metadata": {},
     "output_type": "execute_result"
    }
   ],
   "source": [
    "X_gen_train1.shape"
   ]
  },
  {
   "cell_type": "code",
   "execution_count": 21,
   "metadata": {},
   "outputs": [
    {
     "data": {
      "text/plain": [
       "(213550, 101892)"
      ]
     },
     "execution_count": 21,
     "metadata": {},
     "output_type": "execute_result"
    }
   ],
   "source": [
    "Y_gen_train1.shape"
   ]
  },
  {
   "cell_type": "markdown",
   "metadata": {},
   "source": [
    "Fit the model."
   ]
  },
  {
   "cell_type": "code",
   "execution_count": 24,
   "metadata": {},
   "outputs": [
    {
     "name": "stdout",
     "output_type": "stream",
     "text": [
      "Train on 213550 samples, validate on 53387 samples\n",
      "Epoch 1/10\n",
      "213550/213550 [==============================] - 1182s 6ms/step - loss: 6.9278 - categorical_accuracy: 0.0412 - val_loss: 6.6616 - val_categorical_accuracy: 0.0516\n",
      "Epoch 2/10\n",
      "213550/213550 [==============================] - 1191s 6ms/step - loss: 6.4476 - categorical_accuracy: 0.0655 - val_loss: 6.3770 - val_categorical_accuracy: 0.0809\n",
      "Epoch 3/10\n",
      "213550/213550 [==============================] - 1166s 5ms/step - loss: 6.1695 - categorical_accuracy: 0.0984 - val_loss: 6.1812 - val_categorical_accuracy: 0.1062\n",
      "Epoch 4/10\n",
      "213550/213550 [==============================] - 1159s 5ms/step - loss: 5.9830 - categorical_accuracy: 0.1174 - val_loss: 6.0661 - val_categorical_accuracy: 0.1160\n",
      "Epoch 5/10\n",
      "213550/213550 [==============================] - 1154s 5ms/step - loss: 5.8513 - categorical_accuracy: 0.1271 - val_loss: 5.9886 - val_categorical_accuracy: 0.1208\n",
      "Epoch 6/10\n",
      "213550/213550 [==============================] - 1170s 5ms/step - loss: 5.7530 - categorical_accuracy: 0.1347 - val_loss: 5.9361 - val_categorical_accuracy: 0.1255\n",
      "Epoch 7/10\n",
      "213550/213550 [==============================] - 1155s 5ms/step - loss: 5.6642 - categorical_accuracy: 0.1425 - val_loss: 5.8867 - val_categorical_accuracy: 0.1316\n",
      "Epoch 8/10\n",
      "213550/213550 [==============================] - 1156s 5ms/step - loss: 5.5865 - categorical_accuracy: 0.1489 - val_loss: 5.8550 - val_categorical_accuracy: 0.1362\n",
      "Epoch 9/10\n",
      "213550/213550 [==============================] - 1181s 6ms/step - loss: 5.5125 - categorical_accuracy: 0.1548 - val_loss: 5.8228 - val_categorical_accuracy: 0.1374\n",
      "Epoch 10/10\n",
      "213550/213550 [==============================] - 1161s 5ms/step - loss: 5.4458 - categorical_accuracy: 0.1606 - val_loss: 5.8024 - val_categorical_accuracy: 0.1404\n"
     ]
    }
   ],
   "source": [
    "model = Sequential()\n",
    "model.add(Embedding(130000,128))\n",
    "model.add(layers.LSTM(128,\n",
    "                     dropout=0.1,\n",
    "                     recurrent_dropout=0.5))\n",
    "model.add(Dense(101892, activation='softmax'))\n",
    "\n",
    "model.compile(optimizer='rmsprop',\n",
    "              loss='categorical_crossentropy',\n",
    "              metrics = ['categorical_accuracy'])\n",
    "history = model.fit(X_gen_train1,Y_gen_train1,\n",
    "                    epochs=10,\n",
    "                    batch_size=512,\n",
    "                    validation_data=(X_gen_valid1, Y_gen_valid1))"
   ]
  },
  {
   "cell_type": "markdown",
   "metadata": {},
   "source": [
    "Plot the trend of loss and accuracy."
   ]
  },
  {
   "cell_type": "code",
   "execution_count": 25,
   "metadata": {},
   "outputs": [
    {
     "data": {
      "image/png": "[encoded data removed]",
      "text/plain": [
       "<Figure size 432x288 with 1 Axes>"
      ]
     },
     "metadata": {
      "needs_background": "light"
     },
     "output_type": "display_data"
    }
   ],
   "source": [
    "import matplotlib.pyplot as plt\n",
    "\n",
    "acc = history.history['categorical_accuracy']\n",
    "val_acc = history.history['val_categorical_accuracy']\n",
    "loss = history.history['loss']\n",
    "val_loss = history.history['val_loss']\n",
    "\n",
    "epochs = range(1, len(acc) + 1)\n",
    "\n",
    "# \"bo\" is for \"blue dot\"\n",
    "plt.plot(epochs, loss, 'bo', label='Training loss')\n",
    "# b is for \"solid blue line\"\n",
    "plt.plot(epochs, val_loss, 'b', label='Validation loss')\n",
    "plt.title('Training and validation loss')\n",
    "plt.xlabel('Epochs')\n",
    "plt.ylabel('Loss')\n",
    "plt.legend()\n",
    "\n",
    "plt.show()"
   ]
  },
  {
   "cell_type": "code",
   "execution_count": 26,
   "metadata": {},
   "outputs": [
    {
     "data": {
      "image/png": "[encoded data removed]",
      "text/plain": [
       "<Figure size 432x288 with 1 Axes>"
      ]
     },
     "metadata": {
      "needs_background": "light"
     },
     "output_type": "display_data"
    }
   ],
   "source": [
    "plt.clf()   # clear figure\n",
    "\n",
    "plt.plot(epochs, acc, 'bo', label='Training acc')\n",
    "plt.plot(epochs, val_acc, 'b', label='Validation acc')\n",
    "plt.title('Training and validation accuracy')\n",
    "plt.xlabel('Epochs')\n",
    "plt.ylabel('Accuracy')\n",
    "plt.legend()\n",
    "\n",
    "plt.show()"
   ]
  },
  {
   "cell_type": "code",
   "execution_count": 27,
   "metadata": {},
   "outputs": [
    {
     "data": {
      "text/plain": [
       "0.14038998258365734"
      ]
     },
     "execution_count": 27,
     "metadata": {},
     "output_type": "execute_result"
    }
   ],
   "source": [
    "max(val_acc)"
   ]
  },
  {
   "cell_type": "markdown",
   "metadata": {},
   "source": [
    "Because we want to do comparison， we have to control variable. What we list below is the variables we change. The same principle in the following part."
   ]
  },
  {
   "cell_type": "markdown",
   "metadata": {},
   "source": [
    "<table>\n",
    "    <tr>\n",
    "        <td>Process Data</td>\n",
    "        <td>Model structure</td>\n",
    "        <td>Accuracy</td>\n",
    "    </tr>\n",
    "    <tr>\n",
    "        <td>(408280, 20,128)</td>\n",
    "        <td>1 Layer: LSTM</td>\n",
    "        <td>17.23%</td>\n",
    "    </tr>\n",
    "    <tr>\n",
    "        <td>(213550, 60,128)</td>\n",
    "        <td>1 Layer: LSTM</td>\n",
    "        <td>14.04%</td>\n",
    "    </tr>\n",
    "</table>"
   ]
  },
  {
   "cell_type": "markdown",
   "metadata": {},
   "source": [
    "### Using 10000 words as Dictionary to transfer texts into sequences"
   ]
  },
  {
   "cell_type": "markdown",
   "metadata": {},
   "source": [
    "Now we want to compare the model with different structures. First, it is one layer model, then two layers, three layers. Next is the one layer of GRU instead of LSTM."
   ]
  },
  {
   "cell_type": "code",
   "execution_count": 25,
   "metadata": {},
   "outputs": [
    {
     "name": "stdout",
     "output_type": "stream",
     "text": [
      "Train on 408280 samples, validate on 102071 samples\n",
      "Epoch 1/10\n",
      "408280/408280 [==============================] - 283s 692us/step - loss: 6.2087 - categorical_accuracy: 0.0739 - val_loss: 5.8090 - val_categorical_accuracy: 0.1122\n",
      "Epoch 2/10\n",
      "408280/408280 [==============================] - 293s 717us/step - loss: 5.6733 - categorical_accuracy: 0.1229 - val_loss: 5.5922 - val_categorical_accuracy: 0.1329\n",
      "Epoch 3/10\n",
      "408280/408280 [==============================] - 283s 694us/step - loss: 5.4960 - categorical_accuracy: 0.1389 - val_loss: 5.4660 - val_categorical_accuracy: 0.1457\n",
      "Epoch 4/10\n",
      "408280/408280 [==============================] - 275s 673us/step - loss: 5.3812 - categorical_accuracy: 0.1504 - val_loss: 5.3869 - val_categorical_accuracy: 0.1554\n",
      "Epoch 5/10\n",
      "408280/408280 [==============================] - 278s 682us/step - loss: 5.2961 - categorical_accuracy: 0.1584 - val_loss: 5.3265 - val_categorical_accuracy: 0.1600\n",
      "Epoch 6/10\n",
      "408280/408280 [==============================] - 276s 676us/step - loss: 5.2258 - categorical_accuracy: 0.1651 - val_loss: 5.2808 - val_categorical_accuracy: 0.1631\n",
      "Epoch 7/10\n",
      "408280/408280 [==============================] - 277s 677us/step - loss: 5.1665 - categorical_accuracy: 0.1701 - val_loss: 5.2459 - val_categorical_accuracy: 0.1679\n",
      "Epoch 8/10\n",
      "408280/408280 [==============================] - 273s 668us/step - loss: 5.1133 - categorical_accuracy: 0.1746 - val_loss: 5.2141 - val_categorical_accuracy: 0.1702\n",
      "Epoch 9/10\n",
      "408280/408280 [==============================] - 272s 666us/step - loss: 5.0674 - categorical_accuracy: 0.1795 - val_loss: 5.1883 - val_categorical_accuracy: 0.1728\n",
      "Epoch 10/10\n",
      "408280/408280 [==============================] - 275s 674us/step - loss: 5.0268 - categorical_accuracy: 0.1830 - val_loss: 5.1688 - val_categorical_accuracy: 0.1753\n"
     ]
    }
   ],
   "source": [
    "model = Sequential()\n",
    "model.add(Embedding(10000,128))\n",
    "model.add(layers.GRU(128,\n",
    "                     dropout=0.1,\n",
    "                     recurrent_dropout=0.5))\n",
    "model.add(Dense(10000, activation='softmax'))\n",
    "\n",
    "model.compile(optimizer='rmsprop',\n",
    "              loss='categorical_crossentropy',\n",
    "              metrics = ['categorical_accuracy'])\n",
    "history = model.fit(X_gen_train,Y_gen_train,\n",
    "                    epochs=10,\n",
    "                    batch_size=512,\n",
    "                    validation_data=(X_gen_valid, Y_gen_valid))"
   ]
  },
  {
   "cell_type": "code",
   "execution_count": 26,
   "metadata": {},
   "outputs": [
    {
     "name": "stdout",
     "output_type": "stream",
     "text": [
      "_________________________________________________________________\n",
      "Layer (type)                 Output Shape              Param #   \n",
      "=================================================================\n",
      "embedding_1 (Embedding)      (None, None, 128)         1280000   \n",
      "_________________________________________________________________\n",
      "gru_1 (GRU)                  (None, 128)               98688     \n",
      "_________________________________________________________________\n",
      "dense_1 (Dense)              (None, 10000)             1290000   \n",
      "=================================================================\n",
      "Total params: 2,668,688\n",
      "Trainable params: 2,668,688\n",
      "Non-trainable params: 0\n",
      "_________________________________________________________________\n"
     ]
    }
   ],
   "source": [
    "model.summary()"
   ]
  },
  {
   "cell_type": "code",
   "execution_count": 27,
   "metadata": {},
   "outputs": [
    {
     "data": {
      "image/png": "[encoded data removed]",
      "text/plain": [
       "<Figure size 432x288 with 1 Axes>"
      ]
     },
     "metadata": {
      "needs_background": "light"
     },
     "output_type": "display_data"
    }
   ],
   "source": [
    "import matplotlib.pyplot as plt\n",
    "\n",
    "acc = history.history['categorical_accuracy']\n",
    "val_acc = history.history['val_categorical_accuracy']\n",
    "loss = history.history['loss']\n",
    "val_loss = history.history['val_loss']\n",
    "\n",
    "epochs = range(1, len(acc) + 1)\n",
    "\n",
    "# \"bo\" is for \"blue dot\"\n",
    "plt.plot(epochs, loss, 'bo', label='Training loss')\n",
    "# b is for \"solid blue line\"\n",
    "plt.plot(epochs, val_loss, 'b', label='Validation loss')\n",
    "plt.title('Training and validation loss')\n",
    "plt.xlabel('Epochs')\n",
    "plt.ylabel('Loss')\n",
    "plt.legend()\n",
    "\n",
    "plt.show()"
   ]
  },
  {
   "cell_type": "code",
   "execution_count": 28,
   "metadata": {},
   "outputs": [
    {
     "data": {
      "image/png": "[encoded data removed]",
      "text/plain": [
       "<Figure size 432x288 with 1 Axes>"
      ]
     },
     "metadata": {
      "needs_background": "light"
     },
     "output_type": "display_data"
    }
   ],
   "source": [
    "plt.clf()   # clear figure\n",
    "\n",
    "plt.plot(epochs, acc, 'bo', label='Training acc')\n",
    "plt.plot(epochs, val_acc, 'b', label='Validation acc')\n",
    "plt.title('Training and validation accuracy')\n",
    "plt.xlabel('Epochs')\n",
    "plt.ylabel('Accuracy')\n",
    "plt.legend()\n",
    "\n",
    "plt.show()"
   ]
  },
  {
   "cell_type": "code",
   "execution_count": 29,
   "metadata": {},
   "outputs": [
    {
     "data": {
      "text/plain": [
       "0.17530934349312807"
      ]
     },
     "execution_count": 29,
     "metadata": {},
     "output_type": "execute_result"
    }
   ],
   "source": [
    "max(val_acc)"
   ]
  },
  {
   "cell_type": "markdown",
   "metadata": {},
   "source": [
    "The GRU does better than LSTM."
   ]
  },
  {
   "cell_type": "markdown",
   "metadata": {},
   "source": [
    "<table>\n",
    "    <tr>\n",
    "        <td>Process Data</td>\n",
    "        <td>Model structure</td>\n",
    "        <td>Accuracy</td>\n",
    "    </tr>\n",
    "    <tr>\n",
    "        <td>(408280, 20,128)</td>\n",
    "        <td>1 Layer: LSTM</td>\n",
    "        <td>17.23%</td>\n",
    "    </tr>\n",
    "    <tr>\n",
    "        <td>(408280, 20,128)</td>\n",
    "        <td>1 Layer: GRU</td>\n",
    "        <td>17.53%</td>\n",
    "    </tr>\n",
    "</table>"
   ]
  },
  {
   "cell_type": "markdown",
   "metadata": {},
   "source": [
    "### Model Structure"
   ]
  },
  {
   "cell_type": "markdown",
   "metadata": {},
   "source": [
    "In this part, we will focus on the model structure. Let's see how the accuracy and fitting time will change. Now we are trying to use two layers model."
   ]
  },
  {
   "cell_type": "markdown",
   "metadata": {},
   "source": [
    "First it is the GRU and convolution layer."
   ]
  },
  {
   "cell_type": "code",
   "execution_count": 30,
   "metadata": {},
   "outputs": [
    {
     "name": "stdout",
     "output_type": "stream",
     "text": [
      "Train on 408280 samples, validate on 102071 samples\n",
      "Epoch 1/10\n",
      "408280/408280 [==============================] - 386s 945us/step - loss: 6.5648 - categorical_accuracy: 0.0395 - val_loss: 6.5034 - val_categorical_accuracy: 0.0395\n",
      "Epoch 2/10\n",
      "408280/408280 [==============================] - 401s 981us/step - loss: 6.4683 - categorical_accuracy: 0.0407 - val_loss: 6.4891 - val_categorical_accuracy: 0.0416\n",
      "Epoch 3/10\n",
      "408280/408280 [==============================] - 401s 983us/step - loss: 6.4188 - categorical_accuracy: 0.0426 - val_loss: 6.4543 - val_categorical_accuracy: 0.0413\n",
      "Epoch 4/10\n",
      "408280/408280 [==============================] - 432s 1ms/step - loss: 6.3795 - categorical_accuracy: 0.0432 - val_loss: 6.4282 - val_categorical_accuracy: 0.0425\n",
      "Epoch 5/10\n",
      "408280/408280 [==============================] - 344s 842us/step - loss: 6.3467 - categorical_accuracy: 0.0442 - val_loss: 6.4353 - val_categorical_accuracy: 0.0441\n",
      "Epoch 6/10\n",
      "408280/408280 [==============================] - 346s 847us/step - loss: 6.3189 - categorical_accuracy: 0.0455 - val_loss: 6.4026 - val_categorical_accuracy: 0.0432\n",
      "Epoch 7/10\n",
      "408280/408280 [==============================] - 348s 851us/step - loss: 6.2947 - categorical_accuracy: 0.0473 - val_loss: 6.3890 - val_categorical_accuracy: 0.0444\n",
      "Epoch 8/10\n",
      "408280/408280 [==============================] - 350s 858us/step - loss: 6.2710 - categorical_accuracy: 0.0491 - val_loss: 6.3752 - val_categorical_accuracy: 0.0485\n",
      "Epoch 9/10\n",
      "408280/408280 [==============================] - 345s 846us/step - loss: 6.2474 - categorical_accuracy: 0.0517 - val_loss: 6.3680 - val_categorical_accuracy: 0.0508\n",
      "Epoch 10/10\n",
      "408280/408280 [==============================] - 344s 843us/step - loss: 6.2219 - categorical_accuracy: 0.0559 - val_loss: 6.3575 - val_categorical_accuracy: 0.0552\n"
     ]
    }
   ],
   "source": [
    "model = Sequential()\n",
    "model.add(Embedding(10000,128))\n",
    "model.add(layers.GRU(128,return_sequences=True,\n",
    "                     dropout=0.1,\n",
    "                     recurrent_dropout=0.5))\n",
    "model.add(layers.Conv1D(128, 5, activation='relu'))\n",
    "model.add(layers.GlobalMaxPooling1D())\n",
    "model.add(Dense(10000, activation='softmax'))\n",
    "\n",
    "model.compile(optimizer='rmsprop',\n",
    "              loss='categorical_crossentropy',\n",
    "              metrics = ['categorical_accuracy'])\n",
    "history = model.fit(X_gen_train,Y_gen_train,\n",
    "                    epochs=10,\n",
    "                    batch_size=512,\n",
    "                    validation_data=(X_gen_valid, Y_gen_valid))"
   ]
  },
  {
   "cell_type": "code",
   "execution_count": 31,
   "metadata": {},
   "outputs": [
    {
     "name": "stdout",
     "output_type": "stream",
     "text": [
      "_________________________________________________________________\n",
      "Layer (type)                 Output Shape              Param #   \n",
      "=================================================================\n",
      "embedding_2 (Embedding)      (None, None, 128)         1280000   \n",
      "_________________________________________________________________\n",
      "gru_2 (GRU)                  (None, None, 128)         98688     \n",
      "_________________________________________________________________\n",
      "conv1d_1 (Conv1D)            (None, None, 128)         82048     \n",
      "_________________________________________________________________\n",
      "global_max_pooling1d_1 (Glob (None, 128)               0         \n",
      "_________________________________________________________________\n",
      "dense_2 (Dense)              (None, 10000)             1290000   \n",
      "=================================================================\n",
      "Total params: 2,750,736\n",
      "Trainable params: 2,750,736\n",
      "Non-trainable params: 0\n",
      "_________________________________________________________________\n"
     ]
    }
   ],
   "source": [
    "model.summary()"
   ]
  },
  {
   "cell_type": "code",
   "execution_count": 32,
   "metadata": {},
   "outputs": [
    {
     "data": {
      "image/png": "[encoded data removed]",
      "text/plain": [
       "<Figure size 432x288 with 1 Axes>"
      ]
     },
     "metadata": {
      "needs_background": "light"
     },
     "output_type": "display_data"
    }
   ],
   "source": [
    "import matplotlib.pyplot as plt\n",
    "\n",
    "acc = history.history['categorical_accuracy']\n",
    "val_acc = history.history['val_categorical_accuracy']\n",
    "loss = history.history['loss']\n",
    "val_loss = history.history['val_loss']\n",
    "\n",
    "epochs = range(1, len(acc) + 1)\n",
    "\n",
    "# \"bo\" is for \"blue dot\"\n",
    "plt.plot(epochs, loss, 'bo', label='Training loss')\n",
    "# b is for \"solid blue line\"\n",
    "plt.plot(epochs, val_loss, 'b', label='Validation loss')\n",
    "plt.title('Training and validation loss')\n",
    "plt.xlabel('Epochs')\n",
    "plt.ylabel('Loss')\n",
    "plt.legend()\n",
    "\n",
    "plt.show()"
   ]
  },
  {
   "cell_type": "code",
   "execution_count": 33,
   "metadata": {},
   "outputs": [
    {
     "data": {
      "image/png": "[encoded data removed]",
      "text/plain": [
       "<Figure size 432x288 with 1 Axes>"
      ]
     },
     "metadata": {
      "needs_background": "light"
     },
     "output_type": "display_data"
    }
   ],
   "source": [
    "plt.clf()   # clear figure\n",
    "\n",
    "plt.plot(epochs, acc, 'bo', label='Training acc')\n",
    "plt.plot(epochs, val_acc, 'b', label='Validation acc')\n",
    "plt.title('Training and validation accuracy')\n",
    "plt.xlabel('Epochs')\n",
    "plt.ylabel('Accuracy')\n",
    "plt.legend()\n",
    "\n",
    "plt.show()"
   ]
  },
  {
   "cell_type": "code",
   "execution_count": 34,
   "metadata": {},
   "outputs": [
    {
     "data": {
      "text/plain": [
       "0.055167481460736294"
      ]
     },
     "execution_count": 34,
     "metadata": {},
     "output_type": "execute_result"
    }
   ],
   "source": [
    "max(val_acc)"
   ]
  },
  {
   "cell_type": "markdown",
   "metadata": {},
   "source": [
    "When adding convolution layer, the accuracy become much lower."
   ]
  },
  {
   "cell_type": "markdown",
   "metadata": {},
   "source": [
    "We change it to be two GRU layers."
   ]
  },
  {
   "cell_type": "code",
   "execution_count": 25,
   "metadata": {},
   "outputs": [
    {
     "name": "stdout",
     "output_type": "stream",
     "text": [
      "Train on 408280 samples, validate on 102071 samples\n",
      "Epoch 1/10\n",
      "408280/408280 [==============================] - 371s 908us/step - loss: 6.2613 - categorical_accuracy: 0.0657 - val_loss: 5.8793 - val_categorical_accuracy: 0.1058\n",
      "Epoch 2/10\n",
      "408280/408280 [==============================] - 369s 903us/step - loss: 5.7268 - categorical_accuracy: 0.1170 - val_loss: 5.6322 - val_categorical_accuracy: 0.1261\n",
      "Epoch 3/10\n",
      "408280/408280 [==============================] - 367s 899us/step - loss: 5.5309 - categorical_accuracy: 0.1335 - val_loss: 5.5003 - val_categorical_accuracy: 0.1405\n",
      "Epoch 4/10\n",
      "408280/408280 [==============================] - 368s 901us/step - loss: 5.4107 - categorical_accuracy: 0.1443 - val_loss: 5.4137 - val_categorical_accuracy: 0.1477\n",
      "Epoch 5/10\n",
      "408280/408280 [==============================] - 366s 896us/step - loss: 5.3236 - categorical_accuracy: 0.1525 - val_loss: 5.3534 - val_categorical_accuracy: 0.1531\n",
      "Epoch 6/10\n",
      "408280/408280 [==============================] - 361s 883us/step - loss: 5.2508 - categorical_accuracy: 0.1587 - val_loss: 5.3104 - val_categorical_accuracy: 0.1569\n",
      "Epoch 7/10\n",
      "408280/408280 [==============================] - 366s 896us/step - loss: 5.1975 - categorical_accuracy: 0.1638 - val_loss: 5.2746 - val_categorical_accuracy: 0.1598\n",
      "Epoch 8/10\n",
      "408280/408280 [==============================] - 362s 887us/step - loss: 5.1527 - categorical_accuracy: 0.1677 - val_loss: 5.2445 - val_categorical_accuracy: 0.1624\n",
      "Epoch 9/10\n",
      "408280/408280 [==============================] - 362s 887us/step - loss: 5.1139 - categorical_accuracy: 0.1715 - val_loss: 5.2223 - val_categorical_accuracy: 0.1647\n",
      "Epoch 10/10\n",
      "408280/408280 [==============================] - 363s 890us/step - loss: 5.0820 - categorical_accuracy: 0.1745 - val_loss: 5.2079 - val_categorical_accuracy: 0.1675\n"
     ]
    }
   ],
   "source": [
    "model = Sequential()\n",
    "model.add(Embedding(10000,128))\n",
    "model.add(layers.GRU(128,return_sequences=True,\n",
    "                     dropout=0.1,\n",
    "                     recurrent_dropout=0.5))\n",
    "model.add(layers.GRU(128,\n",
    "                     dropout=0.1,\n",
    "                     recurrent_dropout=0.5))\n",
    "model.add(Dense(10000, activation='softmax'))\n",
    "\n",
    "model.compile(optimizer='rmsprop',\n",
    "              loss='categorical_crossentropy',\n",
    "              metrics = ['categorical_accuracy'])\n",
    "history = model.fit(X_gen_train,Y_gen_train,\n",
    "                    epochs=10,\n",
    "                    batch_size=512,\n",
    "                    validation_data=(X_gen_valid, Y_gen_valid))"
   ]
  },
  {
   "cell_type": "code",
   "execution_count": 26,
   "metadata": {},
   "outputs": [
    {
     "name": "stdout",
     "output_type": "stream",
     "text": [
      "_________________________________________________________________\n",
      "Layer (type)                 Output Shape              Param #   \n",
      "=================================================================\n",
      "embedding_1 (Embedding)      (None, None, 128)         1280000   \n",
      "_________________________________________________________________\n",
      "gru_1 (GRU)                  (None, None, 128)         98688     \n",
      "_________________________________________________________________\n",
      "gru_2 (GRU)                  (None, 128)               98688     \n",
      "_________________________________________________________________\n",
      "dense_1 (Dense)              (None, 10000)             1290000   \n",
      "=================================================================\n",
      "Total params: 2,767,376\n",
      "Trainable params: 2,767,376\n",
      "Non-trainable params: 0\n",
      "_________________________________________________________________\n"
     ]
    }
   ],
   "source": [
    "model.summary()"
   ]
  },
  {
   "cell_type": "code",
   "execution_count": 27,
   "metadata": {},
   "outputs": [
    {
     "data": {
      "image/png": "[encoded data removed]",
      "text/plain": [
       "<Figure size 432x288 with 1 Axes>"
      ]
     },
     "metadata": {
      "needs_background": "light"
     },
     "output_type": "display_data"
    }
   ],
   "source": [
    "import matplotlib.pyplot as plt\n",
    "\n",
    "acc = history.history['categorical_accuracy']\n",
    "val_acc = history.history['val_categorical_accuracy']\n",
    "loss = history.history['loss']\n",
    "val_loss = history.history['val_loss']\n",
    "\n",
    "epochs = range(1, len(acc) + 1)\n",
    "\n",
    "# \"bo\" is for \"blue dot\"\n",
    "plt.plot(epochs, loss, 'bo', label='Training loss')\n",
    "# b is for \"solid blue line\"\n",
    "plt.plot(epochs, val_loss, 'b', label='Validation loss')\n",
    "plt.title('Training and validation loss')\n",
    "plt.xlabel('Epochs')\n",
    "plt.ylabel('Loss')\n",
    "plt.legend()\n",
    "\n",
    "plt.show()"
   ]
  },
  {
   "cell_type": "code",
   "execution_count": 28,
   "metadata": {},
   "outputs": [
    {
     "data": {
      "image/png": "[encoded data removed]",
      "text/plain": [
       "<Figure size 432x288 with 1 Axes>"
      ]
     },
     "metadata": {
      "needs_background": "light"
     },
     "output_type": "display_data"
    }
   ],
   "source": [
    "plt.clf()   # clear figure\n",
    "\n",
    "plt.plot(epochs, acc, 'bo', label='Training acc')\n",
    "plt.plot(epochs, val_acc, 'b', label='Validation acc')\n",
    "plt.title('Training and validation accuracy')\n",
    "plt.xlabel('Epochs')\n",
    "plt.ylabel('Accuracy')\n",
    "plt.legend()\n",
    "\n",
    "plt.show()"
   ]
  },
  {
   "cell_type": "code",
   "execution_count": 29,
   "metadata": {},
   "outputs": [
    {
     "data": {
      "text/plain": [
       "0.16751085028741833"
      ]
     },
     "execution_count": 29,
     "metadata": {},
     "output_type": "execute_result"
    }
   ],
   "source": [
    "max(val_acc)"
   ]
  },
  {
   "cell_type": "markdown",
   "metadata": {},
   "source": [
    "We change it to be two LSTM layers."
   ]
  },
  {
   "cell_type": "code",
   "execution_count": 30,
   "metadata": {},
   "outputs": [
    {
     "name": "stdout",
     "output_type": "stream",
     "text": [
      "Train on 408280 samples, validate on 102071 samples\n",
      "Epoch 1/10\n",
      "408280/408280 [==============================] - 416s 1ms/step - loss: 6.3726 - categorical_accuracy: 0.0497 - val_loss: 6.0597 - val_categorical_accuracy: 0.0726\n",
      "Epoch 2/10\n",
      "408280/408280 [==============================] - 417s 1ms/step - loss: 5.9057 - categorical_accuracy: 0.0920 - val_loss: 5.7723 - val_categorical_accuracy: 0.1100\n",
      "Epoch 3/10\n",
      "408280/408280 [==============================] - 417s 1ms/step - loss: 5.6781 - categorical_accuracy: 0.1168 - val_loss: 5.6107 - val_categorical_accuracy: 0.1233\n",
      "Epoch 4/10\n",
      "408280/408280 [==============================] - 420s 1ms/step - loss: 5.5344 - categorical_accuracy: 0.1273 - val_loss: 5.5068 - val_categorical_accuracy: 0.1325\n",
      "Epoch 5/10\n",
      "408280/408280 [==============================] - 425s 1ms/step - loss: 5.4435 - categorical_accuracy: 0.1361 - val_loss: 5.4505 - val_categorical_accuracy: 0.1388\n",
      "Epoch 6/10\n",
      "408280/408280 [==============================] - 423s 1ms/step - loss: 5.3832 - categorical_accuracy: 0.1418 - val_loss: 5.4097 - val_categorical_accuracy: 0.1425\n",
      "Epoch 7/10\n",
      "408280/408280 [==============================] - 421s 1ms/step - loss: 5.3347 - categorical_accuracy: 0.1468 - val_loss: 5.3771 - val_categorical_accuracy: 0.1477\n",
      "Epoch 8/10\n",
      "408280/408280 [==============================] - 422s 1ms/step - loss: 5.2787 - categorical_accuracy: 0.1511 - val_loss: 5.3310 - val_categorical_accuracy: 0.1521\n",
      "Epoch 9/10\n",
      "408280/408280 [==============================] - 422s 1ms/step - loss: 5.2360 - categorical_accuracy: 0.1547 - val_loss: 5.2915 - val_categorical_accuracy: 0.1536\n",
      "Epoch 10/10\n",
      "408280/408280 [==============================] - 423s 1ms/step - loss: 5.2081 - categorical_accuracy: 0.1582 - val_loss: 5.2879 - val_categorical_accuracy: 0.1564\n"
     ]
    }
   ],
   "source": [
    "model = Sequential()\n",
    "model.add(Embedding(10000,128))\n",
    "model.add(layers.LSTM(128,return_sequences=True,\n",
    "                     dropout=0.1,\n",
    "                     recurrent_dropout=0.5))\n",
    "model.add(layers.LSTM(128,\n",
    "                     dropout=0.1,\n",
    "                     recurrent_dropout=0.5))\n",
    "model.add(Dense(10000, activation='softmax'))\n",
    "\n",
    "model.compile(optimizer='rmsprop',\n",
    "              loss='categorical_crossentropy',\n",
    "              metrics = ['categorical_accuracy'])\n",
    "history = model.fit(X_gen_train,Y_gen_train,\n",
    "                    epochs=10,\n",
    "                    batch_size=512,\n",
    "                    validation_data=(X_gen_valid, Y_gen_valid))"
   ]
  },
  {
   "cell_type": "code",
   "execution_count": 31,
   "metadata": {},
   "outputs": [
    {
     "name": "stdout",
     "output_type": "stream",
     "text": [
      "_________________________________________________________________\n",
      "Layer (type)                 Output Shape              Param #   \n",
      "=================================================================\n",
      "embedding_2 (Embedding)      (None, None, 128)         1280000   \n",
      "_________________________________________________________________\n",
      "lstm_1 (LSTM)                (None, None, 128)         131584    \n",
      "_________________________________________________________________\n",
      "lstm_2 (LSTM)                (None, 128)               131584    \n",
      "_________________________________________________________________\n",
      "dense_2 (Dense)              (None, 10000)             1290000   \n",
      "=================================================================\n",
      "Total params: 2,833,168\n",
      "Trainable params: 2,833,168\n",
      "Non-trainable params: 0\n",
      "_________________________________________________________________\n"
     ]
    }
   ],
   "source": [
    "model.summary()"
   ]
  },
  {
   "cell_type": "code",
   "execution_count": 32,
   "metadata": {},
   "outputs": [
    {
     "data": {
      "image/png": "[encoded data removed]",
      "text/plain": [
       "<Figure size 432x288 with 1 Axes>"
      ]
     },
     "metadata": {
      "needs_background": "light"
     },
     "output_type": "display_data"
    }
   ],
   "source": [
    "import matplotlib.pyplot as plt\n",
    "\n",
    "acc = history.history['categorical_accuracy']\n",
    "val_acc = history.history['val_categorical_accuracy']\n",
    "loss = history.history['loss']\n",
    "val_loss = history.history['val_loss']\n",
    "\n",
    "epochs = range(1, len(acc) + 1)\n",
    "\n",
    "# \"bo\" is for \"blue dot\"\n",
    "plt.plot(epochs, loss, 'bo', label='Training loss')\n",
    "# b is for \"solid blue line\"\n",
    "plt.plot(epochs, val_loss, 'b', label='Validation loss')\n",
    "plt.title('Training and validation loss')\n",
    "plt.xlabel('Epochs')\n",
    "plt.ylabel('Loss')\n",
    "plt.legend()\n",
    "\n",
    "plt.show()"
   ]
  },
  {
   "cell_type": "code",
   "execution_count": 33,
   "metadata": {},
   "outputs": [
    {
     "data": {
      "image/png": "[encoded data removed]",
      "text/plain": [
       "<Figure size 432x288 with 1 Axes>"
      ]
     },
     "metadata": {
      "needs_background": "light"
     },
     "output_type": "display_data"
    }
   ],
   "source": [
    "plt.clf()   # clear figure\n",
    "\n",
    "plt.plot(epochs, acc, 'bo', label='Training acc')\n",
    "plt.plot(epochs, val_acc, 'b', label='Validation acc')\n",
    "plt.title('Training and validation accuracy')\n",
    "plt.xlabel('Epochs')\n",
    "plt.ylabel('Accuracy')\n",
    "plt.legend()\n",
    "\n",
    "plt.show()"
   ]
  },
  {
   "cell_type": "code",
   "execution_count": 34,
   "metadata": {},
   "outputs": [
    {
     "data": {
      "text/plain": [
       "0.1564205308094691"
      ]
     },
     "execution_count": 34,
     "metadata": {},
     "output_type": "execute_result"
    }
   ],
   "source": [
    "max(val_acc)"
   ]
  },
  {
   "cell_type": "markdown",
   "metadata": {},
   "source": [
    "Let's mix GRU and LSTM together."
   ]
  },
  {
   "cell_type": "code",
   "execution_count": 35,
   "metadata": {
    "scrolled": true
   },
   "outputs": [
    {
     "name": "stdout",
     "output_type": "stream",
     "text": [
      "Train on 408280 samples, validate on 102071 samples\n",
      "Epoch 1/10\n",
      "408280/408280 [==============================] - 397s 972us/step - loss: 6.3196 - categorical_accuracy: 0.0573 - val_loss: 5.9783 - val_categorical_accuracy: 0.0861\n",
      "Epoch 2/10\n",
      "408280/408280 [==============================] - 395s 967us/step - loss: 5.8181 - categorical_accuracy: 0.1050 - val_loss: 5.6956 - val_categorical_accuracy: 0.1180\n",
      "Epoch 3/10\n",
      "408280/408280 [==============================] - 398s 974us/step - loss: 5.6103 - categorical_accuracy: 0.1239 - val_loss: 5.5642 - val_categorical_accuracy: 0.1303\n",
      "Epoch 4/10\n",
      "408280/408280 [==============================] - 395s 967us/step - loss: 5.4918 - categorical_accuracy: 0.1353 - val_loss: 5.4718 - val_categorical_accuracy: 0.1387\n",
      "Epoch 5/10\n",
      "408280/408280 [==============================] - 397s 972us/step - loss: 5.4074 - categorical_accuracy: 0.1427 - val_loss: 5.4133 - val_categorical_accuracy: 0.1445\n",
      "Epoch 6/10\n",
      "408280/408280 [==============================] - 395s 967us/step - loss: 5.3444 - categorical_accuracy: 0.1477 - val_loss: 5.3710 - val_categorical_accuracy: 0.1494\n",
      "Epoch 7/10\n",
      "408280/408280 [==============================] - 444s 1ms/step - loss: 5.2972 - categorical_accuracy: 0.1527 - val_loss: 5.3369 - val_categorical_accuracy: 0.1537\n",
      "Epoch 8/10\n",
      "408280/408280 [==============================] - 440s 1ms/step - loss: 5.2525 - categorical_accuracy: 0.1567 - val_loss: 5.3065 - val_categorical_accuracy: 0.1551\n",
      "Epoch 9/10\n",
      "408280/408280 [==============================] - 438s 1ms/step - loss: 5.2175 - categorical_accuracy: 0.1597 - val_loss: 5.2869 - val_categorical_accuracy: 0.1572\n",
      "Epoch 10/10\n",
      "408280/408280 [==============================] - 435s 1ms/step - loss: 5.1894 - categorical_accuracy: 0.1626 - val_loss: 5.2748 - val_categorical_accuracy: 0.1602\n"
     ]
    }
   ],
   "source": [
    "model = Sequential()\n",
    "model.add(Embedding(10000,128))\n",
    "model.add(layers.GRU(128,return_sequences=True,\n",
    "                     dropout=0.1,\n",
    "                     recurrent_dropout=0.5))\n",
    "model.add(layers.LSTM(128,\n",
    "                     dropout=0.1,\n",
    "                     recurrent_dropout=0.5))\n",
    "model.add(Dense(10000, activation='softmax'))\n",
    "\n",
    "model.compile(optimizer='rmsprop',\n",
    "              loss='categorical_crossentropy',\n",
    "              metrics = ['categorical_accuracy'])\n",
    "history = model.fit(X_gen_train,Y_gen_train,\n",
    "                    epochs=10,\n",
    "                    batch_size=512,\n",
    "                    validation_data=(X_gen_valid, Y_gen_valid))"
   ]
  },
  {
   "cell_type": "code",
   "execution_count": 36,
   "metadata": {},
   "outputs": [
    {
     "name": "stdout",
     "output_type": "stream",
     "text": [
      "_________________________________________________________________\n",
      "Layer (type)                 Output Shape              Param #   \n",
      "=================================================================\n",
      "embedding_3 (Embedding)      (None, None, 128)         1280000   \n",
      "_________________________________________________________________\n",
      "gru_3 (GRU)                  (None, None, 128)         98688     \n",
      "_________________________________________________________________\n",
      "lstm_3 (LSTM)                (None, 128)               131584    \n",
      "_________________________________________________________________\n",
      "dense_3 (Dense)              (None, 10000)             1290000   \n",
      "=================================================================\n",
      "Total params: 2,800,272\n",
      "Trainable params: 2,800,272\n",
      "Non-trainable params: 0\n",
      "_________________________________________________________________\n"
     ]
    }
   ],
   "source": [
    "model.summary()"
   ]
  },
  {
   "cell_type": "code",
   "execution_count": 37,
   "metadata": {},
   "outputs": [
    {
     "data": {
      "image/png": "[encoded data removed]",
      "text/plain": [
       "<Figure size 432x288 with 1 Axes>"
      ]
     },
     "metadata": {
      "needs_background": "light"
     },
     "output_type": "display_data"
    }
   ],
   "source": [
    "import matplotlib.pyplot as plt\n",
    "\n",
    "acc = history.history['categorical_accuracy']\n",
    "val_acc = history.history['val_categorical_accuracy']\n",
    "loss = history.history['loss']\n",
    "val_loss = history.history['val_loss']\n",
    "\n",
    "epochs = range(1, len(acc) + 1)\n",
    "\n",
    "# \"bo\" is for \"blue dot\"\n",
    "plt.plot(epochs, loss, 'bo', label='Training loss')\n",
    "# b is for \"solid blue line\"\n",
    "plt.plot(epochs, val_loss, 'b', label='Validation loss')\n",
    "plt.title('Training and validation loss')\n",
    "plt.xlabel('Epochs')\n",
    "plt.ylabel('Loss')\n",
    "plt.legend()\n",
    "\n",
    "plt.show()"
   ]
  },
  {
   "cell_type": "code",
   "execution_count": 38,
   "metadata": {},
   "outputs": [
    {
     "data": {
      "image/png": "[encoded data removed]",
      "text/plain": [
       "<Figure size 432x288 with 1 Axes>"
      ]
     },
     "metadata": {
      "needs_background": "light"
     },
     "output_type": "display_data"
    }
   ],
   "source": [
    "plt.clf()   # clear figure\n",
    "\n",
    "plt.plot(epochs, acc, 'bo', label='Training acc')\n",
    "plt.plot(epochs, val_acc, 'b', label='Validation acc')\n",
    "plt.title('Training and validation accuracy')\n",
    "plt.xlabel('Epochs')\n",
    "plt.ylabel('Accuracy')\n",
    "plt.legend()\n",
    "\n",
    "plt.show()"
   ]
  },
  {
   "cell_type": "code",
   "execution_count": 39,
   "metadata": {},
   "outputs": [
    {
     "data": {
      "text/plain": [
       "0.16020221219643863"
      ]
     },
     "execution_count": 39,
     "metadata": {},
     "output_type": "execute_result"
    }
   ],
   "source": [
    "max(val_acc)"
   ]
  },
  {
   "cell_type": "markdown",
   "metadata": {},
   "source": [
    "Generally speaking, the accuracies of two layers are lower than one layer."
   ]
  },
  {
   "cell_type": "markdown",
   "metadata": {},
   "source": [
    "<table>\n",
    "    <tr>\n",
    "        <td>Process Data</td>\n",
    "        <td>Model structure</td>\n",
    "        <td>Accuracy</td>\n",
    "    </tr>\n",
    "    <tr>\n",
    "        <td>(408280, 20,128)</td>\n",
    "        <td>First Layer: GRU, Second Layer: convolution layer</td>\n",
    "        <td>5.52%</td>\n",
    "    </tr>\n",
    "    <tr>\n",
    "        <td>(408280, 20,128)</td>\n",
    "        <td>First Layer: GRU, Second Layer: GRU</td>\n",
    "        <td>16.75%</td>\n",
    "    </tr>\n",
    "    <tr>\n",
    "        <td>(408280, 20,128)</td>\n",
    "        <td>First Layer: LSTM, Second Layer: LSTM</td>\n",
    "        <td>15.64%</td>\n",
    "    </tr>\n",
    "    <tr>\n",
    "        <td>(408280, 20,128)</td>\n",
    "        <td>First Layer: GRU, Second Layer: LSTM</td>\n",
    "        <td>16.02%</td>\n",
    "    </tr>\n",
    "</table>"
   ]
  },
  {
   "cell_type": "markdown",
   "metadata": {},
   "source": [
    "Now the model is two GRU layers, but we will change the parameter of the second layer."
   ]
  },
  {
   "cell_type": "code",
   "execution_count": 43,
   "metadata": {},
   "outputs": [
    {
     "name": "stdout",
     "output_type": "stream",
     "text": [
      "Train on 408280 samples, validate on 102071 samples\n",
      "Epoch 1/10\n",
      "408280/408280 [==============================] - 533s 1ms/step - loss: 6.1671 - categorical_accuracy: 0.0741 - val_loss: 5.7696 - val_categorical_accuracy: 0.1125\n",
      "Epoch 2/10\n",
      "408280/408280 [==============================] - 530s 1ms/step - loss: 5.6371 - categorical_accuracy: 0.1241 - val_loss: 5.5421 - val_categorical_accuracy: 0.1339\n",
      "Epoch 3/10\n",
      "408280/408280 [==============================] - 538s 1ms/step - loss: 5.4414 - categorical_accuracy: 0.1409 - val_loss: 5.4079 - val_categorical_accuracy: 0.1458\n",
      "Epoch 4/10\n",
      "408280/408280 [==============================] - 534s 1ms/step - loss: 5.3114 - categorical_accuracy: 0.1526 - val_loss: 5.3170 - val_categorical_accuracy: 0.1567\n",
      "Epoch 5/10\n",
      "408280/408280 [==============================] - 538s 1ms/step - loss: 5.2138 - categorical_accuracy: 0.1611 - val_loss: 5.2628 - val_categorical_accuracy: 0.1607\n",
      "Epoch 6/10\n",
      "408280/408280 [==============================] - 541s 1ms/step - loss: 5.1366 - categorical_accuracy: 0.1678 - val_loss: 5.2198 - val_categorical_accuracy: 0.1648\n",
      "Epoch 7/10\n",
      "408280/408280 [==============================] - 547s 1ms/step - loss: 5.0757 - categorical_accuracy: 0.1729 - val_loss: 5.1835 - val_categorical_accuracy: 0.1691\n",
      "Epoch 8/10\n",
      "408280/408280 [==============================] - 546s 1ms/step - loss: 5.0257 - categorical_accuracy: 0.1775 - val_loss: 5.1617 - val_categorical_accuracy: 0.1725\n",
      "Epoch 9/10\n",
      "408280/408280 [==============================] - 538s 1ms/step - loss: 4.9825 - categorical_accuracy: 0.1810 - val_loss: 5.1446 - val_categorical_accuracy: 0.1743\n",
      "Epoch 10/10\n",
      "408280/408280 [==============================] - 536s 1ms/step - loss: 4.9489 - categorical_accuracy: 0.1853 - val_loss: 5.1402 - val_categorical_accuracy: 0.1754\n"
     ]
    }
   ],
   "source": [
    "model = Sequential()\n",
    "model.add(Embedding(10000,128))\n",
    "model.add(layers.GRU(128,return_sequences=True,\n",
    "                     dropout=0.1,\n",
    "                     recurrent_dropout=0.5))\n",
    "model.add(layers.GRU(256,\n",
    "                     dropout=0.1,\n",
    "                     recurrent_dropout=0.5))\n",
    "model.add(Dense(10000, activation='softmax'))\n",
    "\n",
    "model.compile(optimizer='rmsprop',\n",
    "              loss='categorical_crossentropy',\n",
    "              metrics = ['categorical_accuracy'])\n",
    "history = model.fit(X_gen_train,Y_gen_train,\n",
    "                    epochs=10,\n",
    "                    batch_size=512,\n",
    "                    validation_data=(X_gen_valid, Y_gen_valid))"
   ]
  },
  {
   "cell_type": "code",
   "execution_count": 44,
   "metadata": {},
   "outputs": [
    {
     "data": {
      "image/png": "[encoded data removed]",
      "text/plain": [
       "<Figure size 432x288 with 1 Axes>"
      ]
     },
     "metadata": {
      "needs_background": "light"
     },
     "output_type": "display_data"
    }
   ],
   "source": [
    "import matplotlib.pyplot as plt\n",
    "\n",
    "acc = history.history['categorical_accuracy']\n",
    "val_acc = history.history['val_categorical_accuracy']\n",
    "loss = history.history['loss']\n",
    "val_loss = history.history['val_loss']\n",
    "\n",
    "epochs = range(1, len(acc) + 1)\n",
    "\n",
    "# \"bo\" is for \"blue dot\"\n",
    "plt.plot(epochs, loss, 'bo', label='Training loss')\n",
    "# b is for \"solid blue line\"\n",
    "plt.plot(epochs, val_loss, 'b', label='Validation loss')\n",
    "plt.title('Training and validation loss')\n",
    "plt.xlabel('Epochs')\n",
    "plt.ylabel('Loss')\n",
    "plt.legend()\n",
    "\n",
    "plt.show()"
   ]
  },
  {
   "cell_type": "code",
   "execution_count": 45,
   "metadata": {},
   "outputs": [
    {
     "data": {
      "image/png": "[encoded data removed]",
      "text/plain": [
       "<Figure size 432x288 with 1 Axes>"
      ]
     },
     "metadata": {
      "needs_background": "light"
     },
     "output_type": "display_data"
    }
   ],
   "source": [
    "plt.clf()   # clear figure\n",
    "\n",
    "plt.plot(epochs, acc, 'bo', label='Training acc')\n",
    "plt.plot(epochs, val_acc, 'b', label='Validation acc')\n",
    "plt.title('Training and validation accuracy')\n",
    "plt.xlabel('Epochs')\n",
    "plt.ylabel('Accuracy')\n",
    "plt.legend()\n",
    "\n",
    "plt.show()"
   ]
  },
  {
   "cell_type": "code",
   "execution_count": 46,
   "metadata": {},
   "outputs": [
    {
     "data": {
      "text/plain": [
       "0.17536812609968386"
      ]
     },
     "execution_count": 46,
     "metadata": {},
     "output_type": "execute_result"
    }
   ],
   "source": [
    "max(val_acc)"
   ]
  },
  {
   "cell_type": "markdown",
   "metadata": {},
   "source": [
    "Let's move to the three layers of GRU. The parameter of each layer will be 128, 256, 512."
   ]
  },
  {
   "cell_type": "code",
   "execution_count": 47,
   "metadata": {},
   "outputs": [
    {
     "name": "stdout",
     "output_type": "stream",
     "text": [
      "Train on 408280 samples, validate on 102071 samples\n",
      "Epoch 1/10\n",
      "408280/408280 [==============================] - 1486s 4ms/step - loss: 6.1376 - categorical_accuracy: 0.0796 - val_loss: 5.7230 - val_categorical_accuracy: 0.1187\n",
      "Epoch 2/10\n",
      "408280/408280 [==============================] - 1483s 4ms/step - loss: 5.5814 - categorical_accuracy: 0.1303 - val_loss: 5.4759 - val_categorical_accuracy: 0.1414\n",
      "Epoch 3/10\n",
      "408280/408280 [==============================] - 1485s 4ms/step - loss: 5.3662 - categorical_accuracy: 0.1483 - val_loss: 5.3445 - val_categorical_accuracy: 0.1522\n",
      "Epoch 4/10\n",
      "408280/408280 [==============================] - 1481s 4ms/step - loss: 5.2263 - categorical_accuracy: 0.1578 - val_loss: 5.2852 - val_categorical_accuracy: 0.1595\n",
      "Epoch 5/10\n",
      "408280/408280 [==============================] - 1485s 4ms/step - loss: 5.1211 - categorical_accuracy: 0.1659 - val_loss: 5.2194 - val_categorical_accuracy: 0.1656\n",
      "Epoch 6/10\n",
      "408280/408280 [==============================] - 1487s 4ms/step - loss: 5.0365 - categorical_accuracy: 0.1727 - val_loss: 5.2090 - val_categorical_accuracy: 0.1668\n",
      "Epoch 7/10\n",
      "408280/408280 [==============================] - 1488s 4ms/step - loss: 4.9692 - categorical_accuracy: 0.1781 - val_loss: 5.1624 - val_categorical_accuracy: 0.1719\n",
      "Epoch 8/10\n",
      "408280/408280 [==============================] - 1488s 4ms/step - loss: 4.9085 - categorical_accuracy: 0.1838 - val_loss: 5.1481 - val_categorical_accuracy: 0.1734\n",
      "Epoch 9/10\n",
      "408280/408280 [==============================] - 1484s 4ms/step - loss: 4.8610 - categorical_accuracy: 0.1869 - val_loss: 5.1436 - val_categorical_accuracy: 0.1742\n",
      "Epoch 10/10\n",
      "408280/408280 [==============================] - 1498s 4ms/step - loss: 4.8181 - categorical_accuracy: 0.1913 - val_loss: 5.1192 - val_categorical_accuracy: 0.1761\n"
     ]
    }
   ],
   "source": [
    "model = Sequential()\n",
    "model.add(Embedding(10000,128))\n",
    "model.add(layers.GRU(128,return_sequences=True,\n",
    "                     dropout=0.1,\n",
    "                     recurrent_dropout=0.5))\n",
    "model.add(layers.GRU(256,return_sequences=True,\n",
    "                     dropout=0.1,\n",
    "                     recurrent_dropout=0.5))\n",
    "model.add(layers.GRU(512,\n",
    "                     dropout=0.1,\n",
    "                     recurrent_dropout=0.5))\n",
    "model.add(Dense(10000, activation='softmax'))\n",
    "\n",
    "model.compile(optimizer='rmsprop',\n",
    "              loss='categorical_crossentropy',\n",
    "              metrics = ['categorical_accuracy'])\n",
    "history = model.fit(X_gen_train,Y_gen_train,\n",
    "                    epochs=10,\n",
    "                    batch_size=512,\n",
    "                    validation_data=(X_gen_valid, Y_gen_valid))"
   ]
  },
  {
   "cell_type": "code",
   "execution_count": 48,
   "metadata": {},
   "outputs": [
    {
     "data": {
      "image/png": "[encoded data removed]",
      "text/plain": [
       "<Figure size 432x288 with 1 Axes>"
      ]
     },
     "metadata": {
      "needs_background": "light"
     },
     "output_type": "display_data"
    }
   ],
   "source": [
    "import matplotlib.pyplot as plt\n",
    "\n",
    "acc = history.history['categorical_accuracy']\n",
    "val_acc = history.history['val_categorical_accuracy']\n",
    "loss = history.history['loss']\n",
    "val_loss = history.history['val_loss']\n",
    "\n",
    "epochs = range(1, len(acc) + 1)\n",
    "\n",
    "# \"bo\" is for \"blue dot\"\n",
    "plt.plot(epochs, loss, 'bo', label='Training loss')\n",
    "# b is for \"solid blue line\"\n",
    "plt.plot(epochs, val_loss, 'b', label='Validation loss')\n",
    "plt.title('Training and validation loss')\n",
    "plt.xlabel('Epochs')\n",
    "plt.ylabel('Loss')\n",
    "plt.legend()\n",
    "\n",
    "plt.show()"
   ]
  },
  {
   "cell_type": "code",
   "execution_count": 49,
   "metadata": {},
   "outputs": [
    {
     "data": {
      "image/png": "[encoded data removed]",
      "text/plain": [
       "<Figure size 432x288 with 1 Axes>"
      ]
     },
     "metadata": {
      "needs_background": "light"
     },
     "output_type": "display_data"
    }
   ],
   "source": [
    "plt.clf()   # clear figure\n",
    "\n",
    "plt.plot(epochs, acc, 'bo', label='Training acc')\n",
    "plt.plot(epochs, val_acc, 'b', label='Validation acc')\n",
    "plt.title('Training and validation accuracy')\n",
    "plt.xlabel('Epochs')\n",
    "plt.ylabel('Accuracy')\n",
    "plt.legend()\n",
    "\n",
    "plt.show()"
   ]
  },
  {
   "cell_type": "code",
   "execution_count": 50,
   "metadata": {},
   "outputs": [
    {
     "data": {
      "text/plain": [
       "0.17605392324643704"
      ]
     },
     "execution_count": 50,
     "metadata": {},
     "output_type": "execute_result"
    }
   ],
   "source": [
    "max(val_acc)"
   ]
  },
  {
   "cell_type": "markdown",
   "metadata": {},
   "source": [
    "Because the best model until now is the last one, the parameter of first layer is all 128. We move back to the first layer and check whether the different parameters of first layer will have better effect. Then we text 256 first."
   ]
  },
  {
   "cell_type": "code",
   "execution_count": 28,
   "metadata": {},
   "outputs": [
    {
     "name": "stdout",
     "output_type": "stream",
     "text": [
      "Train on 408280 samples, validate on 102071 samples\n",
      "Epoch 1/10\n",
      "408280/408280 [==============================] - 446s 1ms/step - loss: 6.0981 - categorical_accuracy: 0.0859 - val_loss: 5.7110 - val_categorical_accuracy: 0.1214\n",
      "Epoch 2/10\n",
      "408280/408280 [==============================] - 432s 1ms/step - loss: 5.5872 - categorical_accuracy: 0.1312 - val_loss: 5.4959 - val_categorical_accuracy: 0.1421\n",
      "Epoch 3/10\n",
      "408280/408280 [==============================] - 432s 1ms/step - loss: 5.4087 - categorical_accuracy: 0.1472 - val_loss: 5.3829 - val_categorical_accuracy: 0.1534\n",
      "Epoch 4/10\n",
      "408280/408280 [==============================] - 427s 1ms/step - loss: 5.2858 - categorical_accuracy: 0.1588 - val_loss: 5.2931 - val_categorical_accuracy: 0.1615\n",
      "Epoch 5/10\n",
      "408280/408280 [==============================] - 427s 1ms/step - loss: 5.1860 - categorical_accuracy: 0.1680 - val_loss: 5.2354 - val_categorical_accuracy: 0.1681\n",
      "Epoch 6/10\n",
      "408280/408280 [==============================] - 440s 1ms/step - loss: 5.1078 - categorical_accuracy: 0.1749 - val_loss: 5.1861 - val_categorical_accuracy: 0.1724\n",
      "Epoch 7/10\n",
      "408280/408280 [==============================] - 432s 1ms/step - loss: 5.0412 - categorical_accuracy: 0.1812 - val_loss: 5.1533 - val_categorical_accuracy: 0.1763\n",
      "Epoch 8/10\n",
      "408280/408280 [==============================] - 432s 1ms/step - loss: 4.9827 - categorical_accuracy: 0.1871 - val_loss: 5.1216 - val_categorical_accuracy: 0.1789\n",
      "Epoch 9/10\n",
      "408280/408280 [==============================] - 437s 1ms/step - loss: 4.9306 - categorical_accuracy: 0.1915 - val_loss: 5.0974 - val_categorical_accuracy: 0.1816\n",
      "Epoch 10/10\n",
      "408280/408280 [==============================] - 431s 1ms/step - loss: 4.8864 - categorical_accuracy: 0.1956 - val_loss: 5.0835 - val_categorical_accuracy: 0.1827\n"
     ]
    }
   ],
   "source": [
    "model = Sequential()\n",
    "model.add(Embedding(10000,128))\n",
    "model.add(layers.GRU(256,\n",
    "                     dropout=0.1,\n",
    "                     recurrent_dropout=0.5))\n",
    "model.add(Dense(10000, activation='softmax'))\n",
    "\n",
    "model.compile(optimizer='rmsprop',\n",
    "              loss='categorical_crossentropy',\n",
    "              metrics = ['categorical_accuracy'])\n",
    "history = model.fit(X_gen_train,Y_gen_train,\n",
    "                    epochs=10,\n",
    "                    batch_size=512,\n",
    "                    validation_data=(X_gen_valid, Y_gen_valid))"
   ]
  },
  {
   "cell_type": "code",
   "execution_count": 29,
   "metadata": {},
   "outputs": [
    {
     "data": {
      "image/png": "[encoded data removed]",
      "text/plain": [
       "<Figure size 432x288 with 1 Axes>"
      ]
     },
     "metadata": {
      "needs_background": "light"
     },
     "output_type": "display_data"
    }
   ],
   "source": [
    "import matplotlib.pyplot as plt\n",
    "\n",
    "acc = history.history['categorical_accuracy']\n",
    "val_acc = history.history['val_categorical_accuracy']\n",
    "loss = history.history['loss']\n",
    "val_loss = history.history['val_loss']\n",
    "\n",
    "epochs = range(1, len(acc) + 1)\n",
    "\n",
    "# \"bo\" is for \"blue dot\"\n",
    "plt.plot(epochs, loss, 'bo', label='Training loss')\n",
    "# b is for \"solid blue line\"\n",
    "plt.plot(epochs, val_loss, 'b', label='Validation loss')\n",
    "plt.title('Training and validation loss')\n",
    "plt.xlabel('Epochs')\n",
    "plt.ylabel('Loss')\n",
    "plt.legend()\n",
    "\n",
    "plt.show()"
   ]
  },
  {
   "cell_type": "code",
   "execution_count": 30,
   "metadata": {},
   "outputs": [
    {
     "data": {
      "image/png": "[encoded data removed]",
      "text/plain": [
       "<Figure size 432x288 with 1 Axes>"
      ]
     },
     "metadata": {
      "needs_background": "light"
     },
     "output_type": "display_data"
    }
   ],
   "source": [
    "plt.clf()   # clear figure\n",
    "\n",
    "plt.plot(epochs, acc, 'bo', label='Training acc')\n",
    "plt.plot(epochs, val_acc, 'b', label='Validation acc')\n",
    "plt.title('Training and validation accuracy')\n",
    "plt.xlabel('Epochs')\n",
    "plt.ylabel('Accuracy')\n",
    "plt.legend()\n",
    "\n",
    "plt.show()"
   ]
  },
  {
   "cell_type": "code",
   "execution_count": 31,
   "metadata": {},
   "outputs": [
    {
     "data": {
      "text/plain": [
       "0.1827061555216792"
      ]
     },
     "execution_count": 31,
     "metadata": {},
     "output_type": "execute_result"
    }
   ],
   "source": [
    "max(val_acc)"
   ]
  },
  {
   "cell_type": "markdown",
   "metadata": {},
   "source": [
    "We can find the accuracy become higher. We test 512 to check whether the accuracy will become higher."
   ]
  },
  {
   "cell_type": "code",
   "execution_count": 32,
   "metadata": {},
   "outputs": [
    {
     "name": "stdout",
     "output_type": "stream",
     "text": [
      "Train on 408280 samples, validate on 102071 samples\n",
      "Epoch 1/10\n",
      "408280/408280 [==============================] - 1027s 3ms/step - loss: 6.0279 - categorical_accuracy: 0.0948 - val_loss: 5.6532 - val_categorical_accuracy: 0.1259\n",
      "Epoch 2/10\n",
      "408280/408280 [==============================] - 1025s 3ms/step - loss: 5.5378 - categorical_accuracy: 0.1371 - val_loss: 5.4650 - val_categorical_accuracy: 0.1477\n",
      "Epoch 3/10\n",
      "408280/408280 [==============================] - 1033s 3ms/step - loss: 5.3516 - categorical_accuracy: 0.1545 - val_loss: 5.3247 - val_categorical_accuracy: 0.1607\n",
      "Epoch 4/10\n",
      "408280/408280 [==============================] - 1058s 3ms/step - loss: 5.2148 - categorical_accuracy: 0.1672 - val_loss: 5.2508 - val_categorical_accuracy: 0.1678\n",
      "Epoch 5/10\n",
      "408280/408280 [==============================] - 1032s 3ms/step - loss: 5.1089 - categorical_accuracy: 0.1767 - val_loss: 5.1746 - val_categorical_accuracy: 0.1735\n",
      "Epoch 6/10\n",
      "408280/408280 [==============================] - 1028s 3ms/step - loss: 5.0229 - categorical_accuracy: 0.1845 - val_loss: 5.1328 - val_categorical_accuracy: 0.1779\n",
      "Epoch 7/10\n",
      "408280/408280 [==============================] - 1025s 3ms/step - loss: 4.9485 - categorical_accuracy: 0.1911 - val_loss: 5.0966 - val_categorical_accuracy: 0.1825\n",
      "Epoch 8/10\n",
      "408280/408280 [==============================] - 1023s 3ms/step - loss: 4.8800 - categorical_accuracy: 0.1967 - val_loss: 5.0705 - val_categorical_accuracy: 0.1857\n",
      "Epoch 9/10\n",
      "408280/408280 [==============================] - 1027s 3ms/step - loss: 4.8211 - categorical_accuracy: 0.2025 - val_loss: 5.0494 - val_categorical_accuracy: 0.1878\n",
      "Epoch 10/10\n",
      "408280/408280 [==============================] - 1038s 3ms/step - loss: 4.7660 - categorical_accuracy: 0.2073 - val_loss: 5.0364 - val_categorical_accuracy: 0.1899\n"
     ]
    }
   ],
   "source": [
    "model = Sequential()\n",
    "model.add(Embedding(10000,128))\n",
    "model.add(layers.GRU(512,\n",
    "                     dropout=0.1,\n",
    "                     recurrent_dropout=0.5))\n",
    "model.add(Dense(10000, activation='softmax'))\n",
    "\n",
    "model.compile(optimizer='rmsprop',\n",
    "              loss='categorical_crossentropy',\n",
    "              metrics = ['categorical_accuracy'])\n",
    "history = model.fit(X_gen_train,Y_gen_train,\n",
    "                    epochs=10,\n",
    "                    batch_size=512,\n",
    "                    validation_data=(X_gen_valid, Y_gen_valid))"
   ]
  },
  {
   "cell_type": "code",
   "execution_count": 33,
   "metadata": {},
   "outputs": [
    {
     "data": {
      "image/png": "[encoded data removed]",
      "text/plain": [
       "<Figure size 432x288 with 1 Axes>"
      ]
     },
     "metadata": {
      "needs_background": "light"
     },
     "output_type": "display_data"
    }
   ],
   "source": [
    "import matplotlib.pyplot as plt\n",
    "\n",
    "acc = history.history['categorical_accuracy']\n",
    "val_acc = history.history['val_categorical_accuracy']\n",
    "loss = history.history['loss']\n",
    "val_loss = history.history['val_loss']\n",
    "\n",
    "epochs = range(1, len(acc) + 1)\n",
    "\n",
    "# \"bo\" is for \"blue dot\"\n",
    "plt.plot(epochs, loss, 'bo', label='Training loss')\n",
    "# b is for \"solid blue line\"\n",
    "plt.plot(epochs, val_loss, 'b', label='Validation loss')\n",
    "plt.title('Training and validation loss')\n",
    "plt.xlabel('Epochs')\n",
    "plt.ylabel('Loss')\n",
    "plt.legend()\n",
    "\n",
    "plt.show()"
   ]
  },
  {
   "cell_type": "code",
   "execution_count": 34,
   "metadata": {},
   "outputs": [
    {
     "data": {
      "image/png": "[encoded data removed]",
      "text/plain": [
       "<Figure size 432x288 with 1 Axes>"
      ]
     },
     "metadata": {
      "needs_background": "light"
     },
     "output_type": "display_data"
    }
   ],
   "source": [
    "plt.clf()   # clear figure\n",
    "\n",
    "plt.plot(epochs, acc, 'bo', label='Training acc')\n",
    "plt.plot(epochs, val_acc, 'b', label='Validation acc')\n",
    "plt.title('Training and validation accuracy')\n",
    "plt.xlabel('Epochs')\n",
    "plt.ylabel('Accuracy')\n",
    "plt.legend()\n",
    "\n",
    "plt.show()"
   ]
  },
  {
   "cell_type": "code",
   "execution_count": 35,
   "metadata": {},
   "outputs": [
    {
     "data": {
      "text/plain": [
       "0.18988743131037708"
      ]
     },
     "execution_count": 35,
     "metadata": {},
     "output_type": "execute_result"
    }
   ],
   "source": [
    "max(val_acc)"
   ]
  },
  {
   "cell_type": "markdown",
   "metadata": {},
   "source": [
    "Wow. It is the highest accuracy since now which is about 18.99%."
   ]
  },
  {
   "cell_type": "markdown",
   "metadata": {},
   "source": [
    "<table>\n",
    "    <tr>\n",
    "        <td>Process Data</td>\n",
    "        <td>Model structure</td>\n",
    "        <td>Accuracy</td>\n",
    "    </tr>\n",
    "    <tr>\n",
    "        <td>(408280, 20,128)</td>\n",
    "        <td>First Layer: GRU(128), Second Layer: GRU(256)</td>\n",
    "        <td>17.54%</td>\n",
    "    </tr>\n",
    "    <tr>\n",
    "        <td>(408280, 20,128)</td>\n",
    "        <td>First Layer: GRU(128), Second Layer: GRU(256), Third Layer: GRU(512)</td>\n",
    "        <td>17.61%</td>\n",
    "    </tr>\n",
    "    <tr>\n",
    "        <td>(408280, 20,128)</td>\n",
    "        <td>First Layer: GRU(256)</td>\n",
    "        <td>18.27%</td>\n",
    "    </tr>\n",
    "    <tr>\n",
    "        <td>(408280, 20,128)</td>\n",
    "        <td>First Layer: GRU(512)</td>\n",
    "        <td>18.99%</td>\n",
    "    </tr>\n",
    "</table>"
   ]
  },
  {
   "cell_type": "markdown",
   "metadata": {},
   "source": [
    "We will use the last model to generate some sentence to check whether the sentence is readable."
   ]
  },
  {
   "cell_type": "code",
   "execution_count": 38,
   "metadata": {},
   "outputs": [],
   "source": [
    "start_index = random.randint(0, len(words))\n",
    "generated_text = X_gen[start_index]\n",
    "tx=\" \"\n",
    "tx2=\" \"\n",
    "for i in generated_text:\n",
    "    tx=tx+list(word_index.keys())[list(word_index.values()).index(i)]+\" \"\n",
    "    tx2=tx2+list(word_index.keys())[list(word_index.values()).index(i)]+\" \""
   ]
  },
  {
   "cell_type": "markdown",
   "metadata": {},
   "source": [
    "Let's input two sentences and we will generate 50 words under different temperature."
   ]
  },
  {
   "cell_type": "code",
   "execution_count": 39,
   "metadata": {},
   "outputs": [
    {
     "data": {
      "text/plain": [
       "' an iced tea with a of fresh mint too cold to try that now but once the snow melts i '"
      ]
     },
     "execution_count": 39,
     "metadata": {},
     "output_type": "execute_result"
    }
   ],
   "source": [
    "tx"
   ]
  },
  {
   "cell_type": "code",
   "execution_count": 40,
   "metadata": {},
   "outputs": [
    {
     "data": {
      "text/plain": [
       "' an iced tea with a of fresh mint too cold to try that now but once the snow melts i '"
      ]
     },
     "execution_count": 40,
     "metadata": {},
     "output_type": "execute_result"
    }
   ],
   "source": [
    "tx2"
   ]
  },
  {
   "cell_type": "code",
   "execution_count": 47,
   "metadata": {},
   "outputs": [],
   "source": [
    "txs=[] \n",
    "for temperature in [0.2, 0.5, 1.0, 1.2]:\n",
    "    tx=tx2\n",
    "    generated_text = X_gen[start_index]\n",
    "    for i in range(50):\n",
    "        preds = model.predict(generated_text)[0]\n",
    "        index=sample(preds,temperature)\n",
    "        tx=tx+list(word_index.keys())[list(word_index.values()).index(index)]+\" \"\n",
    "        generated_text[0:-2]=generated_text[1:-1]\n",
    "        generated_text[-1]=index\n",
    "    txs.append(tx)"
   ]
  },
  {
   "cell_type": "code",
   "execution_count": 48,
   "metadata": {},
   "outputs": [
    {
     "data": {
      "text/plain": [
       "' an iced tea with a of fresh mint too cold to try that now but once the snow melts i excellent tea and this lot the and flavor much tea be them is the i you taste br in with in in in in in in in in in in in in in in in in in in in in in in in in in in in in in in '"
      ]
     },
     "execution_count": 48,
     "metadata": {},
     "output_type": "execute_result"
    }
   ],
   "source": [
    "txs[0]"
   ]
  },
  {
   "cell_type": "code",
   "execution_count": 49,
   "metadata": {},
   "outputs": [
    {
     "data": {
      "text/plain": [
       "' an iced tea with a of fresh mint too cold to try that now but once the snow melts i in in great in in in to in in in with in in in in in in to to to in in over i for on in in in in to in in in and by for in in in in in in in to in in in in in '"
      ]
     },
     "execution_count": 49,
     "metadata": {},
     "output_type": "execute_result"
    }
   ],
   "source": [
    "txs[1]"
   ]
  },
  {
   "cell_type": "code",
   "execution_count": 50,
   "metadata": {},
   "outputs": [
    {
     "data": {
      "text/plain": [
       "' an iced tea with a of fresh mint too cold to try that now but once the snow melts i month tough into in you used in less nothing having prunes and flour in impact sweet to 1 to yummy anymore on over an pre including gums my best two sauce therefore handle dense always snacks fresh your available with salad eater at meals forward has carbonation that a into '"
      ]
     },
     "execution_count": 50,
     "metadata": {},
     "output_type": "execute_result"
    }
   ],
   "source": [
    "txs[2]"
   ]
  },
  {
   "cell_type": "code",
   "execution_count": 51,
   "metadata": {},
   "outputs": [
    {
     "data": {
      "text/plain": [
       "\" an iced tea with a of fresh mint too cold to try that now but once the snow melts i blooming light makes for in cereal out i to pills certainly spicy or electrolytes very soup smelled when stuffing in down clogging area back nor green into yourself vet lots now cannot flour awful since even up usually not bite mccann's can perfectly indeed chunks like drinking an tea far \""
      ]
     },
     "execution_count": 51,
     "metadata": {},
     "output_type": "execute_result"
    }
   ],
   "source": [
    "txs[3]"
   ]
  },
  {
   "cell_type": "code",
   "execution_count": 61,
   "metadata": {},
   "outputs": [],
   "source": [
    "generated_text =X_gen[1]\n",
    "tx=\" \"\n",
    "tx2=\" \"\n",
    "for i in generated_text:\n",
    "    tx=tx+list(word_index.keys())[list(word_index.values()).index(i)]+\" \"\n",
    "    tx2=tx2+list(word_index.keys())[list(word_index.values()).index(i)]+\" \""
   ]
  },
  {
   "cell_type": "code",
   "execution_count": 62,
   "metadata": {},
   "outputs": [
    {
     "data": {
      "text/plain": [
       "' have bought several of the vitality canned dog food products and have found them all to be of good quality '"
      ]
     },
     "execution_count": 62,
     "metadata": {},
     "output_type": "execute_result"
    }
   ],
   "source": [
    "tx"
   ]
  },
  {
   "cell_type": "code",
   "execution_count": 64,
   "metadata": {},
   "outputs": [],
   "source": [
    "txs=[] \n",
    "for temperature in [0.2, 0.5, 1.0, 1.2]:\n",
    "    tx=tx2\n",
    "    generated_text = X_gen[1]\n",
    "    for i in range(50):\n",
    "        preds = model.predict(generated_text)[0]\n",
    "        index=sample(preds,temperature)\n",
    "        tx=tx+list(word_index.keys())[list(word_index.values()).index(index)]+\" \"\n",
    "        generated_text[0:-2]=generated_text[1:-1]\n",
    "        generated_text[-1]=index\n",
    "    txs.append(tx)"
   ]
  },
  {
   "cell_type": "code",
   "execution_count": 65,
   "metadata": {},
   "outputs": [
    {
     "data": {
      "text/plain": [
       "' have bought several of the vitality canned dog food products and have found them all to be of good quality been a times the best i food food and br the a in in of make sure the stuff stuff for value stuff stuff food stuff stuff stuff food food food quality price stuff stuff food food stuff stuff stuff stuff quality stuff stuff food stuff stuff stuff food stuff '"
      ]
     },
     "execution_count": 65,
     "metadata": {},
     "output_type": "execute_result"
    }
   ],
   "source": [
    "txs[0]"
   ]
  },
  {
   "cell_type": "code",
   "execution_count": 66,
   "metadata": {},
   "outputs": [
    {
     "data": {
      "text/plain": [
       "' have bought several of the vitality canned dog food products and have found them all to be of good quality price health organic snack flavor food job stuff food website product stuff about quality stuff stuff for flavor food health mix flavor food deal health texture flavor value stuff product food food these flavor stuff stuff food sauce for food product food stuff cup food product cup stuff value food '"
      ]
     },
     "execution_count": 66,
     "metadata": {},
     "output_type": "execute_result"
    }
   ],
   "source": [
    "txs[1]"
   ]
  },
  {
   "cell_type": "code",
   "execution_count": 67,
   "metadata": {},
   "outputs": [
    {
     "data": {
      "text/plain": [
       "\" have bought several of the vitality canned dog food products and have found them all to be of good quality deal reviews california maple for but pour quality sour whole course bodied jr exception cup source here's no drive fortunately fiber sell i thanks with for maybe definitely flavors source treat where potato experience remember mix flavor now product deal for oven recipe with quality price mush dish company instant \""
      ]
     },
     "execution_count": 67,
     "metadata": {},
     "output_type": "execute_result"
    }
   ],
   "source": [
    "txs[2]"
   ]
  },
  {
   "cell_type": "code",
   "execution_count": 68,
   "metadata": {},
   "outputs": [
    {
     "data": {
      "text/plain": [
       "\" have bought several of the vitality canned dog food products and have found them all to be of good quality place type value there's quality because ingredients half strong classically am sustain cup portion thing candy creamy lips smell flavor item decided gum freshness salad for moved texture people eats standard dry couldn't balance end memories lose broth and minutes anyone earths chocolate use chili health result sore treat all \""
      ]
     },
     "execution_count": 68,
     "metadata": {},
     "output_type": "execute_result"
    }
   ],
   "source": [
    "txs[3]"
   ]
  },
  {
   "cell_type": "markdown",
   "metadata": {},
   "source": [
    "It still seems hard to read. The result is not good. However, in personal opinion, the sentence generate under the temperature 1 is the best, so I will use temperature =1 to generate more sentences. "
   ]
  },
  {
   "cell_type": "code",
   "execution_count": 69,
   "metadata": {},
   "outputs": [],
   "source": [
    "origin=[]\n",
    "generated=[]\n",
    "for n in range(5):\n",
    "    start_index = random.randint(0, len(words))\n",
    "    generated_text = X_gen[start_index]\n",
    "    tx=\" \"\n",
    "    tx2=\" \"\n",
    "    for i in generated_text:\n",
    "        tx=tx+list(word_index.keys())[list(word_index.values()).index(i)]+\" \"\n",
    "        tx2=tx2+list(word_index.keys())[list(word_index.values()).index(i)]+\" \"\n",
    "    origin.append(tx2)\n",
    "    generated_text = X_gen[1]\n",
    "    for i in range(50):\n",
    "        preds = model.predict(generated_text)[0]\n",
    "        index=sample(preds,temperature)\n",
    "        tx=tx+list(word_index.keys())[list(word_index.values()).index(index)]+\" \"\n",
    "        generated_text[0:-2]=generated_text[1:-1]\n",
    "        generated_text[-1]=index\n",
    "    generated.append(tx)"
   ]
  },
  {
   "cell_type": "code",
   "execution_count": 80,
   "metadata": {},
   "outputs": [
    {
     "name": "stdout",
     "output_type": "stream",
     "text": [
      "Input:\n",
      "  he can keep up his energy keep his weight up and recover more quickly from bumps from running the field \n",
      "\n",
      "Output:\n",
      " he can keep up his energy keep his weight up and recover more quickly from bumps from running the field individually creamy 30 same coffee is sauces deal to quality excellent flavor thing extra least counter indulgence ever blends half snacks quality food the syrup food combination deep recipe deal medium banana compares size start suitcase without gluten calcium crashing lamb stuff paper after once absolutely red boy affect cup \n",
      "\n",
      "\n",
      "Input:\n",
      "  nutrition but also because they seem to be more filling this is now my favorite if you purchase the fiber \n",
      "\n",
      "Output:\n",
      " nutrition but also because they seem to be more filling this is now my favorite if you purchase the fiber my coffees pepper artificial paying course dark wonderful hips at seems cookies avid disappointed blueberry stand condition locally offering snacks mainly take coats ended enjoy big work half myself reviews buy beginning when energy keeps gives part stomach acidic vitamin mouth same ingredients food fill tasted plate cracker product baking \n",
      "\n",
      "\n",
      "Input:\n",
      "  is on a meat free diet due to severe food allergies it seems to have very good quality ingredients and \n",
      "\n",
      "Output:\n",
      " is on a meat free diet due to severe food allergies it seems to have very good quality ingredients and acne considered cheaper nutrition grew allergies for wake waffle nuts consider good simple squirt to air told for 20 hip for called great recommended ingredients hope diet reviews thing coffee it portions meal 'em chowder milk says let texture taste often fall which fairly aren't mahogany way medication maple bloating \n",
      "\n",
      "\n",
      "Input:\n",
      "  you add butter and an egg that's it you want to bake them until the bottom of the cookie is \n",
      "\n",
      "Output:\n",
      " you add butter and an egg that's it you want to bake them until the bottom of the cookie is breakfast price satisfying olive varieties trash drinks groups work quality useful capsule call dont maybe scoops plant health calories football not whipped price dog blender to bottom chips buying extra at deliciousness clear price vernor's food heaven use gravy biscuits step thins mg leave tend deal pamela's perfectly freeze skeptical \n",
      "\n",
      "\n",
      "Input:\n",
      "  to see this drink in the market although i would have liked a larger size container so i could drink \n",
      "\n",
      "Output:\n",
      " to see this drink in the market although i would have liked a larger size container so i could drink p baking crisp bite or now grab reviewers choice buck cures watcher dogs packaging act oats short slow 24 blend prepared review he garlic for portion least delivery am flavor appealing have frontier particular for roll manganese ingredients aroma sandwiches live higher tasty health heat fruit supplement foods price sized \n",
      "\n",
      "\n"
     ]
    }
   ],
   "source": [
    "for n in range(5):\n",
    "    print(\"Input:\\n \"+origin[n]+\"\\n\\nOutput:\\n\"+generated[n]+\"\\n\\n\")"
   ]
  },
  {
   "cell_type": "markdown",
   "metadata": {},
   "source": [
    "The result is not good. We do some researches on it, other sentences generated by text generator are also not good. So we should do more researches and experiments to create better sentences in the future."
   ]
  },
  {
   "cell_type": "markdown",
   "metadata": {},
   "source": [
    "## Results:"
   ]
  },
  {
   "cell_type": "markdown",
   "metadata": {},
   "source": [
    "Text Classfication:\n",
    "<table>\n",
    "    <tr>\n",
    "        <td>Algorithm</td>\n",
    "        <td>Accuracy</td>\n",
    "        <td>Hyperparameters</td>\n",
    "    </tr>\n",
    "     <tr>\n",
    "        <td>Logistic Regression</td>\n",
    "        <td>79.92%</td>\n",
    "        <td></td>\n",
    "    </tr>\n",
    "    <tr>\n",
    "        <td>XGBoost Classifier</td>\n",
    "        <td>81.33%</td>\n",
    "        <td>max_depth=8, n_estimators=350</td>\n",
    "    </tr>\n",
    "    <tr>\n",
    "        <td>Random Forest Classifier</td>\n",
    "        <td>83.89%</td>\n",
    "        <td>'max_depth': None, 'max_features': 'sqrt', 'min_samples_leaf': 2, 'min_samples_split': 5, 'n_estimators': 200</td>\n",
    "    </tr>\n",
    "    <tr>\n",
    "        <td>RNN(Recurrent Neural Network)</td>\n",
    "        <td>84.34%</td>\n",
    "        <td>optimizer='rmsprop', loss='binary_crossentropy', activation='sigmoid', one layer: GRU</td>\n",
    "    </tr>\n",
    "</table>"
   ]
  },
  {
   "cell_type": "markdown",
   "metadata": {},
   "source": [
    "We can see in the table that the accuracy of RNN is the highest in text classification."
   ]
  },
  {
   "cell_type": "markdown",
   "metadata": {},
   "source": [
    "Sentence Generator:<br/>\n",
    "<table>\n",
    "    <tr>\n",
    "        <td>Process Data</td>\n",
    "        <td>Model structure</td>\n",
    "        <td>Accuracy</td>\n",
    "    </tr>\n",
    "    <tr>\n",
    "        <td>(408280, 20,128)</td>\n",
    "        <td>First Layer: GRU(128), Second Layer: convolution layer(128)</td>\n",
    "        <td>5.52%</td>\n",
    "    </tr>\n",
    "     <tr>\n",
    "        <td>(213550, 60,128)</td>\n",
    "        <td>First Layer: LSTM(128)</td>\n",
    "        <td>14.04%</td>\n",
    "    </tr>\n",
    "    <tr>\n",
    "        <td>(408280, 20,128)</td>\n",
    "        <td>First Layer: LSTM(128), Second Layer: LSTM(128)</td>\n",
    "        <td>15.64%</td>\n",
    "    </tr>\n",
    "    <tr>\n",
    "        <td>(408280, 20,128)</td>\n",
    "        <td>First Layer: GRU(128), Second Layer: LSTM(128)</td>\n",
    "        <td>16.02%</td>\n",
    "    </tr>\n",
    "     <tr>\n",
    "        <td>(408280, 20,128)</td>\n",
    "        <td>First Layer: GRU(128), Second Layer: GRU(128)</td>\n",
    "        <td>16.75%</td>\n",
    "    </tr>\n",
    "     <tr>\n",
    "        <td>(408280, 20,128)</td>\n",
    "        <td>First Layer: LSTM(128)</td>\n",
    "        <td>17.23%</td>\n",
    "    </tr>\n",
    "     <tr>\n",
    "        <td>(408280, 20,128)</td>\n",
    "        <td>First Layer: GRU(128)</td>\n",
    "        <td>17.53%</td>\n",
    "    </tr>\n",
    "     <tr>\n",
    "        <td>(408280, 20,128)</td>\n",
    "        <td>First Layer: GRU(128), Second Layer: GRU(256)</td>\n",
    "        <td>17.54%</td>\n",
    "    </tr>\n",
    "    <tr>\n",
    "        <td>(408280, 20,128)</td>\n",
    "        <td>First Layer: GRU(128), Second Layer: GRU(256), Third Layer: GRU(512)</td>\n",
    "        <td>17.61%</td>\n",
    "    </tr>\n",
    "    <tr>\n",
    "        <td>(408280, 20,128)</td>\n",
    "        <td>First Layer: GRU(256)</td>\n",
    "        <td>18.27%</td>\n",
    "    </tr>\n",
    "    <tr>\n",
    "        <td>(408280, 20,128)</td>\n",
    "        <td>First Layer: GRU(512)</td>\n",
    "        <td>18.99%</td>\n",
    "    </tr>\n",
    "</table>"
   ]
  },
  {
   "cell_type": "markdown",
   "metadata": {},
   "source": [
    "The best model structure is one GRU layer and its parameter is 512 and its accuracy is 18.99%."
   ]
  },
  {
   "cell_type": "markdown",
   "metadata": {},
   "source": [
    "## Conclusions:"
   ]
  },
  {
   "cell_type": "markdown",
   "metadata": {},
   "source": [
    "Here are several conclusions we get from above:\n",
    "* RNN(Recurrent Neural Network) really does a good job in text area.\n",
    "* It is wrong that the more layers, the better the model will be. We think it may be vanishing gradient problem in our model. When the model is three layers(128/256/512), its accuracy will be lower than one layer(512). Because the learning rate of first layer and second layer are low that will have a bad effect on the third layer.\n",
    "* In machine learning, the vanishing gradient problem is a difficulty found in training artificial neural networks with gradient-based learning methods and backpropagation. In such methods, each of the neural network's weights receives an update proportional to the partial derivative of the error function with respect to the current weight in each iteration of training. The problem is that in some cases, the gradient will be vanishingly small, effectively preventing the weight from changing its value. In the worst case, this may completely stop the neural network from further training.\n",
    "* The model running time is mainly related to the parameters of the layer with the largest parameter in the model. \n",
    "* When we use low creativity, the generated word will be the highest appear frequency in the model. However, when we use the higher creativity, the generated word will be diverse."
   ]
  },
  {
   "cell_type": "markdown",
   "metadata": {},
   "source": [
    "## Contributions\n",
    "\n",
    "Dingting Huang did part A and code comments.<br/>\n",
    "Yize Wang did part B and researches."
   ]
  },
  {
   "cell_type": "markdown",
   "metadata": {},
   "source": [
    "## Citations\n",
    "The thought of word embeddings is from the following link, but we don't use the code above it.<br/>\n",
    "https://nbviewer.jupyter.org/github/fchollet/deep-learning-with-python-notebooks/blob/master/6.1-using-word-embeddings.ipynb<br/>\n",
    "\n",
    "The logistic regression, SVM(support vector machine), Random Forest Classifier, XGBoost Classifier part are adapted from the assignment 1. We use the alomost the same code from assignment 1, but change the input data. The following link is assignment 1:<br/>\n",
    "https://github.com/nikbearbrown/CSYE_7245/blob/master/Assignments/Assignment_1_Properly_Format_and_Explain.ipynb<br/>\n",
    "\n",
    "In sentence generator part, the code like the model, the sample function, the generate word code and the thought of temperature are from the following link. We removed some code that we thought was useless and changed a little on the generate word part. The code of processing data are totally different.<br/>\n",
    "https://nbviewer.jupyter.org/github/fchollet/deep-learning-with-python-notebooks/blob/master/8.1-text-generation-with-lstm.ipynb<br/>\n",
    "\n",
    "The part we have not mentioned above are written by ourselves. The following are the references:\n",
    "\n",
    "\n",
    "* Comparison between SVM and Logistic Regression: Which One is Better to Discriminate?\n",
    "http://www.kurims.kyoto-u.ac.jp/EMIS/journals/RCE/V35/v35n2a03.pdf\n",
    "* XGBoost: A Scalable Tree Boosting System\n",
    "https://www.kdd.org/kdd2016/papers/files/rfp0697-chenAemb.pdf\n",
    "* RANDOM FORESTS\n",
    "https://www.stat.berkeley.edu/~breiman/randomforest2001.pdf\n",
    "* Convolutional LSTM Network: A Machine Learning Approach for Precipitation Nowcasting\n",
    "https://papers.nips.cc/paper/5955-convolutional-lstm-network-a-machine-learning-approach-for-precipitation-nowcasting.pdf\n",
    "* Multi-Dimensional Recurrent Neural Networks\n",
    "https://arxiv.org/pdf/0705.2011v1.pdf\n",
    "* TRAINING RECURRENT NEURAL NETWORKS\n",
    "http://www.cs.utoronto.ca/~ilya/pubs/ilya_sutskever_phd_thesis.pdf\n",
    "* LightRNN: Memory and Computation-Efficient Recurrent Neural Networks https://papers.nips.cc/paper/6512-lightrnn-memory-and-computation-efficient-recurrent-neural-networks.pdf\n",
    "* Illustrated Guide to LSTM’s and GRU’s: A step by step explanation\n",
    "https://towardsdatascience.com/illustrated-guide-to-lstms-and-gru-s-a-step-by-step-explanation-44e9eb85bf21\n",
    "* Text generation with LSTM\n",
    "https://nbviewer.jupyter.org/github/fchollet/deep-learning-with-python-notebooks/blob/master/8.1-text-generation-with-lstm.ipynb\n",
    "* Vanishing gradient problem\n",
    "https://en.wikipedia.org/wiki/Vanishing_gradient_problem"
   ]
  },
  {
   "cell_type": "markdown",
   "metadata": {},
   "source": [
    "## License\n",
    "\n",
    "Copyright <2019> Dingting Huang and Yize Wang\n",
    "\n",
    "Permission is hereby granted, free of charge, to any person obtaining a copy of this software and associated documentation files (the \"Software\"), to deal in the Software without restriction, including without limitation the rights to use, copy, modify, merge, publish, distribute, sublicense, and/or sell copies of the Software, and to permit persons to whom the Software is furnished to do so, subject to the following conditions:\n",
    "\n",
    "The above copyright notice and this permission notice shall be included in all copies or substantial portions of the Software.\n",
    "\n",
    "THE SOFTWARE IS PROVIDED \"AS IS\", WITHOUT WARRANTY OF ANY KIND, EXPRESS OR IMPLIED, INCLUDING BUT NOT LIMITED TO THE WARRANTIES OF MERCHANTABILITY, FITNESS FOR A PARTICULAR PURPOSE AND NONINFRINGEMENT. IN NO EVENT SHALL THE AUTHORS OR COPYRIGHT HOLDERS BE LIABLE FOR ANY CLAIM, DAMAGES OR OTHER LIABILITY, WHETHER IN AN ACTION OF CONTRACT, TORT OR OTHERWISE, ARISING FROM, OUT OF OR IN CONNECTION WITH THE SOFTWARE OR THE USE OR OTHER DEALINGS IN THE SOFTWARE."
   ]
  },
  {
   "cell_type": "markdown",
   "metadata": {},
   "source": [
    "THE WORK (AS DEFINED BELOW) IS PROVIDED UNDER THE TERMS OF THIS CREATIVE COMMONS PUBLIC LICENSE (\"CCPL\" OR \"LICENSE\"). THE WORK IS PROTECTED BY COPYRIGHT AND/OR OTHER APPLICABLE LAW. ANY USE OF THE WORK OTHER THAN AS AUTHORIZED UNDER THIS LICENSE OR COPYRIGHT LAW IS PROHIBITED.\n",
    "\n",
    "BY EXERCISING ANY RIGHTS TO THE WORK PROVIDED HERE, YOU ACCEPT AND AGREE TO BE BOUND BY THE TERMS OF THIS LICENSE. TO THE EXTENT THIS LICENSE MAY BE CONSIDERED TO BE A CONTRACT, THE LICENSOR GRANTS YOU THE RIGHTS CONTAINED HERE IN CONSIDERATION OF YOUR ACCEPTANCE OF SUCH TERMS AND CONDITIONS."
   ]
  }
 ],
 "metadata": {
  "kernelspec": {
   "display_name": "Python 3",
   "language": "python",
   "name": "python3"
  },
  "language_info": {
   "codemirror_mode": {
    "name": "ipython",
    "version": 3
   },
   "file_extension": ".py",
   "mimetype": "text/x-python",
   "name": "python",
   "nbconvert_exporter": "python",
   "pygments_lexer": "ipython3",
   "version": "3.7.2"
  }
 },
 "nbformat": 4,
 "nbformat_minor": 2
}
